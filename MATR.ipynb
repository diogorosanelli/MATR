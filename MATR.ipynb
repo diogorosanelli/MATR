{
 "cells": [
  {
   "cell_type": "markdown",
   "id": "a390bee6-ec09-4011-a1d8-1de3bc07d766",
   "metadata": {
    "jp-MarkdownHeadingCollapsed": true
   },
   "source": [
    "#### **INSTALANDO RECURSOS NECESSÁRIOS**"
   ]
  },
  {
   "cell_type": "code",
   "execution_count": 335,
   "id": "ec97f836-9aec-4365-8126-6fc14d7f7c85",
   "metadata": {},
   "outputs": [],
   "source": [
    "# %pip install -q Unidecode\n",
    "# %pip install -q numpy\n",
    "# %pip install -q pandas\n",
    "# %pip install -q geopandas\n",
    "# %pip install -q shapely\n",
    "# %pip install -q folium\n",
    "# %pip install -q scikit-learn\n",
    "# %pip install -q openpyxl\n",
    "# %pip install -q matplotlib\n",
    "# %pip install -q seaborn\n",
    "# %pip install -q streamlit"
   ]
  },
  {
   "cell_type": "code",
   "execution_count": 336,
   "id": "cca50f76-14c0-4489-ab17-bc9030c588db",
   "metadata": {},
   "outputs": [],
   "source": [
    "import os\n",
    "import numpy as np\n",
    "import pandas as pd\n",
    "import matplotlib as mpl\n",
    "import geopandas as gpd\n",
    "import seaborn as sns\n",
    "import folium\n",
    "import plotly.graph_objs as go\n",
    "import plotly.io as pio\n",
    "import plotly.express as px\n",
    "import streamlit as st\n",
    "\n",
    "from shapely.geometry import Point\n",
    "from matplotlib import pyplot as plt\n",
    "from folium import GeoJson\n",
    "from folium.features import GeoJsonPopup, GeoJsonTooltip\n",
    "from unidecode import unidecode\n",
    "from sklearn.preprocessing import StandardScaler, MinMaxScaler\n",
    "from plotly.subplots import make_subplots"
   ]
  },
  {
   "cell_type": "markdown",
   "id": "b7f82685-7007-477d-b3e6-99c24d1a30cc",
   "metadata": {
    "jp-MarkdownHeadingCollapsed": true
   },
   "source": [
    "#### **DEFININDO PARÂMETROS**"
   ]
  },
  {
   "cell_type": "code",
   "execution_count": 337,
   "id": "f605d885",
   "metadata": {},
   "outputs": [],
   "source": [
    "import warnings\n",
    "warnings.filterwarnings(\"ignore\")"
   ]
  },
  {
   "cell_type": "code",
   "execution_count": 338,
   "id": "40e30313-a0cd-4ec4-b3ab-f5699473f71b",
   "metadata": {},
   "outputs": [],
   "source": [
    "# Paths\n",
    "BASE_PATH = '/mnt/d/PESSOAL/240319-RS-MATR/notebooks'\n",
    "DATA_PATH = f'{BASE_PATH}/data'\n",
    "\n",
    "# Configurações de Mapa\n",
    "DISPLAY_MAP = False\n",
    "INITIAL_COORDS = [-51.1794, -29.1678] # Caxias do Sul\n",
    "BASEMAPS = [\n",
    "    'Esri.WorldStreetMap',        # 0 \n",
    "    'Esri.WorldTopoMap',          # 1\n",
    "    'Esri.WorldImagery',          # 2\n",
    "    'OpenTopoMap',                # 3\n",
    "    'Stadia.AlidadeSmooth',       # 4\n",
    "    'Stadia.AlidadeSmoothDark',   # 5\n",
    "    'Stadia.AlidadeSatellite'     # 6\n",
    "]"
   ]
  },
  {
   "cell_type": "code",
   "execution_count": 339,
   "id": "20cc16de-fc09-4406-b5e2-2faba9c9933b",
   "metadata": {},
   "outputs": [],
   "source": [
    "# Colunas dos Dataframes\n",
    "COLS_MONITORAMENTO = [\n",
    "    'BAIRRO',\n",
    "    'data',\n",
    "    'temperatura',\n",
    "    'umidade',\n",
    "    'luminosidade',\n",
    "    'ruido',\n",
    "    'eco2',\n",
    "    'etvoc',\n",
    "    'F_PERIODO',\n",
    "    'F_HORA',\n",
    "    'F_MINUTO',\n",
    "    'F_DIA',\n",
    "    'F_MES',\n",
    "    'F_ANO',\n",
    "    'F_DIA_SEMANA'\n",
    "]\n",
    "\n",
    "COLS_SEGURANCA = [\n",
    "    'Municipio',\n",
    "    'Bairro',\n",
    "    'Data Fato',\n",
    "    'Dia Semana Fato',\n",
    "    'Hora Fato',\n",
    "    'Tipo Local',\n",
    "    'Desc Fato',\n",
    "    'Tipo Fato',\n",
    "    'Flagrante',\n",
    "    'Endereco',\n",
    "    'Nro Endereco',\n",
    "    'data',\n",
    "    'F_PERIODO',\n",
    "    'F_HORA',\n",
    "    'F_MINUTO',\n",
    "    'F_DIA',\n",
    "    'F_MES',\n",
    "    'F_ANO',\n",
    "    'F_DIA_SEMANA',\n",
    "    'F_CLASSIFICACAO'\n",
    "]\n",
    "\n",
    "COLS_SATISFACAO = [\n",
    "    'BAIRRO', \n",
    "    'Qtd respostas', \n",
    "    'Satisfação com o bairro',\n",
    "    'Satisfação com a Saúde', \n",
    "    'Prática de atividade física',\n",
    "    'Satisfação financeira', \n",
    "    'Satisfação com atividade comercial',\n",
    "    'Satisfação com qualidade do ar', \n",
    "    'Satisfação com ruído',\n",
    "    'Satisfação com espaços de lazer', \n",
    "    'Satistação com coleta de lixo',\n",
    "    'Satisfação com distância da parada de ônibus',\n",
    "    'Satisfação com qualidade das paradas de ônibus',\n",
    "    'Satisfação com acesso aos locais importantes da cidade',\n",
    "    'Sentimento de segurança', \n",
    "    'Sentimento de confiança nas pessoas',\n",
    "    'Satisfação com tratamento de esgoto'\n",
    "]"
   ]
  },
  {
   "cell_type": "markdown",
   "id": "2fbfb220-a1d9-44e9-92d6-84c62e702265",
   "metadata": {
    "jp-MarkdownHeadingCollapsed": true
   },
   "source": [
    "#### **CRIANDO CLASSES DE NEGÓCIO**"
   ]
  },
  {
   "cell_type": "code",
   "execution_count": 340,
   "id": "7bef7da7",
   "metadata": {},
   "outputs": [],
   "source": [
    "class DataLoader:\n",
    "    @staticmethod\n",
    "    def loadCSV(folderPath, fileName, separator=','):\n",
    "        \"\"\"\n",
    "        Carrega dados de um arquivo CSV em um DataFrame pandas.\n",
    "        \n",
    "        Parâmetros:\n",
    "        - folderPath (str): Caminho para a pasta onde o arquivo CSV está localizado.\n",
    "        - fileName (str): Nome do arquivo CSV.\n",
    "        \n",
    "        Retorna:\n",
    "        - DataFrame: Dados carregados do CSV.\n",
    "        \"\"\"\n",
    "        filePath = os.path.join(folderPath, f'{fileName}.csv')\n",
    "\n",
    "        try:\n",
    "            if os.path.exists(filePath):\n",
    "                df = pd.read_csv(filePath, sep=separator)\n",
    "                return df\n",
    "            else:\n",
    "                raise FileNotFoundError(f\"Arquivo {fileName} não encontrado na pasta {folderPath}.\")\n",
    "        except Exception as e:\n",
    "            print(f\"Erro ao carregar o arquivo CSV: {e}\")\n",
    "            return None\n",
    "\n",
    "    @staticmethod\n",
    "    def loadXLSX(folderPath, fileName, sheetIndex=0):\n",
    "        \"\"\"\n",
    "        Carrega dados de um arquivo XLSX em um DataFrame pandas.\n",
    "        \n",
    "        Parâmetros:\n",
    "        - folderPath (str): Caminho para a pasta onde o arquivo XLSX está localizado.\n",
    "        - fileName (str): Nome do arquivo XLSX.\n",
    "        - sheetIndex (int, opcional): Índice da planilha a ser carregada. Padrão (0).\n",
    "        \n",
    "        Retorna:\n",
    "        - DataFrame: Dados carregados do XLSX.\n",
    "        \"\"\"\n",
    "        filePath = os.path.join(folderPath, f'{fileName}.xlsx')\n",
    "        \n",
    "        try:\n",
    "            if os.path.exists(filePath):\n",
    "                df = pd.read_excel(filePath)\n",
    "                return df\n",
    "            else:\n",
    "                raise FileNotFoundError(f\"Arquivo {fileName} não encontrado na pasta {folderPath}.\")\n",
    "        except Exception as e:\n",
    "            print(f\"Erro ao carregar o arquivo XLSX: {e}\")\n",
    "            return None\n",
    "\n",
    "    @staticmethod\n",
    "    def loadSHP(folderPath, shpName):\n",
    "        \"\"\"\n",
    "        Carrega o shapefile dos limites dos bairros em um GeoDataFrame.\n",
    "        \n",
    "        Parâmetros:\n",
    "        - folderPath (str): Caminho para a pasta onde o arquivo XLSX está localizado.\n",
    "        - shpName (str): Nome do arquivo shapefile.\n",
    "        \n",
    "        Retorna:\n",
    "        - GeoDataFrame: Dados geoespaciais dos bairros.\n",
    "        \"\"\"\n",
    "        filePath = os.path.join(folderPath, f'{shpName}.shp')\n",
    "        \n",
    "        try:\n",
    "            if os.path.exists(filePath):\n",
    "                gdf = gpd.read_file(filePath)\n",
    "                return gdf\n",
    "            else:\n",
    "                raise FileNotFoundError(f\"Arquivo {filePath} não encontrado.\")\n",
    "        except Exception as e:\n",
    "            print(f\"Erro ao carregar o shapefile: {e}\")\n",
    "            return None"
   ]
  },
  {
   "cell_type": "code",
   "execution_count": 341,
   "id": "2bac43c7",
   "metadata": {},
   "outputs": [],
   "source": [
    "class MapUtils:\n",
    "    @staticmethod\n",
    "    def createMap(\n",
    "        initialCoords=[-46.633308,-23.55052], \n",
    "        zoomStart=12, \n",
    "        basemap='OpenStreetMap.Mapnik',\n",
    "        controlScale=True, \n",
    "        zoomControl=True, \n",
    "        scrollWheelZoom=True, \n",
    "        dragging=True):\n",
    "        \"\"\"\n",
    "        Cria um mapa folium com os dados de um GeoDataFrame.\n",
    "        \n",
    "        Parâmetros:\n",
    "        - initialCoords (list): Coordenadas iniciais [latitude, longitude] para centrar o mapa.\n",
    "        - zoomStart (int): Nível inicial de zoom do mapa.\n",
    "        - controlScale (boolean): Controla o nível de escala no mapa.\n",
    "        - zoomControl (boolean): Controles de zoom no mapa.\n",
    "        - scrollWheelZoom (boolean): Controla de rolagem no mouse.\n",
    "        - dragging (boolean): Controla de movimentação no mapa.\n",
    "        \n",
    "        Retorna:\n",
    "        - folium.Map: Mapa folium com os dados do GeoDataFrame.\n",
    "        \"\"\"\n",
    "        # Criar um mapa folium centrado nas coordenadas iniciais\n",
    "        fmap = folium.Map(\n",
    "            location=initialCoords[::-1], \n",
    "            zoom_start=zoomStart, \n",
    "            tiles=basemap,\n",
    "            control_scale=controlScale, \n",
    "            zoom_control=zoomControl, \n",
    "            scrollWheelZoom=scrollWheelZoom, \n",
    "            dragging=dragging)\n",
    "        return fmap\n",
    "\n",
    "    @staticmethod\n",
    "    def addLayer(\n",
    "        geoDF, \n",
    "        styleConfig=None, \n",
    "        popupField=None, \n",
    "        tooltipField=None):\n",
    "        \"\"\"\n",
    "        Adiciona uma camada de GeoDataFrame ao mapa folium com a simbologia especificada.\n",
    "        \n",
    "        Parâmetros:\n",
    "        - geoDF (GeoDataFrame): GeoDataFrame com os dados geoespaciais.\n",
    "        - styleConfig (dict): Configuração de estilo para a camada.\n",
    "        - popupField (str): Nome da coluna para exibir em popups (opcional).\n",
    "        - tooltipField (str): Nome da coluna para exibir em tooltips (opcional).\n",
    "        \n",
    "        Retorna:\n",
    "        - folium.Map: Objeto de mapa folium com a nova camada adicionada.\n",
    "        \"\"\"\n",
    "        # Configuração padrão de estilo\n",
    "        defaultStyle = {\n",
    "            'fillColor': 'blue',\n",
    "            'color': 'blue',\n",
    "            'weight': 2,\n",
    "            'fillOpacity': 0.6\n",
    "        }\n",
    "        \n",
    "        # Atualizar configuração de estilo com a fornecida pelo usuário\n",
    "        if styleConfig:\n",
    "            defaultStyle.update(styleConfig)\n",
    "        \n",
    "        # Converter GeoDataFrame para GeoJSON\n",
    "        geojson_data = geoDF.to_json()\n",
    "        \n",
    "        # Adicionar camada GeoJSON ao mapa\n",
    "        geojson_layer = GeoJson(\n",
    "            geojson_data,\n",
    "            style_function=lambda feature: defaultStyle\n",
    "        )\n",
    "        \n",
    "        # Adicionar popup se especificado\n",
    "        if popupField:\n",
    "            popup = GeoJsonPopup(fields=[popupField])\n",
    "            geojson_layer.add_child(popup)\n",
    "        \n",
    "        # Adicionar tooltip se especificado\n",
    "        if tooltipField:\n",
    "            tooltip = GeoJsonTooltip(fields=[tooltipField])\n",
    "            geojson_layer.add_child(tooltip)\n",
    "        \n",
    "        return geojson_layer\n",
    "\n",
    "    @staticmethod\n",
    "    def removeLayer(fmap, layerName):\n",
    "        \"\"\"\n",
    "        Remove uma camada do mapa folium com base no nome da camada.\n",
    "        \n",
    "        Parâmetros:\n",
    "        - fmap (folium.Map): Objeto de mapa folium.\n",
    "        - layerName (str): Nome da camada a ser removida.\n",
    "        \n",
    "        Retorna:\n",
    "        - folium.Map: Objeto de mapa folium com a camada removida.\n",
    "        \"\"\"\n",
    "        layers_to_remove = [layer for layer in fmap._children if layer == layer_name]\n",
    "        for layer in layers_to_remove:\n",
    "            del fmap._children[layer]\n",
    "        return fmap\n",
    "    \n",
    "    @staticmethod\n",
    "    def setZoomLevel(fmap, zoomLevel):\n",
    "        \"\"\"\n",
    "        Ajusta o nível de zoom do mapa folium.\n",
    "        \n",
    "        Parâmetros:\n",
    "        - fmap (folium.Map): Objeto de mapa folium.\n",
    "        - zoom_level (int): Nível de zoom desejado.\n",
    "        \n",
    "        Retorna:\n",
    "        - folium.Map: Objeto de mapa folium com o nível de zoom ajustado.\n",
    "        \"\"\"\n",
    "        fmap.options['zoom'] = zoomLevel\n",
    "        return fmap\n",
    "\n",
    "    @staticmethod\n",
    "    def createSpatialJoin(referenceDF, targetDF):\n",
    "        \"\"\"\n",
    "        Atribui bairros aos registros do DataFrame baseado em latitudes e longitudes.\n",
    "        \n",
    "        Parâmetros:\n",
    "        - referenceDF (DataFrame): DataFrame com as colunas 'LATITUDE' e 'LONGITUDE'.\n",
    "        - targetDF (GeoDataFrame): GeoDataFrame dos limites dos bairros.\n",
    "        \n",
    "        Retorna:\n",
    "        - DataFrame: DataFrame original com uma nova coluna 'BAIRRO' indicando o bairro de cada registro.\n",
    "        \"\"\"\n",
    "        # Realizar a junção espacial\n",
    "        joinDF = gpd.sjoin(targetDF, referenceDF, how=\"left\", op='intersects')\n",
    "        joinDF.drop(columns=['index_right'], inplace=True)\n",
    "        joinDF.reset_index(drop=True, inplace=True)\n",
    "        return joinDF"
   ]
  },
  {
   "cell_type": "code",
   "execution_count": 342,
   "id": "ce8729de-1cd2-4cf7-8f12-44844a28d511",
   "metadata": {},
   "outputs": [],
   "source": [
    "class ChartUtils:\n",
    "    def createGauge(title, value=50, min=0, max=100, \n",
    "                    chartColor=\"orange\", shadownColor=\"yellow\", theme='light'):\n",
    "        fig = go.Figure(go.Indicator(\n",
    "            mode=\"gauge+number\",\n",
    "            value=value,\n",
    "            title={'text': title},\n",
    "            gauge={\n",
    "                'axis': {'range': [min, max]},\n",
    "                'bar': {'color': chartColor},\n",
    "                'steps': [\n",
    "                    {'range': [min, value], 'color': shadownColor},\n",
    "                    {'range': [value, max], 'color': \"lightgray\"}\n",
    "                ]\n",
    "            }\n",
    "        ))\n",
    "        \n",
    "        if (theme=='dark'):\n",
    "            fig.update_layout(\n",
    "                font={'color': \"white\"},\n",
    "                paper_bgcolor=\"black\",\n",
    "                plot_bgcolor=\"black\"\n",
    "            )\n",
    "        \n",
    "        return fig\n",
    "\n",
    "    def getGaugeIndicatorColors(currentValue, cutoff25, cutoff75):\n",
    "        # Determinando as Cores dos Gráficos\n",
    "        colorGreen  = {\"title\":\"Normal\",  \"color\": \"#4FBA74\", \"shadown\": \"#3FA261\"}\n",
    "        colorOrange = {\"title\":\"Atenção\", \"color\": \"#FCAB10\", \"shadown\": \"#F29E02\"}\n",
    "        colorRed    = {\"title\":\"Alerta\",  \"color\": \"#F6131E\", \"shadown\": \"#D90812\"}\n",
    "\n",
    "        chartColor   = colorOrange[\"color\"]\n",
    "        chartShadown = colorOrange[\"shadown\"]\n",
    "        if currentValue < cutoff25:\n",
    "            chartColor   = colorGreen[\"color\"]\n",
    "            chartShadown = colorGreen[\"shadown\"]\n",
    "        elif currentValue > cutoff75:\n",
    "            chartColor   = colorRed[\"color\"]\n",
    "            chartShadown = colorRed[\"shadown\"]\n",
    "            \n",
    "        return chartColor, chartShadown\n",
    "    \n",
    "    def createRadar(title,\n",
    "                    dataframe, \n",
    "                    fieldClasses, \n",
    "                    colors=px.colors.sequential.Plasma_r, \n",
    "                    theme='light'):\n",
    "        plotDF = pd.melt(dataframe, id_vars=fieldClasses, var_name='theta', value_name='r')\n",
    "        fig = px.line_polar(\n",
    "            plotDF,\n",
    "            r='r',\n",
    "            theta='theta',\n",
    "            title=title,\n",
    "            color=fieldClasses,\n",
    "            line_close=True,\n",
    "            color_discrete_sequence=colors\n",
    "        )\n",
    "        \n",
    "        if (theme=='dark'):\n",
    "            fig.update_layout(\n",
    "                template=\"plotly_dark\",\n",
    "                title={\n",
    "                    'y': 0.9,\n",
    "                    'x': 0.5,\n",
    "                    'xanchor': 'center',\n",
    "                    'yanchor': 'top'\n",
    "                }\n",
    "            )\n",
    "        \n",
    "        return fig"
   ]
  },
  {
   "cell_type": "markdown",
   "id": "18a03c1a-b0d5-4b18-afea-ddbce8bdda13",
   "metadata": {
    "jp-MarkdownHeadingCollapsed": true
   },
   "source": [
    "#### **INICIANDO MAPA**"
   ]
  },
  {
   "cell_type": "code",
   "execution_count": 343,
   "id": "408d7778-96d1-4ae6-80b3-d1d7aa427f55",
   "metadata": {},
   "outputs": [],
   "source": [
    "mapMATR = None\n",
    "if (DISPLAY_MAP):\n",
    "    mapMATR = MapUtils.createMap(INITIAL_COORDS, 12, BASEMAPS[5], False, True, False, True)"
   ]
  },
  {
   "cell_type": "markdown",
   "id": "17bc91f6-8af5-452d-935a-0ff8c860a954",
   "metadata": {},
   "source": [
    "#### **ESTRUTURANDO DADOS DE MONITORAMENTO**"
   ]
  },
  {
   "cell_type": "markdown",
   "id": "09456da2-063f-4bb0-a6fb-76336af4bc19",
   "metadata": {
    "jp-MarkdownHeadingCollapsed": true
   },
   "source": [
    "##### **(1) CARREGANDO DADOS**"
   ]
  },
  {
   "cell_type": "markdown",
   "id": "dfba3cc4-9b53-4ef6-b323-ba29f8b8f16c",
   "metadata": {},
   "source": [
    "+ **BAIRROS**"
   ]
  },
  {
   "cell_type": "code",
   "execution_count": 344,
   "id": "7eba4a44-3c11-48b1-84d4-143e77ea8974",
   "metadata": {},
   "outputs": [],
   "source": [
    "DF_BAIRROS = DataLoader.loadSHP(DATA_PATH, 'RS_CAXIASDOSUL_BAIRROS')\n",
    "DF_BAIRROS.drop(columns=['numerolei', 'link_doc_b', 'observacoe',\n",
    "                         'OBJECTID', 'bairro', 'FREQUENCY', \n",
    "                         'MIN_temper', 'MAX_temper', 'MEAN_tempe', \n",
    "                         'MIN_umidad', 'MAX_umidad', 'MEAN_umida', \n",
    "                         'MIN_lumino', 'MAX_lumino', 'MEAN_lumin',\n",
    "                         'MIN_ruido', 'MAX_ruido', 'MEAN_ruido', \n",
    "                         'MIN_eco2', 'MAX_eco2', 'MEAN_eco2', \n",
    "                         'MIN_etvoc', 'MAX_etvoc', 'MEAN_etvoc', \n",
    "                         'Shape_Leng', 'Shape_Area'], \n",
    "                axis='columns', \n",
    "                inplace=True)"
   ]
  },
  {
   "cell_type": "code",
   "execution_count": 345,
   "id": "36357cb0-e7c4-4cf2-a407-b145619d3a52",
   "metadata": {},
   "outputs": [],
   "source": [
    "# Reprojetando camada de bairros\n",
    "DF_BAIRROS = DF_BAIRROS.to_crs(crs=\"EPSG:4326\")"
   ]
  },
  {
   "cell_type": "code",
   "execution_count": 346,
   "id": "4ae8ab0c-a0c8-4083-8cac-1084d7e1f271",
   "metadata": {},
   "outputs": [],
   "source": [
    "if (DISPLAY_MAP):\n",
    "    # Criando camada de bairros e adicionando ao mapa\n",
    "    lyrBairrosStyle = {\n",
    "        'fillColor': 'none',  # Sem preenchimento\n",
    "        'color': '#CDAA66',   # Cor da borda cinza\n",
    "        'weight': 1,          # Espessura da borda\n",
    "        'fillOpacity': 0      # Transparência do preenchimento\n",
    "    }\n",
    "    \n",
    "    lyrBairros = MapUtils.addLayer(DF_BAIRROS, lyrBairrosStyle, popupField='nome')\n",
    "    lyrBairros.add_to(mapMATR)"
   ]
  },
  {
   "cell_type": "markdown",
   "id": "4c5cbc09-d2de-4d28-9933-d4cc6f711d7c",
   "metadata": {},
   "source": [
    "+ **MONITORAMENTO AMBIENTAL**"
   ]
  },
  {
   "cell_type": "code",
   "execution_count": 347,
   "id": "ae865548-58a9-456e-a6fb-5aeb3519fca9",
   "metadata": {},
   "outputs": [],
   "source": [
    "# Carregar dados de Monitoramento\n",
    "DF_AMV_01 = DataLoader.loadCSV(DATA_PATH, 'AMV_01', '|')\n",
    "DF_AMV_02 = DataLoader.loadCSV(DATA_PATH, 'AMV_02', '|')\n",
    "\n",
    "# Unificando dataframes de monitoramento\n",
    "DF_AMV = pd.concat([DF_AMV_01, DF_AMV_02])\n",
    "\n",
    "# Removendo campos desnecessários\n",
    "DF_AMV.drop('device', axis='columns', inplace=True)\n",
    "\n",
    "# Removendo Latitude e Longitude zero\n",
    "DF_AMV = DF_AMV[(DF_AMV['latitude'] != 0) & (DF_AMV['longitude'] != 0)]"
   ]
  },
  {
   "cell_type": "code",
   "execution_count": 348,
   "id": "ea1f61a5-1e73-42cd-b3f1-25f2ab5f4101",
   "metadata": {},
   "outputs": [],
   "source": [
    "# Geoespacializando pontos de monitoramento\n",
    "geometry = [Point(xy) for xy in zip(DF_AMV['longitude'], DF_AMV['latitude'])]\n",
    "DF_AMV = gpd.GeoDataFrame(DF_AMV, geometry=geometry, crs=\"EPSG:4326\")"
   ]
  },
  {
   "cell_type": "code",
   "execution_count": 349,
   "id": "63e56f54-3692-46b0-90d9-e8509b8b1b88",
   "metadata": {},
   "outputs": [],
   "source": [
    "if (DISPLAY_MAP):\n",
    "    lyrAMVStyle = {\n",
    "        'icon': 'circle',   # Padrão folium Icon\n",
    "        'color': 'blue',    # Cor do ponto\n",
    "        'fillOpacity': 1.0  # Opacidade do ponto\n",
    "    }\n",
    "    \n",
    "    # Adicionando pontos ao mapa\n",
    "    lyrAMV = MapUtils.addLayer(DF_AMV, styleConfig=lyrAMVStyle)\n",
    "    lyrAMV.add_to(mapMATR)\n",
    "    mapMATR"
   ]
  },
  {
   "cell_type": "markdown",
   "id": "e1e0fd23-d8e9-4342-a725-f535d12e0ee2",
   "metadata": {},
   "source": [
    "+ **SEGURANÇA PÚBLICA**"
   ]
  },
  {
   "cell_type": "code",
   "execution_count": 350,
   "id": "34226dfb-6b95-41d0-8751-7fdbacdc6559",
   "metadata": {},
   "outputs": [],
   "source": [
    "# Carregar dados de Segurança Pública\n",
    "DF_SEGURANCA = DataLoader.loadXLSX(DATA_PATH, 'SEGURANCA_PUBLICA')"
   ]
  },
  {
   "cell_type": "markdown",
   "id": "51c481c8-60d7-483a-a70e-7591bcaa505c",
   "metadata": {},
   "source": [
    "+ **ÍNDICES DE SATISFAÇÃO DA POPULAÇÃO**"
   ]
  },
  {
   "cell_type": "code",
   "execution_count": 351,
   "id": "7d722be8-34a2-4d7f-a1bf-bffae07a9278",
   "metadata": {},
   "outputs": [],
   "source": [
    "# Carregar dados de Segurança Pública\n",
    "DF_SATISFACAO = DataLoader.loadXLSX(DATA_PATH, 'SATISFACAO')"
   ]
  },
  {
   "cell_type": "markdown",
   "id": "a8b15858-de55-4468-b4c7-0c527eccb06e",
   "metadata": {
    "jp-MarkdownHeadingCollapsed": true
   },
   "source": [
    "##### **(2) RELACIONANDO CAMADAS**"
   ]
  },
  {
   "cell_type": "markdown",
   "id": "016f49e1-db81-4d69-8c21-1ba3d2320196",
   "metadata": {},
   "source": [
    "+ **MONITORAMENTO AMBIENTAL ← BAIRROS**"
   ]
  },
  {
   "cell_type": "code",
   "execution_count": 352,
   "id": "8146d1e9-c565-4d2a-bfb2-1bbc42debf43",
   "metadata": {},
   "outputs": [],
   "source": [
    "DF_AMV_BAIRRO = MapUtils.createSpatialJoin(referenceDF=DF_BAIRROS,targetDF=DF_AMV)\n",
    "DF_AMV_BAIRRO.rename(columns={'nome':'bairro'}, inplace=True)"
   ]
  },
  {
   "cell_type": "code",
   "execution_count": 353,
   "id": "e16b2733-0e6d-44e8-b792-20e818e5967e",
   "metadata": {},
   "outputs": [],
   "source": [
    "if (DISPLAY_MAP):\n",
    "    lyrAMVStyle = {\n",
    "        'icon': 'circle',    # Padrão folium Icon\n",
    "        'color': 'red',      # Cor do ponto\n",
    "        'fillOpacity': 0.75  # Opacidade do ponto\n",
    "    }\n",
    "    \n",
    "    # Adicionando pontos ao mapa\n",
    "    lyrAMVBairro = MapUtils.addLayer(DF_AMV_BAIRRO, styleConfig=lyrAMVStyle)\n",
    "    lyrAMVBairro.add_to(mapMATR)\n",
    "    mapMATR"
   ]
  },
  {
   "cell_type": "markdown",
   "id": "c86c737f-7471-4df0-b805-434c5a63c937",
   "metadata": {},
   "source": [
    "##### **(3) PADRONIZANDO DADOS**"
   ]
  },
  {
   "cell_type": "code",
   "execution_count": 354,
   "id": "b5423130-276f-4bbe-9239-32ec17e64d62",
   "metadata": {},
   "outputs": [],
   "source": [
    "def checkDayPeriod(hora):\n",
    "    if 5 <= hora < 12: return 'Manhã'\n",
    "    elif 12 <= hora < 18: return 'Tarde'\n",
    "    else: return 'Noite'\n",
    "\n",
    "# Função para classificar os fatos\n",
    "def classifyCrime(row):\n",
    "    if row['Tipo Fato'] == 'Tentado' and 'HOMICIDIO' in row['Desc Fato']:\n",
    "        return 'Tentativa de Homicídio'\n",
    "    elif row['Tipo Fato'] == 'Tentado' and 'ROUBO' in row['Desc Fato']:\n",
    "        return 'Tentativa de Roubo'\n",
    "    elif row['Tipo Fato'] == 'Consumado' and 'HOMICIDIO' in row['Desc Fato']:\n",
    "        return 'Homicídio'\n",
    "    elif row['Tipo Fato'] == 'Consumado' and 'ROUBO' in row['Desc Fato']:\n",
    "        return 'Roubo'\n",
    "    else:\n",
    "        return 'Outros'\n",
    "    \n",
    "DAY_NAME_MAP = {\n",
    "    'Monday': 'SEG',\n",
    "    'Tuesday': 'TER',\n",
    "    'Wednesday': 'QUA',\n",
    "    'Thursday': 'QUI',\n",
    "    'Friday': 'SEX',\n",
    "    'Saturday': 'SAB',\n",
    "    'Sunday': 'DOM'\n",
    "}"
   ]
  },
  {
   "cell_type": "markdown",
   "id": "a1458b6e-a3c3-489c-b11f-d0ebd07bea2c",
   "metadata": {},
   "source": [
    "+ **MONITORAMENTO AMBIENTAL**"
   ]
  },
  {
   "cell_type": "code",
   "execution_count": 355,
   "id": "5291adbe-c715-49ae-910c-5e5acf18d13d",
   "metadata": {},
   "outputs": [],
   "source": [
    "# Padronizando valores da coluna de Bairro\n",
    "DF_AMV_BAIRRO['bairro'] = DF_AMV_BAIRRO['bairro'].apply(lambda x: unidecode(str(x)).upper())\n",
    "\n",
    "# Removendo registros de bairro nulos\n",
    "DF_AMV_BAIRRO = DF_AMV_BAIRRO.dropna(subset=['bairro'])\n",
    "\n",
    "# Renomeando coluna de BAIRRO utilizada para busca\n",
    "DF_AMV_BAIRRO.rename(columns={'bairro': 'BAIRRO'}, inplace=True)"
   ]
  },
  {
   "cell_type": "code",
   "execution_count": 356,
   "id": "fece621b-4766-46c4-ac9f-0a8c887b2a44",
   "metadata": {},
   "outputs": [],
   "source": [
    "# Determinar formato do campo data\n",
    "DF_AMV_BAIRRO['data'] = pd.to_datetime(DF_AMV_BAIRRO['data'])\n",
    "DF_AMV_BAIRRO['day_name'] = DF_AMV_BAIRRO['data'].dt.day_name()"
   ]
  },
  {
   "cell_type": "code",
   "execution_count": 357,
   "id": "d4927976",
   "metadata": {},
   "outputs": [],
   "source": [
    "# Criar campos de período, data, hora e dia da semana\n",
    "DF_AMV_BAIRRO['F_PERIODO'] = DF_AMV_BAIRRO['data'].dt.hour.apply(checkDayPeriod)\n",
    "DF_AMV_BAIRRO['F_HORA'] = DF_AMV_BAIRRO['data'].dt.strftime('%H').astype(int)\n",
    "DF_AMV_BAIRRO['F_MINUTO'] = DF_AMV_BAIRRO['data'].dt.strftime('%M').astype(int)\n",
    "DF_AMV_BAIRRO['F_DIA'] = DF_AMV_BAIRRO['data'].dt.strftime('%d').astype(int)\n",
    "DF_AMV_BAIRRO['F_MES'] = DF_AMV_BAIRRO['data'].dt.strftime('%m').astype(int)\n",
    "DF_AMV_BAIRRO['F_ANO'] = DF_AMV_BAIRRO['data'].dt.strftime('%Y').astype(int)\n",
    "DF_AMV_BAIRRO['F_DIA_SEMANA'] = DF_AMV_BAIRRO['day_name'].map(DAY_NAME_MAP)"
   ]
  },
  {
   "cell_type": "code",
   "execution_count": 358,
   "id": "3016a742",
   "metadata": {},
   "outputs": [],
   "source": [
    "# Apagar campos de processamento temporários\n",
    "DF_AMV_BAIRRO.drop(columns=['day_name'], inplace=True)"
   ]
  },
  {
   "cell_type": "code",
   "execution_count": 359,
   "id": "c1239cd8-66dd-405f-91e3-30eb72bd4295",
   "metadata": {},
   "outputs": [
    {
     "data": {
      "text/html": [
       "<div>\n",
       "<style scoped>\n",
       "    .dataframe tbody tr th:only-of-type {\n",
       "        vertical-align: middle;\n",
       "    }\n",
       "\n",
       "    .dataframe tbody tr th {\n",
       "        vertical-align: top;\n",
       "    }\n",
       "\n",
       "    .dataframe thead th {\n",
       "        text-align: right;\n",
       "    }\n",
       "</style>\n",
       "<table border=\"1\" class=\"dataframe\">\n",
       "  <thead>\n",
       "    <tr style=\"text-align: right;\">\n",
       "      <th></th>\n",
       "      <th>BAIRRO</th>\n",
       "      <th>data</th>\n",
       "      <th>temperatura</th>\n",
       "      <th>umidade</th>\n",
       "      <th>luminosidade</th>\n",
       "      <th>ruido</th>\n",
       "      <th>eco2</th>\n",
       "      <th>etvoc</th>\n",
       "      <th>F_PERIODO</th>\n",
       "      <th>F_HORA</th>\n",
       "      <th>F_MINUTO</th>\n",
       "      <th>F_DIA</th>\n",
       "      <th>F_MES</th>\n",
       "      <th>F_ANO</th>\n",
       "      <th>F_DIA_SEMANA</th>\n",
       "    </tr>\n",
       "  </thead>\n",
       "  <tbody>\n",
       "    <tr>\n",
       "      <th>0</th>\n",
       "      <td>SAO CIRO</td>\n",
       "      <td>2023-11-05 21:02:35.366163</td>\n",
       "      <td>12.8</td>\n",
       "      <td>85.3</td>\n",
       "      <td>11.9</td>\n",
       "      <td>109.5</td>\n",
       "      <td>5.0</td>\n",
       "      <td>439.0</td>\n",
       "      <td>Noite</td>\n",
       "      <td>21</td>\n",
       "      <td>2</td>\n",
       "      <td>5</td>\n",
       "      <td>11</td>\n",
       "      <td>2023</td>\n",
       "      <td>DOM</td>\n",
       "    </tr>\n",
       "    <tr>\n",
       "      <th>1</th>\n",
       "      <td>SAO CIRO</td>\n",
       "      <td>2023-11-05 21:02:50.368767</td>\n",
       "      <td>12.8</td>\n",
       "      <td>85.3</td>\n",
       "      <td>11.9</td>\n",
       "      <td>109.6</td>\n",
       "      <td>5.0</td>\n",
       "      <td>439.0</td>\n",
       "      <td>Noite</td>\n",
       "      <td>21</td>\n",
       "      <td>2</td>\n",
       "      <td>5</td>\n",
       "      <td>11</td>\n",
       "      <td>2023</td>\n",
       "      <td>DOM</td>\n",
       "    </tr>\n",
       "    <tr>\n",
       "      <th>2</th>\n",
       "      <td>DIAMANTINO</td>\n",
       "      <td>2023-11-05 21:03:05.202832</td>\n",
       "      <td>12.8</td>\n",
       "      <td>85.3</td>\n",
       "      <td>9.5</td>\n",
       "      <td>108.4</td>\n",
       "      <td>1.0</td>\n",
       "      <td>411.0</td>\n",
       "      <td>Noite</td>\n",
       "      <td>21</td>\n",
       "      <td>3</td>\n",
       "      <td>5</td>\n",
       "      <td>11</td>\n",
       "      <td>2023</td>\n",
       "      <td>DOM</td>\n",
       "    </tr>\n",
       "  </tbody>\n",
       "</table>\n",
       "</div>"
      ],
      "text/plain": [
       "       BAIRRO                       data  temperatura  umidade  luminosidade  \\\n",
       "0    SAO CIRO 2023-11-05 21:02:35.366163         12.8     85.3          11.9   \n",
       "1    SAO CIRO 2023-11-05 21:02:50.368767         12.8     85.3          11.9   \n",
       "2  DIAMANTINO 2023-11-05 21:03:05.202832         12.8     85.3           9.5   \n",
       "\n",
       "   ruido  eco2  etvoc F_PERIODO  F_HORA  F_MINUTO  F_DIA  F_MES  F_ANO  \\\n",
       "0  109.5   5.0  439.0     Noite      21         2      5     11   2023   \n",
       "1  109.6   5.0  439.0     Noite      21         2      5     11   2023   \n",
       "2  108.4   1.0  411.0     Noite      21         3      5     11   2023   \n",
       "\n",
       "  F_DIA_SEMANA  \n",
       "0          DOM  \n",
       "1          DOM  \n",
       "2          DOM  "
      ]
     },
     "execution_count": 359,
     "metadata": {},
     "output_type": "execute_result"
    }
   ],
   "source": [
    "DF_AMV_BAIRRO[COLS_MONITORAMENTO].head(3)"
   ]
  },
  {
   "cell_type": "markdown",
   "id": "87a787aa-8c28-4b93-8c5a-5d11108dbae5",
   "metadata": {},
   "source": [
    "+ **SEGURANÇA PÚBLICA**"
   ]
  },
  {
   "cell_type": "code",
   "execution_count": 360,
   "id": "6272585f-e03e-4649-a4b9-85bcffe586c6",
   "metadata": {},
   "outputs": [],
   "source": [
    "# Padronizando valores das colunas Bairro e Município\n",
    "DF_SEGURANCA['Bairro'] = DF_SEGURANCA['Bairro'].apply(lambda x: unidecode(str(x)).upper())\n",
    "DF_SEGURANCA['Municipio'] = DF_SEGURANCA['Municipio'].apply(lambda x: unidecode(str(x)).upper())"
   ]
  },
  {
   "cell_type": "code",
   "execution_count": 361,
   "id": "229d52fb-35ba-4201-b3ea-549a7aa1f3ad",
   "metadata": {},
   "outputs": [],
   "source": [
    "# Determinar formato do campo data\n",
    "DF_SEGURANCA['datafato'] = DF_SEGURANCA['Data Fato'].dt.strftime('%Y-%m-%d')\n",
    "DF_SEGURANCA['horafato'] = DF_SEGURANCA['Hora Fato'].astype(str)\n",
    "\n",
    "DF_SEGURANCA['data'] = pd.to_datetime(DF_SEGURANCA['datafato'] + ' ' + DF_SEGURANCA['horafato'])\n",
    "DF_SEGURANCA['day_name'] = DF_SEGURANCA['data'].dt.day_name()"
   ]
  },
  {
   "cell_type": "code",
   "execution_count": 362,
   "id": "2a991144",
   "metadata": {},
   "outputs": [],
   "source": [
    "# Criar campos de período, data, e hora\n",
    "DF_SEGURANCA['F_PERIODO'] = DF_AMV_BAIRRO['data'].dt.hour.apply(checkDayPeriod)\n",
    "DF_SEGURANCA['F_HORA'] = DF_AMV_BAIRRO['data'].dt.strftime('%H').astype(int)\n",
    "DF_SEGURANCA['F_MINUTO'] = DF_SEGURANCA['data'].dt.strftime('%M').astype(int)\n",
    "DF_SEGURANCA['F_DIA'] = DF_SEGURANCA['data'].dt.strftime('%d').astype(int)\n",
    "DF_SEGURANCA['F_MES'] = DF_SEGURANCA['data'].dt.strftime('%m').astype(int)\n",
    "DF_SEGURANCA['F_ANO'] = DF_SEGURANCA['data'].dt.strftime('%Y').astype(int)\n",
    "DF_SEGURANCA['F_DIA_SEMANA'] = DF_SEGURANCA['day_name'].map(DAY_NAME_MAP)"
   ]
  },
  {
   "cell_type": "code",
   "execution_count": 363,
   "id": "6523db95",
   "metadata": {},
   "outputs": [],
   "source": [
    "# Criar campo de classificação do crime\n",
    "DF_SEGURANCA['F_CLASSIFICACAO'] = DF_SEGURANCA.apply(classifyCrime, axis=1)"
   ]
  },
  {
   "cell_type": "code",
   "execution_count": 364,
   "id": "f2785756",
   "metadata": {},
   "outputs": [],
   "source": [
    "# Apagar campos de processamento temporários\n",
    "DF_SEGURANCA.drop(columns=['day_name','datafato','horafato'], inplace=True)"
   ]
  },
  {
   "cell_type": "code",
   "execution_count": 365,
   "id": "ec4d2509-94b0-4385-995f-f08e8ed1c09e",
   "metadata": {},
   "outputs": [
    {
     "data": {
      "text/html": [
       "<div>\n",
       "<style scoped>\n",
       "    .dataframe tbody tr th:only-of-type {\n",
       "        vertical-align: middle;\n",
       "    }\n",
       "\n",
       "    .dataframe tbody tr th {\n",
       "        vertical-align: top;\n",
       "    }\n",
       "\n",
       "    .dataframe thead th {\n",
       "        text-align: right;\n",
       "    }\n",
       "</style>\n",
       "<table border=\"1\" class=\"dataframe\">\n",
       "  <thead>\n",
       "    <tr style=\"text-align: right;\">\n",
       "      <th></th>\n",
       "      <th>Municipio</th>\n",
       "      <th>Bairro</th>\n",
       "      <th>Data Fato</th>\n",
       "      <th>Dia Semana Fato</th>\n",
       "      <th>Hora Fato</th>\n",
       "      <th>Tipo Local</th>\n",
       "      <th>Desc Fato</th>\n",
       "      <th>Tipo Fato</th>\n",
       "      <th>Flagrante</th>\n",
       "      <th>Endereco</th>\n",
       "      <th>Nro Endereco</th>\n",
       "      <th>data</th>\n",
       "      <th>F_PERIODO</th>\n",
       "      <th>F_HORA</th>\n",
       "      <th>F_MINUTO</th>\n",
       "      <th>F_DIA</th>\n",
       "      <th>F_MES</th>\n",
       "      <th>F_ANO</th>\n",
       "      <th>F_DIA_SEMANA</th>\n",
       "      <th>F_CLASSIFICACAO</th>\n",
       "    </tr>\n",
       "  </thead>\n",
       "  <tbody>\n",
       "    <tr>\n",
       "      <th>0</th>\n",
       "      <td>CAXIAS DO SUL</td>\n",
       "      <td>SAO VIRGILIO</td>\n",
       "      <td>2019-08-20</td>\n",
       "      <td>terça-feira</td>\n",
       "      <td>16:08</td>\n",
       "      <td>Outros</td>\n",
       "      <td>HOMICIDIO DECORRENTE DE OPOSICAO A INTERVENCAO...</td>\n",
       "      <td>Consumado</td>\n",
       "      <td>Sem Flagrante</td>\n",
       "      <td>R. Conde DEu</td>\n",
       "      <td></td>\n",
       "      <td>2019-08-20 16:08:00</td>\n",
       "      <td>Noite</td>\n",
       "      <td>21</td>\n",
       "      <td>8</td>\n",
       "      <td>20</td>\n",
       "      <td>8</td>\n",
       "      <td>2019</td>\n",
       "      <td>TER</td>\n",
       "      <td>Homicídio</td>\n",
       "    </tr>\n",
       "    <tr>\n",
       "      <th>1</th>\n",
       "      <td>CAXIAS DO SUL</td>\n",
       "      <td>CHARQUEADAS</td>\n",
       "      <td>2019-07-06</td>\n",
       "      <td>sábado</td>\n",
       "      <td>01:07</td>\n",
       "      <td>Via pública</td>\n",
       "      <td>ROUBO A PEDESTRE COM MORTE</td>\n",
       "      <td>Consumado</td>\n",
       "      <td>Com Flagrante</td>\n",
       "      <td>R. Cristiano Ramos de Oliveira</td>\n",
       "      <td>330</td>\n",
       "      <td>2019-07-06 01:07:00</td>\n",
       "      <td>Noite</td>\n",
       "      <td>21</td>\n",
       "      <td>7</td>\n",
       "      <td>6</td>\n",
       "      <td>7</td>\n",
       "      <td>2019</td>\n",
       "      <td>SAB</td>\n",
       "      <td>Roubo</td>\n",
       "    </tr>\n",
       "    <tr>\n",
       "      <th>2</th>\n",
       "      <td>CAXIAS DO SUL</td>\n",
       "      <td>CENTRO</td>\n",
       "      <td>2019-09-21</td>\n",
       "      <td>sábado</td>\n",
       "      <td>01:09</td>\n",
       "      <td>Via pública</td>\n",
       "      <td>HOMICIDIO DOLOSO</td>\n",
       "      <td>Tentado</td>\n",
       "      <td>Sem Flagrante</td>\n",
       "      <td>R. Cel. Camisão</td>\n",
       "      <td>225</td>\n",
       "      <td>2019-09-21 01:09:00</td>\n",
       "      <td>Noite</td>\n",
       "      <td>21</td>\n",
       "      <td>9</td>\n",
       "      <td>21</td>\n",
       "      <td>9</td>\n",
       "      <td>2019</td>\n",
       "      <td>SAB</td>\n",
       "      <td>Tentativa de Homicídio</td>\n",
       "    </tr>\n",
       "  </tbody>\n",
       "</table>\n",
       "</div>"
      ],
      "text/plain": [
       "       Municipio        Bairro  Data Fato Dia Semana Fato Hora Fato  \\\n",
       "0  CAXIAS DO SUL  SAO VIRGILIO 2019-08-20     terça-feira     16:08   \n",
       "1  CAXIAS DO SUL   CHARQUEADAS 2019-07-06          sábado     01:07   \n",
       "2  CAXIAS DO SUL        CENTRO 2019-09-21          sábado     01:09   \n",
       "\n",
       "    Tipo Local                                          Desc Fato  Tipo Fato  \\\n",
       "0       Outros  HOMICIDIO DECORRENTE DE OPOSICAO A INTERVENCAO...  Consumado   \n",
       "1  Via pública                         ROUBO A PEDESTRE COM MORTE  Consumado   \n",
       "2  Via pública                                   HOMICIDIO DOLOSO    Tentado   \n",
       "\n",
       "       Flagrante                        Endereco Nro Endereco  \\\n",
       "0  Sem Flagrante                    R. Conde DEu                \n",
       "1  Com Flagrante  R. Cristiano Ramos de Oliveira         330    \n",
       "2  Sem Flagrante                 R. Cel. Camisão         225    \n",
       "\n",
       "                 data F_PERIODO  F_HORA  F_MINUTO  F_DIA  F_MES  F_ANO  \\\n",
       "0 2019-08-20 16:08:00     Noite      21         8     20      8   2019   \n",
       "1 2019-07-06 01:07:00     Noite      21         7      6      7   2019   \n",
       "2 2019-09-21 01:09:00     Noite      21         9     21      9   2019   \n",
       "\n",
       "  F_DIA_SEMANA         F_CLASSIFICACAO  \n",
       "0          TER               Homicídio  \n",
       "1          SAB                   Roubo  \n",
       "2          SAB  Tentativa de Homicídio  "
      ]
     },
     "execution_count": 365,
     "metadata": {},
     "output_type": "execute_result"
    }
   ],
   "source": [
    "DF_SEGURANCA[COLS_SEGURANCA].head(3)"
   ]
  },
  {
   "cell_type": "markdown",
   "id": "501a32bd-5041-4972-9eb2-6a68deefb856",
   "metadata": {},
   "source": [
    "+ **SATISFAÇÃO DA POPULAÇÃO**"
   ]
  },
  {
   "cell_type": "code",
   "execution_count": 366,
   "id": "b558f27c-8a69-4852-99b3-e98b07007eb8",
   "metadata": {},
   "outputs": [],
   "source": [
    "# Padronizando valores das colunas Bairro\n",
    "DF_SATISFACAO['BAIRRO'] = DF_SATISFACAO['BAIRRO'].apply(lambda x: unidecode(str(x)).upper())"
   ]
  },
  {
   "cell_type": "code",
   "execution_count": 367,
   "id": "cb5db1d2",
   "metadata": {},
   "outputs": [],
   "source": [
    "DF_SATISFACAO_STATS = DF_SATISFACAO.groupby('BAIRRO').agg({\n",
    "  'Qtd respostas': 'sum',\n",
    "  'Satisfação com o bairro': 'mean',\n",
    "  'Satisfação com a Saúde': 'mean',\n",
    "  'Prática de atividade física': 'mean',\n",
    "  'Satisfação financeira': 'mean',\n",
    "  'Satisfação com atividade comercial': 'mean',\n",
    "  'Satisfação com qualidade do ar': 'mean',\n",
    "  'Satisfação com ruído': 'mean',\n",
    "  'Satisfação com espaços de lazer': 'mean',\n",
    "  'Satistação com coleta de lixo': 'mean',\n",
    "  'Satisfação com distância da parada de ônibus': 'mean',\n",
    "  'Satisfação com qualidade das paradas de ônibus': 'mean',\n",
    "  'Satisfação com acesso aos locais importantes da cidade': 'mean',\n",
    "  'Sentimento de segurança': 'mean',\n",
    "  'Sentimento de confiança nas pessoas': 'mean',\n",
    "  'Satisfação com tratamento de esgoto': 'mean'\n",
    "})"
   ]
  },
  {
   "cell_type": "code",
   "execution_count": 368,
   "id": "ce922f38-0700-41c1-bb7d-fbc546e79256",
   "metadata": {},
   "outputs": [
    {
     "data": {
      "text/html": [
       "<div>\n",
       "<style scoped>\n",
       "    .dataframe tbody tr th:only-of-type {\n",
       "        vertical-align: middle;\n",
       "    }\n",
       "\n",
       "    .dataframe tbody tr th {\n",
       "        vertical-align: top;\n",
       "    }\n",
       "\n",
       "    .dataframe thead th {\n",
       "        text-align: right;\n",
       "    }\n",
       "</style>\n",
       "<table border=\"1\" class=\"dataframe\">\n",
       "  <thead>\n",
       "    <tr style=\"text-align: right;\">\n",
       "      <th></th>\n",
       "      <th>BAIRRO</th>\n",
       "      <th>Qtd respostas</th>\n",
       "      <th>Satisfação com o bairro</th>\n",
       "      <th>Satisfação com a Saúde</th>\n",
       "      <th>Prática de atividade física</th>\n",
       "      <th>Satisfação financeira</th>\n",
       "      <th>Satisfação com atividade comercial</th>\n",
       "      <th>Satisfação com qualidade do ar</th>\n",
       "      <th>Satisfação com ruído</th>\n",
       "      <th>Satisfação com espaços de lazer</th>\n",
       "      <th>Satistação com coleta de lixo</th>\n",
       "      <th>Satisfação com distância da parada de ônibus</th>\n",
       "      <th>Satisfação com qualidade das paradas de ônibus</th>\n",
       "      <th>Satisfação com acesso aos locais importantes da cidade</th>\n",
       "      <th>Sentimento de segurança</th>\n",
       "      <th>Sentimento de confiança nas pessoas</th>\n",
       "      <th>Satisfação com tratamento de esgoto</th>\n",
       "    </tr>\n",
       "  </thead>\n",
       "  <tbody>\n",
       "    <tr>\n",
       "      <th>0</th>\n",
       "      <td>ANA RECH</td>\n",
       "      <td>30</td>\n",
       "      <td>5.40</td>\n",
       "      <td>4.17</td>\n",
       "      <td>4.73</td>\n",
       "      <td>4.57</td>\n",
       "      <td>4.97</td>\n",
       "      <td>4.80</td>\n",
       "      <td>4.33</td>\n",
       "      <td>3.33</td>\n",
       "      <td>5.10</td>\n",
       "      <td>4.90</td>\n",
       "      <td>3.97</td>\n",
       "      <td>3.40</td>\n",
       "      <td>4.83</td>\n",
       "      <td>5.20</td>\n",
       "      <td>4.90</td>\n",
       "    </tr>\n",
       "    <tr>\n",
       "      <th>1</th>\n",
       "      <td>BELA VISTA</td>\n",
       "      <td>24</td>\n",
       "      <td>5.75</td>\n",
       "      <td>4.75</td>\n",
       "      <td>3.67</td>\n",
       "      <td>4.92</td>\n",
       "      <td>5.00</td>\n",
       "      <td>5.25</td>\n",
       "      <td>4.21</td>\n",
       "      <td>3.25</td>\n",
       "      <td>5.13</td>\n",
       "      <td>4.46</td>\n",
       "      <td>4.13</td>\n",
       "      <td>4.83</td>\n",
       "      <td>4.54</td>\n",
       "      <td>4.67</td>\n",
       "      <td>5.33</td>\n",
       "    </tr>\n",
       "    <tr>\n",
       "      <th>2</th>\n",
       "      <td>CENTRO</td>\n",
       "      <td>41</td>\n",
       "      <td>5.56</td>\n",
       "      <td>4.98</td>\n",
       "      <td>4.76</td>\n",
       "      <td>4.98</td>\n",
       "      <td>5.76</td>\n",
       "      <td>5.05</td>\n",
       "      <td>4.15</td>\n",
       "      <td>3.39</td>\n",
       "      <td>5.93</td>\n",
       "      <td>4.73</td>\n",
       "      <td>4.02</td>\n",
       "      <td>5.39</td>\n",
       "      <td>3.63</td>\n",
       "      <td>4.12</td>\n",
       "      <td>6.07</td>\n",
       "    </tr>\n",
       "  </tbody>\n",
       "</table>\n",
       "</div>"
      ],
      "text/plain": [
       "       BAIRRO  Qtd respostas  Satisfação com o bairro  Satisfação com a Saúde  \\\n",
       "0    ANA RECH             30                     5.40                    4.17   \n",
       "1  BELA VISTA             24                     5.75                    4.75   \n",
       "2      CENTRO             41                     5.56                    4.98   \n",
       "\n",
       "   Prática de atividade física  Satisfação financeira  \\\n",
       "0                         4.73                   4.57   \n",
       "1                         3.67                   4.92   \n",
       "2                         4.76                   4.98   \n",
       "\n",
       "   Satisfação com atividade comercial  Satisfação com qualidade do ar  \\\n",
       "0                                4.97                            4.80   \n",
       "1                                5.00                            5.25   \n",
       "2                                5.76                            5.05   \n",
       "\n",
       "   Satisfação com ruído  Satisfação com espaços de lazer  \\\n",
       "0                  4.33                             3.33   \n",
       "1                  4.21                             3.25   \n",
       "2                  4.15                             3.39   \n",
       "\n",
       "   Satistação com coleta de lixo  \\\n",
       "0                           5.10   \n",
       "1                           5.13   \n",
       "2                           5.93   \n",
       "\n",
       "   Satisfação com distância da parada de ônibus  \\\n",
       "0                                          4.90   \n",
       "1                                          4.46   \n",
       "2                                          4.73   \n",
       "\n",
       "   Satisfação com qualidade das paradas de ônibus  \\\n",
       "0                                            3.97   \n",
       "1                                            4.13   \n",
       "2                                            4.02   \n",
       "\n",
       "   Satisfação com acesso aos locais importantes da cidade  \\\n",
       "0                                               3.40        \n",
       "1                                               4.83        \n",
       "2                                               5.39        \n",
       "\n",
       "   Sentimento de segurança  Sentimento de confiança nas pessoas  \\\n",
       "0                     4.83                                 5.20   \n",
       "1                     4.54                                 4.67   \n",
       "2                     3.63                                 4.12   \n",
       "\n",
       "   Satisfação com tratamento de esgoto  \n",
       "0                                 4.90  \n",
       "1                                 5.33  \n",
       "2                                 6.07  "
      ]
     },
     "execution_count": 368,
     "metadata": {},
     "output_type": "execute_result"
    }
   ],
   "source": [
    "DF_SATISFACAO[COLS_SATISFACAO].head(3)"
   ]
  },
  {
   "cell_type": "markdown",
   "id": "2b3a295c-7e60-4def-bf52-44624aa313b4",
   "metadata": {},
   "source": [
    "#### **CONFIGURANDO DADOS ANALÍTICOS**"
   ]
  },
  {
   "cell_type": "markdown",
   "id": "35f26fb0",
   "metadata": {},
   "source": [
    "##### **(1) CONFIGURAR FILTROS**"
   ]
  },
  {
   "cell_type": "code",
   "execution_count": 369,
   "id": "7a76ab67",
   "metadata": {},
   "outputs": [],
   "source": [
    "FILTROS = {\n",
    "  'BAIRRO': DF_AMV_BAIRRO['BAIRRO'].unique(),\n",
    "  'PERÍODO': DF_AMV_BAIRRO['F_PERIODO'].unique(),\n",
    "  'HORA': DF_AMV_BAIRRO['F_HORA'].unique(),\n",
    "  'MINUTO': DF_AMV_BAIRRO['F_MINUTO'].unique(),\n",
    "  'DIA': DF_AMV_BAIRRO['F_DIA'].unique(),\n",
    "  'MÊS': DF_AMV_BAIRRO['F_MES'].unique(),\n",
    "  'ANO': DF_AMV_BAIRRO['F_ANO'].unique(),\n",
    "  'DIA DA SEMANA': DF_AMV_BAIRRO['F_DIA_SEMANA'].unique(),\n",
    "}\n",
    "\n",
    "# FILTROS\n",
    "FILTRO_BAIRRO         = ['CRUZEIRO','CENTENARIO','PRESIDENTE VARGAS']\n",
    "FILTRO_PERIODO        = 'MANHÃ'\n",
    "FILTRO_DIA_SEMANA     = 'DOM'\n",
    "\n",
    "# DATA E HORA (DE)\n",
    "FILTRO_DIA_DE         = 1\n",
    "FILTRO_MES_DE         = 11\n",
    "FILTRO_ANO_DE         = 2023\n",
    "FILTRO_HORA_DE        = 0\n",
    "FILTRO_MINUTO_DE      = 1\n",
    "\n",
    "# DATA E HORA (ATÉ)\n",
    "FILTRO_DIA_ATE        = 30\n",
    "FILTRO_MES_ATE        = 11\n",
    "FILTRO_ANO_ATE        = 2023\n",
    "FILTRO_HORA_ATE       = 23\n",
    "FILTRO_MINUTO_ATE     = 59\n",
    "\n",
    "# APLICANDO FILTRO\n",
    "DF_AMV_FILTERED = DF_AMV_BAIRRO[DF_AMV_BAIRRO['BAIRRO'].isin(FILTRO_BAIRRO)]"
   ]
  },
  {
   "cell_type": "markdown",
   "id": "1e9cf1e8",
   "metadata": {},
   "source": [
    "##### **(2) CRIAR GRÁFICOS DE INDICADORES**"
   ]
  },
  {
   "cell_type": "markdown",
   "id": "9a2a48f4",
   "metadata": {},
   "source": [
    "+ **CALCULANDO VALORES DE REFERÊNCIA PARA INDICADORES**"
   ]
  },
  {
   "cell_type": "code",
   "execution_count": 370,
   "id": "d0d91c50",
   "metadata": {},
   "outputs": [],
   "source": [
    "# TEMPERATURA\n",
    "TEMPERATURE_MIN = DF_AMV_FILTERED['temperatura'].min()\n",
    "TEMPERATURE_MAX = DF_AMV_FILTERED['temperatura'].max()\n",
    "TEMPERATURE_MEAN = DF_AMV_FILTERED['temperatura'].mean()\n",
    "TEMPERATURE_CUTOFF_25 = TEMPERATURE_MIN + 0.25 * (TEMPERATURE_MAX - TEMPERATURE_MIN)\n",
    "TEMPERATURE_CUTOFF_75 = TEMPERATURE_MIN + 0.75 * (TEMPERATURE_MAX - TEMPERATURE_MIN)\n",
    "\n",
    "# UMIDADE\n",
    "UMIDADE_MIN = DF_AMV_FILTERED['umidade'].min()\n",
    "UMIDADE_MAX = DF_AMV_FILTERED['umidade'].max()\n",
    "UMIDADE_MEAN = DF_AMV_FILTERED['umidade'].mean()\n",
    "UMIDADE_CUTOFF_25 = UMIDADE_MIN + 0.25 * (UMIDADE_MAX - UMIDADE_MIN)\n",
    "UMIDADE_CUTOFF_75 = UMIDADE_MIN + 0.75 * (UMIDADE_MAX - UMIDADE_MIN)\n",
    "\n",
    "# LUMINOSIDADE\n",
    "LUMINOSIDADE_MIN = DF_AMV_FILTERED['luminosidade'].min()\n",
    "LUMINOSIDADE_MAX = DF_AMV_FILTERED['luminosidade'].max()\n",
    "LUMINOSIDADE_MEAN = DF_AMV_FILTERED['luminosidade'].mean()\n",
    "LUMINOSIDADE_CUTOFF_25 = LUMINOSIDADE_MIN + 0.25 * (LUMINOSIDADE_MAX - LUMINOSIDADE_MIN)\n",
    "LUMINOSIDADE_CUTOFF_75 = LUMINOSIDADE_MIN + 0.75 * (LUMINOSIDADE_MAX - LUMINOSIDADE_MIN)\n",
    "\n",
    "# RUÍDO\n",
    "RUIDO_MIN = DF_AMV_FILTERED['ruido'].min()\n",
    "RUIDO_MAX = DF_AMV_FILTERED['ruido'].max()\n",
    "RUIDO_MEAN = DF_AMV_FILTERED['ruido'].mean()\n",
    "RUIDO_CUTOFF_25 = RUIDO_MIN + 0.25 * (RUIDO_MAX - RUIDO_MIN)\n",
    "RUIDO_CUTOFF_75 = RUIDO_MIN + 0.75 * (RUIDO_MAX - RUIDO_MIN)\n",
    "\n",
    "# CO2\n",
    "CO2_MIN = DF_AMV_FILTERED['eco2'].min()\n",
    "CO2_MAX = DF_AMV_FILTERED['eco2'].max()\n",
    "CO2_MEAN = DF_AMV_FILTERED['eco2'].mean()\n",
    "CO2_CUTOFF_25 = CO2_MIN + 0.25 * (CO2_MAX - CO2_MIN)\n",
    "CO2_CUTOFF_75 = CO2_MIN + 0.75 * (CO2_MAX - CO2_MIN)\n",
    "\n",
    "# TVOC\n",
    "TVOC_MIN = DF_AMV_FILTERED['etvoc'].min()\n",
    "TVOC_MAX = DF_AMV_FILTERED['etvoc'].max()\n",
    "TVOC_MEAN = DF_AMV_FILTERED['etvoc'].mean()\n",
    "TVOC_CUTOFF_25 = TVOC_MIN + 0.25 * (TVOC_MAX - TVOC_MIN)\n",
    "TVOC_CUTOFF_75 = TVOC_MIN + 0.75 * (TVOC_MAX - TVOC_MIN)"
   ]
  },
  {
   "cell_type": "markdown",
   "id": "903cec6f",
   "metadata": {},
   "source": [
    "+ **CONFIGURANDO GRÁFICOS**"
   ]
  },
  {
   "cell_type": "code",
   "execution_count": 371,
   "id": "566b6f6c",
   "metadata": {},
   "outputs": [],
   "source": [
    "indicatorCharts = []\n",
    "\n",
    "# GRÁFICO DE TEMPERATURA\n",
    "chartTemperatureColor, chartTemperatureShadown = ChartUtils.getGaugeIndicatorColors(\n",
    "  TEMPERATURE_MEAN, \n",
    "  TEMPERATURE_CUTOFF_25, \n",
    "  TEMPERATURE_CUTOFF_75\n",
    ")\n",
    "chartTemperature = ChartUtils.createGauge(\n",
    "  title=\"Temperatura (°C)\",\n",
    "  value=TEMPERATURE_MEAN,\n",
    "  min=TEMPERATURE_MIN,\n",
    "  max=TEMPERATURE_MAX,\n",
    "  chartColor=f\"{chartTemperatureColor}\",\n",
    "  shadownColor=f\"{chartTemperatureShadown}\",\n",
    "  theme='dark'\n",
    ")\n",
    "indicatorCharts.append(chartTemperature)\n",
    "\n",
    "# GRÁFICO DE UMIDADE\n",
    "chartUmidadeColor, chartUmidadeShadown = ChartUtils.getGaugeIndicatorColors(\n",
    "  UMIDADE_MEAN, \n",
    "  UMIDADE_CUTOFF_25, \n",
    "  UMIDADE_CUTOFF_75\n",
    ")\n",
    "chartUmidade = ChartUtils.createGauge(\n",
    "  title=\"Umidade\",\n",
    "  value=UMIDADE_MEAN,\n",
    "  min=UMIDADE_MIN,\n",
    "  max=UMIDADE_MAX,\n",
    "  chartColor=f\"{chartUmidadeColor}\",\n",
    "  shadownColor=f\"{chartUmidadeShadown}\",\n",
    "  theme='dark'\n",
    ")\n",
    "indicatorCharts.append(chartUmidade)\n",
    "\n",
    "# GRÁFICO DE LUMINOSIDADE\n",
    "chartLuminosidadeColor, chartLuminosidadeShadown = ChartUtils.getGaugeIndicatorColors(\n",
    "  LUMINOSIDADE_MEAN, \n",
    "  LUMINOSIDADE_CUTOFF_25, \n",
    "  LUMINOSIDADE_CUTOFF_75\n",
    ")\n",
    "chartLuminosidade = ChartUtils.createGauge(\n",
    "  title=\"Luminosidade\",\n",
    "  value=LUMINOSIDADE_MEAN,\n",
    "  min=LUMINOSIDADE_MIN,\n",
    "  max=LUMINOSIDADE_MAX,\n",
    "  chartColor=f\"{chartLuminosidadeColor}\",\n",
    "  shadownColor=f\"{chartLuminosidadeShadown}\",\n",
    "  theme='dark'\n",
    ")\n",
    "indicatorCharts.append(chartLuminosidade)\n",
    "\n",
    "# GRÁFICO DE RUÍDO\n",
    "chartRuidoColor, chartRuidoShadown = ChartUtils.getGaugeIndicatorColors(\n",
    "  RUIDO_MEAN, \n",
    "  RUIDO_CUTOFF_25, \n",
    "  RUIDO_CUTOFF_75\n",
    ")\n",
    "chartRuido = ChartUtils.createGauge(\n",
    "  title=\"Ruído\",\n",
    "  value=RUIDO_MEAN,\n",
    "  min=RUIDO_MIN,\n",
    "  max=RUIDO_MAX,\n",
    "  chartColor=f\"{chartRuidoColor}\",\n",
    "  shadownColor=f\"{chartRuidoShadown}\",\n",
    "  theme='dark'\n",
    ")\n",
    "indicatorCharts.append(chartRuido)\n",
    "\n",
    "# GRÁFICO DE CO2\n",
    "chartCO2Color, chartCO2Shadown = ChartUtils.getGaugeIndicatorColors(\n",
    "  CO2_MEAN, \n",
    "  CO2_CUTOFF_25, \n",
    "  CO2_CUTOFF_75\n",
    ")\n",
    "chartCO2 = ChartUtils.createGauge(\n",
    "  title=\"CO₂\",\n",
    "  value=CO2_MEAN,\n",
    "  min=CO2_MIN,\n",
    "  max=CO2_MAX,\n",
    "  chartColor=f\"{chartCO2Color}\",\n",
    "  shadownColor=f\"{chartCO2Shadown}\",\n",
    "  theme='dark'\n",
    ")\n",
    "indicatorCharts.append(chartCO2)\n",
    "\n",
    "# GRÁFICO DE TVOC\n",
    "chartTVOCColor, chartTVOCShadown = ChartUtils.getGaugeIndicatorColors(\n",
    "  TVOC_MEAN, \n",
    "  TVOC_CUTOFF_25, \n",
    "  TVOC_CUTOFF_75\n",
    ")\n",
    "chartTVOC = ChartUtils.createGauge(\n",
    "  title=\"TVOC\",\n",
    "  value=TVOC_MEAN,\n",
    "  min=TVOC_MIN,\n",
    "  max=TVOC_MAX,\n",
    "  chartColor=f\"{chartTVOCColor}\",\n",
    "  shadownColor=f\"{chartTVOCShadown}\",\n",
    "  theme='dark'\n",
    ")\n",
    "indicatorCharts.append(chartTVOC)"
   ]
  },
  {
   "cell_type": "markdown",
   "id": "c16c8904",
   "metadata": {},
   "source": [
    "+ **VISUALIZANDO GRÁFICOS GERADOS**"
   ]
  },
  {
   "cell_type": "code",
   "execution_count": 372,
   "id": "e9a08c73",
   "metadata": {},
   "outputs": [
    {
     "data": {
      "application/vnd.plotly.v1+json": {
       "config": {
        "plotlyServerURL": "https://plot.ly"
       },
       "data": [
        {
         "domain": {
          "x": [
           0,
           0.45
          ],
          "y": [
           0.7333333333333333,
           1
          ]
         },
         "gauge": {
          "axis": {
           "range": [
            9.5,
            40.8
           ]
          },
          "bar": {
           "color": "#FCAB10"
          },
          "steps": [
           {
            "color": "#F29E02",
            "range": [
             9.5,
             21.97480422199523
            ]
           },
           {
            "color": "lightgray",
            "range": [
             21.97480422199523,
             40.8
            ]
           }
          ]
         },
         "mode": "gauge+number",
         "title": {
          "text": "Temperatura (°C)"
         },
         "type": "indicator",
         "value": 21.97480422199523
        },
        {
         "domain": {
          "x": [
           0.55,
           1
          ],
          "y": [
           0.7333333333333333,
           1
          ]
         },
         "gauge": {
          "axis": {
           "range": [
            24.6,
            97.8
           ]
          },
          "bar": {
           "color": "#FCAB10"
          },
          "steps": [
           {
            "color": "#F29E02",
            "range": [
             24.6,
             72.97116104868914
            ]
           },
           {
            "color": "lightgray",
            "range": [
             72.97116104868914,
             97.8
            ]
           }
          ]
         },
         "mode": "gauge+number",
         "title": {
          "text": "Umidade"
         },
         "type": "indicator",
         "value": 72.97116104868914
        },
        {
         "domain": {
          "x": [
           0,
           0.45
          ],
          "y": [
           0.36666666666666664,
           0.6333333333333333
          ]
         },
         "gauge": {
          "axis": {
           "range": [
            -1,
            27306.2
           ]
          },
          "bar": {
           "color": "#4FBA74"
          },
          "steps": [
           {
            "color": "#3FA261",
            "range": [
             -1,
             6468.294909771876
            ]
           },
           {
            "color": "lightgray",
            "range": [
             6468.294909771876,
             27306.2
            ]
           }
          ]
         },
         "mode": "gauge+number",
         "title": {
          "text": "Luminosidade"
         },
         "type": "indicator",
         "value": 6468.294909771876
        },
        {
         "domain": {
          "x": [
           0.55,
           1
          ],
          "y": [
           0.36666666666666664,
           0.6333333333333333
          ]
         },
         "gauge": {
          "axis": {
           "range": [
            0,
            120
           ]
          },
          "bar": {
           "color": "#F6131E"
          },
          "steps": [
           {
            "color": "#D90812",
            "range": [
             0,
             101.35795028941097
            ]
           },
           {
            "color": "lightgray",
            "range": [
             101.35795028941097,
             120
            ]
           }
          ]
         },
         "mode": "gauge+number",
         "title": {
          "text": "Ruído"
         },
         "type": "indicator",
         "value": 101.35795028941097
        },
        {
         "domain": {
          "x": [
           0,
           0.45
          ],
          "y": [
           0,
           0.26666666666666666
          ]
         },
         "gauge": {
          "axis": {
           "range": [
            0,
            7798
           ]
          },
          "bar": {
           "color": "#4FBA74"
          },
          "steps": [
           {
            "color": "#3FA261",
            "range": [
             0,
             57.28855975485189
            ]
           },
           {
            "color": "lightgray",
            "range": [
             57.28855975485189,
             7798
            ]
           }
          ]
         },
         "mode": "gauge+number",
         "title": {
          "text": "CO₂"
         },
         "type": "indicator",
         "value": 57.28855975485189
        },
        {
         "domain": {
          "x": [
           0.55,
           1
          ],
          "y": [
           0,
           0.26666666666666666
          ]
         },
         "gauge": {
          "axis": {
           "range": [
            400,
            5315
           ]
          },
          "bar": {
           "color": "#4FBA74"
          },
          "steps": [
           {
            "color": "#3FA261",
            "range": [
             400,
             603.2061627511066
            ]
           },
           {
            "color": "lightgray",
            "range": [
             603.2061627511066,
             5315
            ]
           }
          ]
         },
         "mode": "gauge+number",
         "title": {
          "text": "TVOC"
         },
         "type": "indicator",
         "value": 603.2061627511066
        }
       ],
       "layout": {
        "font": {
         "color": "white"
        },
        "height": 900,
        "paper_bgcolor": "black",
        "plot_bgcolor": "black",
        "showlegend": false,
        "template": {
         "data": {
          "candlestick": [
           {
            "decreasing": {
             "line": {
              "color": "#000033"
             }
            },
            "increasing": {
             "line": {
              "color": "#000032"
             }
            },
            "type": "candlestick"
           }
          ],
          "contour": [
           {
            "colorscale": [
             [
              0,
              "#000011"
             ],
             [
              0.1111111111111111,
              "#000012"
             ],
             [
              0.2222222222222222,
              "#000013"
             ],
             [
              0.3333333333333333,
              "#000014"
             ],
             [
              0.4444444444444444,
              "#000015"
             ],
             [
              0.5555555555555556,
              "#000016"
             ],
             [
              0.6666666666666666,
              "#000017"
             ],
             [
              0.7777777777777778,
              "#000018"
             ],
             [
              0.8888888888888888,
              "#000019"
             ],
             [
              1,
              "#000020"
             ]
            ],
            "type": "contour"
           }
          ],
          "contourcarpet": [
           {
            "colorscale": [
             [
              0,
              "#000011"
             ],
             [
              0.1111111111111111,
              "#000012"
             ],
             [
              0.2222222222222222,
              "#000013"
             ],
             [
              0.3333333333333333,
              "#000014"
             ],
             [
              0.4444444444444444,
              "#000015"
             ],
             [
              0.5555555555555556,
              "#000016"
             ],
             [
              0.6666666666666666,
              "#000017"
             ],
             [
              0.7777777777777778,
              "#000018"
             ],
             [
              0.8888888888888888,
              "#000019"
             ],
             [
              1,
              "#000020"
             ]
            ],
            "type": "contourcarpet"
           }
          ],
          "heatmap": [
           {
            "colorscale": [
             [
              0,
              "#000011"
             ],
             [
              0.1111111111111111,
              "#000012"
             ],
             [
              0.2222222222222222,
              "#000013"
             ],
             [
              0.3333333333333333,
              "#000014"
             ],
             [
              0.4444444444444444,
              "#000015"
             ],
             [
              0.5555555555555556,
              "#000016"
             ],
             [
              0.6666666666666666,
              "#000017"
             ],
             [
              0.7777777777777778,
              "#000018"
             ],
             [
              0.8888888888888888,
              "#000019"
             ],
             [
              1,
              "#000020"
             ]
            ],
            "type": "heatmap"
           }
          ],
          "histogram2d": [
           {
            "colorscale": [
             [
              0,
              "#000011"
             ],
             [
              0.1111111111111111,
              "#000012"
             ],
             [
              0.2222222222222222,
              "#000013"
             ],
             [
              0.3333333333333333,
              "#000014"
             ],
             [
              0.4444444444444444,
              "#000015"
             ],
             [
              0.5555555555555556,
              "#000016"
             ],
             [
              0.6666666666666666,
              "#000017"
             ],
             [
              0.7777777777777778,
              "#000018"
             ],
             [
              0.8888888888888888,
              "#000019"
             ],
             [
              1,
              "#000020"
             ]
            ],
            "type": "histogram2d"
           }
          ],
          "icicle": [
           {
            "textfont": {
             "color": "white"
            },
            "type": "icicle"
           }
          ],
          "sankey": [
           {
            "textfont": {
             "color": "#000036"
            },
            "type": "sankey"
           }
          ],
          "scatter": [
           {
            "marker": {
             "line": {
              "width": 0
             }
            },
            "type": "scatter"
           }
          ],
          "table": [
           {
            "cells": {
             "fill": {
              "color": "#000038"
             },
             "font": {
              "color": "#000037"
             },
             "line": {
              "color": "#000039"
             }
            },
            "header": {
             "fill": {
              "color": "#000040"
             },
             "font": {
              "color": "#000036"
             },
             "line": {
              "color": "#000039"
             }
            },
            "type": "table"
           }
          ],
          "waterfall": [
           {
            "connector": {
             "line": {
              "color": "#000036",
              "width": 2
             }
            },
            "decreasing": {
             "marker": {
              "color": "#000033"
             }
            },
            "increasing": {
             "marker": {
              "color": "#000032"
             }
            },
            "totals": {
             "marker": {
              "color": "#000034"
             }
            },
            "type": "waterfall"
           }
          ]
         },
         "layout": {
          "coloraxis": {
           "colorscale": [
            [
             0,
             "#000011"
            ],
            [
             0.1111111111111111,
             "#000012"
            ],
            [
             0.2222222222222222,
             "#000013"
            ],
            [
             0.3333333333333333,
             "#000014"
            ],
            [
             0.4444444444444444,
             "#000015"
            ],
            [
             0.5555555555555556,
             "#000016"
            ],
            [
             0.6666666666666666,
             "#000017"
            ],
            [
             0.7777777777777778,
             "#000018"
            ],
            [
             0.8888888888888888,
             "#000019"
            ],
            [
             1,
             "#000020"
            ]
           ]
          },
          "colorscale": {
           "diverging": [
            [
             0,
             "#000021"
            ],
            [
             0.1,
             "#000022"
            ],
            [
             0.2,
             "#000023"
            ],
            [
             0.3,
             "#000024"
            ],
            [
             0.4,
             "#000025"
            ],
            [
             0.5,
             "#000026"
            ],
            [
             0.6,
             "#000027"
            ],
            [
             0.7,
             "#000028"
            ],
            [
             0.8,
             "#000029"
            ],
            [
             0.9,
             "#000030"
            ],
            [
             1,
             "#000031"
            ]
           ],
           "sequential": [
            [
             0,
             "#000011"
            ],
            [
             0.1111111111111111,
             "#000012"
            ],
            [
             0.2222222222222222,
             "#000013"
            ],
            [
             0.3333333333333333,
             "#000014"
            ],
            [
             0.4444444444444444,
             "#000015"
            ],
            [
             0.5555555555555556,
             "#000016"
            ],
            [
             0.6666666666666666,
             "#000017"
            ],
            [
             0.7777777777777778,
             "#000018"
            ],
            [
             0.8888888888888888,
             "#000019"
            ],
            [
             1,
             "#000020"
            ]
           ],
           "sequentialminus": [
            [
             0,
             "#000011"
            ],
            [
             0.1111111111111111,
             "#000012"
            ],
            [
             0.2222222222222222,
             "#000013"
            ],
            [
             0.3333333333333333,
             "#000014"
            ],
            [
             0.4444444444444444,
             "#000015"
            ],
            [
             0.5555555555555556,
             "#000016"
            ],
            [
             0.6666666666666666,
             "#000017"
            ],
            [
             0.7777777777777778,
             "#000018"
            ],
            [
             0.8888888888888888,
             "#000019"
            ],
            [
             1,
             "#000020"
            ]
           ]
          },
          "colorway": [
           "#000001",
           "#000002",
           "#000003",
           "#000004",
           "#000005",
           "#000006",
           "#000007",
           "#000008",
           "#000009",
           "#000010"
          ]
         }
        }
       }
      },
      "text/html": [
       "<div>                            <div id=\"eb7cefb4-1b34-4175-b964-9ed34a20a143\" class=\"plotly-graph-div\" style=\"height:900px; width:100%;\"></div>            <script type=\"text/javascript\">                require([\"plotly\"], function(Plotly) {                    window.PLOTLYENV=window.PLOTLYENV || {};                                    if (document.getElementById(\"eb7cefb4-1b34-4175-b964-9ed34a20a143\")) {                    Plotly.newPlot(                        \"eb7cefb4-1b34-4175-b964-9ed34a20a143\",                        [{\"gauge\":{\"axis\":{\"range\":[9.5,40.8]},\"bar\":{\"color\":\"#FCAB10\"},\"steps\":[{\"color\":\"#F29E02\",\"range\":[9.5,21.97480422199523]},{\"color\":\"lightgray\",\"range\":[21.97480422199523,40.8]}]},\"mode\":\"gauge+number\",\"title\":{\"text\":\"Temperatura (\\u00b0C)\"},\"value\":21.97480422199523,\"type\":\"indicator\",\"domain\":{\"x\":[0.0,0.45],\"y\":[0.7333333333333333,1.0]}},{\"gauge\":{\"axis\":{\"range\":[24.6,97.8]},\"bar\":{\"color\":\"#FCAB10\"},\"steps\":[{\"color\":\"#F29E02\",\"range\":[24.6,72.97116104868914]},{\"color\":\"lightgray\",\"range\":[72.97116104868914,97.8]}]},\"mode\":\"gauge+number\",\"title\":{\"text\":\"Umidade\"},\"value\":72.97116104868914,\"type\":\"indicator\",\"domain\":{\"x\":[0.55,1.0],\"y\":[0.7333333333333333,1.0]}},{\"gauge\":{\"axis\":{\"range\":[-1.0,27306.2]},\"bar\":{\"color\":\"#4FBA74\"},\"steps\":[{\"color\":\"#3FA261\",\"range\":[-1.0,6468.294909771876]},{\"color\":\"lightgray\",\"range\":[6468.294909771876,27306.2]}]},\"mode\":\"gauge+number\",\"title\":{\"text\":\"Luminosidade\"},\"value\":6468.294909771876,\"type\":\"indicator\",\"domain\":{\"x\":[0.0,0.45],\"y\":[0.36666666666666664,0.6333333333333333]}},{\"gauge\":{\"axis\":{\"range\":[0.0,120.0]},\"bar\":{\"color\":\"#F6131E\"},\"steps\":[{\"color\":\"#D90812\",\"range\":[0.0,101.35795028941097]},{\"color\":\"lightgray\",\"range\":[101.35795028941097,120.0]}]},\"mode\":\"gauge+number\",\"title\":{\"text\":\"Ru\\u00eddo\"},\"value\":101.35795028941097,\"type\":\"indicator\",\"domain\":{\"x\":[0.55,1.0],\"y\":[0.36666666666666664,0.6333333333333333]}},{\"gauge\":{\"axis\":{\"range\":[0.0,7798.0]},\"bar\":{\"color\":\"#4FBA74\"},\"steps\":[{\"color\":\"#3FA261\",\"range\":[0.0,57.28855975485189]},{\"color\":\"lightgray\",\"range\":[57.28855975485189,7798.0]}]},\"mode\":\"gauge+number\",\"title\":{\"text\":\"CO\\u2082\"},\"value\":57.28855975485189,\"type\":\"indicator\",\"domain\":{\"x\":[0.0,0.45],\"y\":[0.0,0.26666666666666666]}},{\"gauge\":{\"axis\":{\"range\":[400.0,5315.0]},\"bar\":{\"color\":\"#4FBA74\"},\"steps\":[{\"color\":\"#3FA261\",\"range\":[400.0,603.2061627511066]},{\"color\":\"lightgray\",\"range\":[603.2061627511066,5315.0]}]},\"mode\":\"gauge+number\",\"title\":{\"text\":\"TVOC\"},\"value\":603.2061627511066,\"type\":\"indicator\",\"domain\":{\"x\":[0.55,1.0],\"y\":[0.0,0.26666666666666666]}}],                        {\"template\":{\"data\":{\"candlestick\":[{\"decreasing\":{\"line\":{\"color\":\"#000033\"}},\"increasing\":{\"line\":{\"color\":\"#000032\"}},\"type\":\"candlestick\"}],\"contourcarpet\":[{\"colorscale\":[[0.0,\"#000011\"],[0.1111111111111111,\"#000012\"],[0.2222222222222222,\"#000013\"],[0.3333333333333333,\"#000014\"],[0.4444444444444444,\"#000015\"],[0.5555555555555556,\"#000016\"],[0.6666666666666666,\"#000017\"],[0.7777777777777778,\"#000018\"],[0.8888888888888888,\"#000019\"],[1.0,\"#000020\"]],\"type\":\"contourcarpet\"}],\"contour\":[{\"colorscale\":[[0.0,\"#000011\"],[0.1111111111111111,\"#000012\"],[0.2222222222222222,\"#000013\"],[0.3333333333333333,\"#000014\"],[0.4444444444444444,\"#000015\"],[0.5555555555555556,\"#000016\"],[0.6666666666666666,\"#000017\"],[0.7777777777777778,\"#000018\"],[0.8888888888888888,\"#000019\"],[1.0,\"#000020\"]],\"type\":\"contour\"}],\"heatmap\":[{\"colorscale\":[[0.0,\"#000011\"],[0.1111111111111111,\"#000012\"],[0.2222222222222222,\"#000013\"],[0.3333333333333333,\"#000014\"],[0.4444444444444444,\"#000015\"],[0.5555555555555556,\"#000016\"],[0.6666666666666666,\"#000017\"],[0.7777777777777778,\"#000018\"],[0.8888888888888888,\"#000019\"],[1.0,\"#000020\"]],\"type\":\"heatmap\"}],\"histogram2d\":[{\"colorscale\":[[0.0,\"#000011\"],[0.1111111111111111,\"#000012\"],[0.2222222222222222,\"#000013\"],[0.3333333333333333,\"#000014\"],[0.4444444444444444,\"#000015\"],[0.5555555555555556,\"#000016\"],[0.6666666666666666,\"#000017\"],[0.7777777777777778,\"#000018\"],[0.8888888888888888,\"#000019\"],[1.0,\"#000020\"]],\"type\":\"histogram2d\"}],\"icicle\":[{\"textfont\":{\"color\":\"white\"},\"type\":\"icicle\"}],\"sankey\":[{\"textfont\":{\"color\":\"#000036\"},\"type\":\"sankey\"}],\"scatter\":[{\"marker\":{\"line\":{\"width\":0}},\"type\":\"scatter\"}],\"table\":[{\"cells\":{\"fill\":{\"color\":\"#000038\"},\"font\":{\"color\":\"#000037\"},\"line\":{\"color\":\"#000039\"}},\"header\":{\"fill\":{\"color\":\"#000040\"},\"font\":{\"color\":\"#000036\"},\"line\":{\"color\":\"#000039\"}},\"type\":\"table\"}],\"waterfall\":[{\"connector\":{\"line\":{\"color\":\"#000036\",\"width\":2}},\"decreasing\":{\"marker\":{\"color\":\"#000033\"}},\"increasing\":{\"marker\":{\"color\":\"#000032\"}},\"totals\":{\"marker\":{\"color\":\"#000034\"}},\"type\":\"waterfall\"}]},\"layout\":{\"coloraxis\":{\"colorscale\":[[0.0,\"#000011\"],[0.1111111111111111,\"#000012\"],[0.2222222222222222,\"#000013\"],[0.3333333333333333,\"#000014\"],[0.4444444444444444,\"#000015\"],[0.5555555555555556,\"#000016\"],[0.6666666666666666,\"#000017\"],[0.7777777777777778,\"#000018\"],[0.8888888888888888,\"#000019\"],[1.0,\"#000020\"]]},\"colorscale\":{\"diverging\":[[0.0,\"#000021\"],[0.1,\"#000022\"],[0.2,\"#000023\"],[0.3,\"#000024\"],[0.4,\"#000025\"],[0.5,\"#000026\"],[0.6,\"#000027\"],[0.7,\"#000028\"],[0.8,\"#000029\"],[0.9,\"#000030\"],[1.0,\"#000031\"]],\"sequential\":[[0.0,\"#000011\"],[0.1111111111111111,\"#000012\"],[0.2222222222222222,\"#000013\"],[0.3333333333333333,\"#000014\"],[0.4444444444444444,\"#000015\"],[0.5555555555555556,\"#000016\"],[0.6666666666666666,\"#000017\"],[0.7777777777777778,\"#000018\"],[0.8888888888888888,\"#000019\"],[1.0,\"#000020\"]],\"sequentialminus\":[[0.0,\"#000011\"],[0.1111111111111111,\"#000012\"],[0.2222222222222222,\"#000013\"],[0.3333333333333333,\"#000014\"],[0.4444444444444444,\"#000015\"],[0.5555555555555556,\"#000016\"],[0.6666666666666666,\"#000017\"],[0.7777777777777778,\"#000018\"],[0.8888888888888888,\"#000019\"],[1.0,\"#000020\"]]},\"colorway\":[\"#000001\",\"#000002\",\"#000003\",\"#000004\",\"#000005\",\"#000006\",\"#000007\",\"#000008\",\"#000009\",\"#000010\"]}},\"font\":{\"color\":\"white\"},\"paper_bgcolor\":\"black\",\"plot_bgcolor\":\"black\",\"height\":900,\"showlegend\":false},                        {\"responsive\": true}                    ).then(function(){\n",
       "                            \n",
       "var gd = document.getElementById('eb7cefb4-1b34-4175-b964-9ed34a20a143');\n",
       "var x = new MutationObserver(function (mutations, observer) {{\n",
       "        var display = window.getComputedStyle(gd).display;\n",
       "        if (!display || display === 'none') {{\n",
       "            console.log([gd, 'removed!']);\n",
       "            Plotly.purge(gd);\n",
       "            observer.disconnect();\n",
       "        }}\n",
       "}});\n",
       "\n",
       "// Listen for the removal of the full notebook cells\n",
       "var notebookContainer = gd.closest('#notebook-container');\n",
       "if (notebookContainer) {{\n",
       "    x.observe(notebookContainer, {childList: true});\n",
       "}}\n",
       "\n",
       "// Listen for the clearing of the current output cell\n",
       "var outputEl = gd.closest('.output');\n",
       "if (outputEl) {{\n",
       "    x.observe(outputEl, {childList: true});\n",
       "}}\n",
       "\n",
       "                        })                };                });            </script>        </div>"
      ]
     },
     "metadata": {},
     "output_type": "display_data"
    }
   ],
   "source": [
    "# Criar subplots\n",
    "fig = make_subplots(\n",
    "    rows=3, cols=2,\n",
    "    specs=[\n",
    "        [{\"type\": \"indicator\"}, {\"type\": \"indicator\"}],\n",
    "        [{\"type\": \"indicator\"}, {\"type\": \"indicator\"}],\n",
    "        [{\"type\": \"indicator\"}, {\"type\": \"indicator\"}]\n",
    "    ]\n",
    ")\n",
    "\n",
    "# Adicionar gráficos aos subplots\n",
    "for i, chart in enumerate(indicatorCharts):\n",
    "    row = i // 2 + 1\n",
    "    col = i % 2 + 1\n",
    "    fig.add_trace(chart.data[0], row=row, col=col)\n",
    "\n",
    "# Atualizar layout\n",
    "fig.update_layout(\n",
    "    font={'color': \"white\"},\n",
    "    paper_bgcolor=\"black\",\n",
    "    plot_bgcolor=\"black\",\n",
    "    height=900, \n",
    "    showlegend=False)\n",
    "\n",
    "# Mostrar gráfico\n",
    "fig.show()"
   ]
  },
  {
   "cell_type": "markdown",
   "id": "1c909df7",
   "metadata": {},
   "source": [
    "##### **(3) CONFIGURANDO GRÁFICO COMPARATIVO**"
   ]
  },
  {
   "cell_type": "code",
   "execution_count": 373,
   "id": "70a6b74c",
   "metadata": {},
   "outputs": [],
   "source": [
    "COLS_MONITORAMENTO_GROUP = ['BAIRRO']\n",
    "\n",
    "# Interpolando valores das colunas de indicadores\n",
    "COLS_MONITORAMENTO_RADAR = [\n",
    "    'TEMPERATURA', \n",
    "    'UMIDADE', \n",
    "    'LUMINOSIDADE', \n",
    "    'RUIDO', \n",
    "    'CO2', \n",
    "    'ETVOC'\n",
    "]\n",
    "\n",
    "COLS_MONITORAMENTO_N = [\n",
    "    'N_TEMPERATURA', \n",
    "    'N_UMIDADE', \n",
    "    'N_LUMINOSIDADE', \n",
    "    'N_RUIDO', \n",
    "    'N_CO2', \n",
    "    'N_ETVOC'\n",
    "]"
   ]
  },
  {
   "cell_type": "markdown",
   "id": "5140db4f",
   "metadata": {},
   "source": [
    "+ **CONFIGURANDO DADOS DE MONITORAMENTO**"
   ]
  },
  {
   "cell_type": "code",
   "execution_count": 374,
   "id": "a92664bb",
   "metadata": {},
   "outputs": [],
   "source": [
    "DF_AMV_RADAR = DF_AMV_FILTERED[['BAIRRO',\n",
    "                                'temperatura',\n",
    "                                'umidade',\n",
    "                                'luminosidade',\n",
    "                                'ruido',\n",
    "                                'eco2',\n",
    "                                'etvoc']]\n",
    "\n",
    "DF_AMV_RADAR.rename(\n",
    "  columns={'temperatura': 'TEMPERATURA',\n",
    "           'umidade': 'UMIDADE',\n",
    "           'luminosidade': 'LUMINOSIDADE',\n",
    "           'ruido': 'RUIDO',\n",
    "           'eco2': 'CO2',\n",
    "           'etvoc': 'ETVOC'},\n",
    "  inplace=True\n",
    ")"
   ]
  },
  {
   "cell_type": "markdown",
   "id": "6d6f28ba",
   "metadata": {},
   "source": [
    "+ **INTERPOLANDO VALORES DE INDICADORES**"
   ]
  },
  {
   "cell_type": "code",
   "execution_count": 375,
   "id": "1cc09d14",
   "metadata": {},
   "outputs": [],
   "source": [
    "DF_AMV_RADAR[f'{COLS_MONITORAMENTO_N[0]}'] = DF_AMV_RADAR[f'{COLS_MONITORAMENTO_RADAR[0]}']\n",
    "DF_AMV_RADAR[f'{COLS_MONITORAMENTO_N[1]}'] = DF_AMV_RADAR[f'{COLS_MONITORAMENTO_RADAR[1]}']\n",
    "DF_AMV_RADAR[f'{COLS_MONITORAMENTO_N[2]}'] = DF_AMV_RADAR[f'{COLS_MONITORAMENTO_RADAR[2]}']\n",
    "DF_AMV_RADAR[f'{COLS_MONITORAMENTO_N[3]}'] = DF_AMV_RADAR[f'{COLS_MONITORAMENTO_RADAR[3]}']\n",
    "DF_AMV_RADAR[f'{COLS_MONITORAMENTO_N[4]}'] = DF_AMV_RADAR[f'{COLS_MONITORAMENTO_RADAR[4]}']\n",
    "DF_AMV_RADAR[f'{COLS_MONITORAMENTO_N[5]}'] = DF_AMV_RADAR[f'{COLS_MONITORAMENTO_RADAR[5]}']\n",
    "\n",
    "scaler = MinMaxScaler()\n",
    "DF_AMV_RADAR[COLS_MONITORAMENTO_N] = scaler.fit_transform(DF_AMV_RADAR[COLS_MONITORAMENTO_N])"
   ]
  },
  {
   "cell_type": "markdown",
   "id": "4565f282",
   "metadata": {},
   "source": [
    "+ **AJUSTANDO DADOS FINAIS PARA COMPARAÇÃO**"
   ]
  },
  {
   "cell_type": "code",
   "execution_count": 379,
   "id": "140e30f1",
   "metadata": {},
   "outputs": [],
   "source": [
    "DF_AMV_RADAR_PLOT = DF_AMV_RADAR.groupby(COLS_MONITORAMENTO_GROUP).mean()\n",
    "\n",
    "DF_AMV_RADAR_PLOT.drop(\n",
    "    columns=['TEMPERATURA','UMIDADE', 'LUMINOSIDADE', 'RUIDO', 'CO2', 'ETVOC'], \n",
    "    axis='columns', \n",
    "    inplace=True\n",
    ")\n",
    "\n",
    "DF_AMV_RADAR_PLOT.rename(\n",
    "columns={\n",
    "    'N_TEMPERATURA': 'TEMPERATURA', \n",
    "    'N_UMIDADE': 'UMIDADE', \n",
    "    'N_LUMINOSIDADE': 'LUMINOSIDADE', \n",
    "    'N_RUIDO': 'RUIDO', \n",
    "    'N_CO2': 'CO2', \n",
    "    'N_ETVOC': 'ETVOC'},\n",
    "inplace=True\n",
    ")\n",
    "\n",
    "DF_AMV_RADAR_PLOT.reset_index(inplace=True)"
   ]
  },
  {
   "cell_type": "code",
   "execution_count": 380,
   "id": "f64f9798",
   "metadata": {},
   "outputs": [
    {
     "data": {
      "text/html": [
       "<div>\n",
       "<style scoped>\n",
       "    .dataframe tbody tr th:only-of-type {\n",
       "        vertical-align: middle;\n",
       "    }\n",
       "\n",
       "    .dataframe tbody tr th {\n",
       "        vertical-align: top;\n",
       "    }\n",
       "\n",
       "    .dataframe thead th {\n",
       "        text-align: right;\n",
       "    }\n",
       "</style>\n",
       "<table border=\"1\" class=\"dataframe\">\n",
       "  <thead>\n",
       "    <tr style=\"text-align: right;\">\n",
       "      <th></th>\n",
       "      <th>BAIRRO</th>\n",
       "      <th>TEMPERATURA</th>\n",
       "      <th>UMIDADE</th>\n",
       "      <th>LUMINOSIDADE</th>\n",
       "      <th>RUIDO</th>\n",
       "      <th>CO2</th>\n",
       "      <th>ETVOC</th>\n",
       "    </tr>\n",
       "  </thead>\n",
       "  <tbody>\n",
       "    <tr>\n",
       "      <th>0</th>\n",
       "      <td>CENTENARIO</td>\n",
       "      <td>0.435490</td>\n",
       "      <td>0.633948</td>\n",
       "      <td>0.223560</td>\n",
       "      <td>0.868779</td>\n",
       "      <td>0.008777</td>\n",
       "      <td>0.066250</td>\n",
       "    </tr>\n",
       "    <tr>\n",
       "      <th>1</th>\n",
       "      <td>CRUZEIRO</td>\n",
       "      <td>0.386026</td>\n",
       "      <td>0.668795</td>\n",
       "      <td>0.261833</td>\n",
       "      <td>0.825382</td>\n",
       "      <td>0.005544</td>\n",
       "      <td>0.029751</td>\n",
       "    </tr>\n",
       "    <tr>\n",
       "      <th>2</th>\n",
       "      <td>PRESIDENTE VARGAS</td>\n",
       "      <td>0.394595</td>\n",
       "      <td>0.665759</td>\n",
       "      <td>0.200820</td>\n",
       "      <td>0.862446</td>\n",
       "      <td>0.009616</td>\n",
       "      <td>0.044455</td>\n",
       "    </tr>\n",
       "  </tbody>\n",
       "</table>\n",
       "</div>"
      ],
      "text/plain": [
       "              BAIRRO  TEMPERATURA   UMIDADE  LUMINOSIDADE     RUIDO       CO2  \\\n",
       "0         CENTENARIO     0.435490  0.633948      0.223560  0.868779  0.008777   \n",
       "1           CRUZEIRO     0.386026  0.668795      0.261833  0.825382  0.005544   \n",
       "2  PRESIDENTE VARGAS     0.394595  0.665759      0.200820  0.862446  0.009616   \n",
       "\n",
       "      ETVOC  \n",
       "0  0.066250  \n",
       "1  0.029751  \n",
       "2  0.044455  "
      ]
     },
     "execution_count": 380,
     "metadata": {},
     "output_type": "execute_result"
    }
   ],
   "source": [
    "DF_AMV_RADAR_PLOT.head(3)"
   ]
  },
  {
   "cell_type": "markdown",
   "id": "ecf583ff",
   "metadata": {},
   "source": [
    "+ **CONFIGURANDO GRÁFICOS**"
   ]
  },
  {
   "cell_type": "code",
   "execution_count": 381,
   "id": "8a817acb",
   "metadata": {},
   "outputs": [
    {
     "data": {
      "application/vnd.plotly.v1+json": {
       "config": {
        "plotlyServerURL": "https://plot.ly"
       },
       "data": [
        {
         "hovertemplate": "BAIRRO=CENTENARIO<br>r=%{r}<br>theta=%{theta}<extra></extra>",
         "legendgroup": "CENTENARIO",
         "line": {
          "color": "rgb(128,0,0)",
          "dash": "solid"
         },
         "marker": {
          "symbol": "circle"
         },
         "mode": "lines",
         "name": "CENTENARIO",
         "r": [
          0.435490082036655,
          0.6339479170925146,
          0.22355969098561776,
          0.8687794402881684,
          0.008777001669545892,
          0.06625027800116527,
          0.435490082036655
         ],
         "showlegend": true,
         "subplot": "polar",
         "theta": [
          "TEMPERATURA",
          "UMIDADE",
          "LUMINOSIDADE",
          "RUIDO",
          "CO2",
          "ETVOC",
          "TEMPERATURA"
         ],
         "type": "scatterpolar"
        },
        {
         "hovertemplate": "BAIRRO=CRUZEIRO<br>r=%{r}<br>theta=%{theta}<extra></extra>",
         "legendgroup": "CRUZEIRO",
         "line": {
          "color": "rgb(250,0,0)",
          "dash": "solid"
         },
         "marker": {
          "symbol": "circle"
         },
         "mode": "lines",
         "name": "CRUZEIRO",
         "r": [
          0.3860261123511041,
          0.6687953040859004,
          0.26183317340417733,
          0.8253822427847544,
          0.005544365689712837,
          0.029751378187952628,
          0.3860261123511041
         ],
         "showlegend": true,
         "subplot": "polar",
         "theta": [
          "TEMPERATURA",
          "UMIDADE",
          "LUMINOSIDADE",
          "RUIDO",
          "CO2",
          "ETVOC",
          "TEMPERATURA"
         ],
         "type": "scatterpolar"
        },
        {
         "hovertemplate": "BAIRRO=PRESIDENTE VARGAS<br>r=%{r}<br>theta=%{theta}<extra></extra>",
         "legendgroup": "PRESIDENTE VARGAS",
         "line": {
          "color": "rgb(255,255,0)",
          "dash": "solid"
         },
         "marker": {
          "symbol": "circle"
         },
         "mode": "lines",
         "name": "PRESIDENTE VARGAS",
         "r": [
          0.39459490954290766,
          0.6657589649044131,
          0.2008196152727593,
          0.8624457953394123,
          0.009615667956322679,
          0.044454943770543,
          0.39459490954290766
         ],
         "showlegend": true,
         "subplot": "polar",
         "theta": [
          "TEMPERATURA",
          "UMIDADE",
          "LUMINOSIDADE",
          "RUIDO",
          "CO2",
          "ETVOC",
          "TEMPERATURA"
         ],
         "type": "scatterpolar"
        }
       ],
       "layout": {
        "legend": {
         "title": {
          "text": "BAIRRO"
         },
         "tracegroupgap": 0
        },
        "polar": {
         "angularaxis": {
          "direction": "clockwise",
          "rotation": 90
         },
         "domain": {
          "x": [
           0,
           1
          ],
          "y": [
           0,
           1
          ]
         }
        },
        "template": {
         "data": {
          "bar": [
           {
            "error_x": {
             "color": "#f2f5fa"
            },
            "error_y": {
             "color": "#f2f5fa"
            },
            "marker": {
             "line": {
              "color": "rgb(17,17,17)",
              "width": 0.5
             },
             "pattern": {
              "fillmode": "overlay",
              "size": 10,
              "solidity": 0.2
             }
            },
            "type": "bar"
           }
          ],
          "barpolar": [
           {
            "marker": {
             "line": {
              "color": "rgb(17,17,17)",
              "width": 0.5
             },
             "pattern": {
              "fillmode": "overlay",
              "size": 10,
              "solidity": 0.2
             }
            },
            "type": "barpolar"
           }
          ],
          "carpet": [
           {
            "aaxis": {
             "endlinecolor": "#A2B1C6",
             "gridcolor": "#506784",
             "linecolor": "#506784",
             "minorgridcolor": "#506784",
             "startlinecolor": "#A2B1C6"
            },
            "baxis": {
             "endlinecolor": "#A2B1C6",
             "gridcolor": "#506784",
             "linecolor": "#506784",
             "minorgridcolor": "#506784",
             "startlinecolor": "#A2B1C6"
            },
            "type": "carpet"
           }
          ],
          "choropleth": [
           {
            "colorbar": {
             "outlinewidth": 0,
             "ticks": ""
            },
            "type": "choropleth"
           }
          ],
          "contour": [
           {
            "colorbar": {
             "outlinewidth": 0,
             "ticks": ""
            },
            "colorscale": [
             [
              0,
              "#0d0887"
             ],
             [
              0.1111111111111111,
              "#46039f"
             ],
             [
              0.2222222222222222,
              "#7201a8"
             ],
             [
              0.3333333333333333,
              "#9c179e"
             ],
             [
              0.4444444444444444,
              "#bd3786"
             ],
             [
              0.5555555555555556,
              "#d8576b"
             ],
             [
              0.6666666666666666,
              "#ed7953"
             ],
             [
              0.7777777777777778,
              "#fb9f3a"
             ],
             [
              0.8888888888888888,
              "#fdca26"
             ],
             [
              1,
              "#f0f921"
             ]
            ],
            "type": "contour"
           }
          ],
          "contourcarpet": [
           {
            "colorbar": {
             "outlinewidth": 0,
             "ticks": ""
            },
            "type": "contourcarpet"
           }
          ],
          "heatmap": [
           {
            "colorbar": {
             "outlinewidth": 0,
             "ticks": ""
            },
            "colorscale": [
             [
              0,
              "#0d0887"
             ],
             [
              0.1111111111111111,
              "#46039f"
             ],
             [
              0.2222222222222222,
              "#7201a8"
             ],
             [
              0.3333333333333333,
              "#9c179e"
             ],
             [
              0.4444444444444444,
              "#bd3786"
             ],
             [
              0.5555555555555556,
              "#d8576b"
             ],
             [
              0.6666666666666666,
              "#ed7953"
             ],
             [
              0.7777777777777778,
              "#fb9f3a"
             ],
             [
              0.8888888888888888,
              "#fdca26"
             ],
             [
              1,
              "#f0f921"
             ]
            ],
            "type": "heatmap"
           }
          ],
          "heatmapgl": [
           {
            "colorbar": {
             "outlinewidth": 0,
             "ticks": ""
            },
            "colorscale": [
             [
              0,
              "#0d0887"
             ],
             [
              0.1111111111111111,
              "#46039f"
             ],
             [
              0.2222222222222222,
              "#7201a8"
             ],
             [
              0.3333333333333333,
              "#9c179e"
             ],
             [
              0.4444444444444444,
              "#bd3786"
             ],
             [
              0.5555555555555556,
              "#d8576b"
             ],
             [
              0.6666666666666666,
              "#ed7953"
             ],
             [
              0.7777777777777778,
              "#fb9f3a"
             ],
             [
              0.8888888888888888,
              "#fdca26"
             ],
             [
              1,
              "#f0f921"
             ]
            ],
            "type": "heatmapgl"
           }
          ],
          "histogram": [
           {
            "marker": {
             "pattern": {
              "fillmode": "overlay",
              "size": 10,
              "solidity": 0.2
             }
            },
            "type": "histogram"
           }
          ],
          "histogram2d": [
           {
            "colorbar": {
             "outlinewidth": 0,
             "ticks": ""
            },
            "colorscale": [
             [
              0,
              "#0d0887"
             ],
             [
              0.1111111111111111,
              "#46039f"
             ],
             [
              0.2222222222222222,
              "#7201a8"
             ],
             [
              0.3333333333333333,
              "#9c179e"
             ],
             [
              0.4444444444444444,
              "#bd3786"
             ],
             [
              0.5555555555555556,
              "#d8576b"
             ],
             [
              0.6666666666666666,
              "#ed7953"
             ],
             [
              0.7777777777777778,
              "#fb9f3a"
             ],
             [
              0.8888888888888888,
              "#fdca26"
             ],
             [
              1,
              "#f0f921"
             ]
            ],
            "type": "histogram2d"
           }
          ],
          "histogram2dcontour": [
           {
            "colorbar": {
             "outlinewidth": 0,
             "ticks": ""
            },
            "colorscale": [
             [
              0,
              "#0d0887"
             ],
             [
              0.1111111111111111,
              "#46039f"
             ],
             [
              0.2222222222222222,
              "#7201a8"
             ],
             [
              0.3333333333333333,
              "#9c179e"
             ],
             [
              0.4444444444444444,
              "#bd3786"
             ],
             [
              0.5555555555555556,
              "#d8576b"
             ],
             [
              0.6666666666666666,
              "#ed7953"
             ],
             [
              0.7777777777777778,
              "#fb9f3a"
             ],
             [
              0.8888888888888888,
              "#fdca26"
             ],
             [
              1,
              "#f0f921"
             ]
            ],
            "type": "histogram2dcontour"
           }
          ],
          "mesh3d": [
           {
            "colorbar": {
             "outlinewidth": 0,
             "ticks": ""
            },
            "type": "mesh3d"
           }
          ],
          "parcoords": [
           {
            "line": {
             "colorbar": {
              "outlinewidth": 0,
              "ticks": ""
             }
            },
            "type": "parcoords"
           }
          ],
          "pie": [
           {
            "automargin": true,
            "type": "pie"
           }
          ],
          "scatter": [
           {
            "marker": {
             "line": {
              "color": "#283442"
             }
            },
            "type": "scatter"
           }
          ],
          "scatter3d": [
           {
            "line": {
             "colorbar": {
              "outlinewidth": 0,
              "ticks": ""
             }
            },
            "marker": {
             "colorbar": {
              "outlinewidth": 0,
              "ticks": ""
             }
            },
            "type": "scatter3d"
           }
          ],
          "scattercarpet": [
           {
            "marker": {
             "colorbar": {
              "outlinewidth": 0,
              "ticks": ""
             }
            },
            "type": "scattercarpet"
           }
          ],
          "scattergeo": [
           {
            "marker": {
             "colorbar": {
              "outlinewidth": 0,
              "ticks": ""
             }
            },
            "type": "scattergeo"
           }
          ],
          "scattergl": [
           {
            "marker": {
             "line": {
              "color": "#283442"
             }
            },
            "type": "scattergl"
           }
          ],
          "scattermapbox": [
           {
            "marker": {
             "colorbar": {
              "outlinewidth": 0,
              "ticks": ""
             }
            },
            "type": "scattermapbox"
           }
          ],
          "scatterpolar": [
           {
            "marker": {
             "colorbar": {
              "outlinewidth": 0,
              "ticks": ""
             }
            },
            "type": "scatterpolar"
           }
          ],
          "scatterpolargl": [
           {
            "marker": {
             "colorbar": {
              "outlinewidth": 0,
              "ticks": ""
             }
            },
            "type": "scatterpolargl"
           }
          ],
          "scatterternary": [
           {
            "marker": {
             "colorbar": {
              "outlinewidth": 0,
              "ticks": ""
             }
            },
            "type": "scatterternary"
           }
          ],
          "surface": [
           {
            "colorbar": {
             "outlinewidth": 0,
             "ticks": ""
            },
            "colorscale": [
             [
              0,
              "#0d0887"
             ],
             [
              0.1111111111111111,
              "#46039f"
             ],
             [
              0.2222222222222222,
              "#7201a8"
             ],
             [
              0.3333333333333333,
              "#9c179e"
             ],
             [
              0.4444444444444444,
              "#bd3786"
             ],
             [
              0.5555555555555556,
              "#d8576b"
             ],
             [
              0.6666666666666666,
              "#ed7953"
             ],
             [
              0.7777777777777778,
              "#fb9f3a"
             ],
             [
              0.8888888888888888,
              "#fdca26"
             ],
             [
              1,
              "#f0f921"
             ]
            ],
            "type": "surface"
           }
          ],
          "table": [
           {
            "cells": {
             "fill": {
              "color": "#506784"
             },
             "line": {
              "color": "rgb(17,17,17)"
             }
            },
            "header": {
             "fill": {
              "color": "#2a3f5f"
             },
             "line": {
              "color": "rgb(17,17,17)"
             }
            },
            "type": "table"
           }
          ]
         },
         "layout": {
          "annotationdefaults": {
           "arrowcolor": "#f2f5fa",
           "arrowhead": 0,
           "arrowwidth": 1
          },
          "autotypenumbers": "strict",
          "coloraxis": {
           "colorbar": {
            "outlinewidth": 0,
            "ticks": ""
           }
          },
          "colorscale": {
           "diverging": [
            [
             0,
             "#8e0152"
            ],
            [
             0.1,
             "#c51b7d"
            ],
            [
             0.2,
             "#de77ae"
            ],
            [
             0.3,
             "#f1b6da"
            ],
            [
             0.4,
             "#fde0ef"
            ],
            [
             0.5,
             "#f7f7f7"
            ],
            [
             0.6,
             "#e6f5d0"
            ],
            [
             0.7,
             "#b8e186"
            ],
            [
             0.8,
             "#7fbc41"
            ],
            [
             0.9,
             "#4d9221"
            ],
            [
             1,
             "#276419"
            ]
           ],
           "sequential": [
            [
             0,
             "#0d0887"
            ],
            [
             0.1111111111111111,
             "#46039f"
            ],
            [
             0.2222222222222222,
             "#7201a8"
            ],
            [
             0.3333333333333333,
             "#9c179e"
            ],
            [
             0.4444444444444444,
             "#bd3786"
            ],
            [
             0.5555555555555556,
             "#d8576b"
            ],
            [
             0.6666666666666666,
             "#ed7953"
            ],
            [
             0.7777777777777778,
             "#fb9f3a"
            ],
            [
             0.8888888888888888,
             "#fdca26"
            ],
            [
             1,
             "#f0f921"
            ]
           ],
           "sequentialminus": [
            [
             0,
             "#0d0887"
            ],
            [
             0.1111111111111111,
             "#46039f"
            ],
            [
             0.2222222222222222,
             "#7201a8"
            ],
            [
             0.3333333333333333,
             "#9c179e"
            ],
            [
             0.4444444444444444,
             "#bd3786"
            ],
            [
             0.5555555555555556,
             "#d8576b"
            ],
            [
             0.6666666666666666,
             "#ed7953"
            ],
            [
             0.7777777777777778,
             "#fb9f3a"
            ],
            [
             0.8888888888888888,
             "#fdca26"
            ],
            [
             1,
             "#f0f921"
            ]
           ]
          },
          "colorway": [
           "#636efa",
           "#EF553B",
           "#00cc96",
           "#ab63fa",
           "#FFA15A",
           "#19d3f3",
           "#FF6692",
           "#B6E880",
           "#FF97FF",
           "#FECB52"
          ],
          "font": {
           "color": "#f2f5fa"
          },
          "geo": {
           "bgcolor": "rgb(17,17,17)",
           "lakecolor": "rgb(17,17,17)",
           "landcolor": "rgb(17,17,17)",
           "showlakes": true,
           "showland": true,
           "subunitcolor": "#506784"
          },
          "hoverlabel": {
           "align": "left"
          },
          "hovermode": "closest",
          "mapbox": {
           "style": "dark"
          },
          "paper_bgcolor": "rgb(17,17,17)",
          "plot_bgcolor": "rgb(17,17,17)",
          "polar": {
           "angularaxis": {
            "gridcolor": "#506784",
            "linecolor": "#506784",
            "ticks": ""
           },
           "bgcolor": "rgb(17,17,17)",
           "radialaxis": {
            "gridcolor": "#506784",
            "linecolor": "#506784",
            "ticks": ""
           }
          },
          "scene": {
           "xaxis": {
            "backgroundcolor": "rgb(17,17,17)",
            "gridcolor": "#506784",
            "gridwidth": 2,
            "linecolor": "#506784",
            "showbackground": true,
            "ticks": "",
            "zerolinecolor": "#C8D4E3"
           },
           "yaxis": {
            "backgroundcolor": "rgb(17,17,17)",
            "gridcolor": "#506784",
            "gridwidth": 2,
            "linecolor": "#506784",
            "showbackground": true,
            "ticks": "",
            "zerolinecolor": "#C8D4E3"
           },
           "zaxis": {
            "backgroundcolor": "rgb(17,17,17)",
            "gridcolor": "#506784",
            "gridwidth": 2,
            "linecolor": "#506784",
            "showbackground": true,
            "ticks": "",
            "zerolinecolor": "#C8D4E3"
           }
          },
          "shapedefaults": {
           "line": {
            "color": "#f2f5fa"
           }
          },
          "sliderdefaults": {
           "bgcolor": "#C8D4E3",
           "bordercolor": "rgb(17,17,17)",
           "borderwidth": 1,
           "tickwidth": 0
          },
          "ternary": {
           "aaxis": {
            "gridcolor": "#506784",
            "linecolor": "#506784",
            "ticks": ""
           },
           "baxis": {
            "gridcolor": "#506784",
            "linecolor": "#506784",
            "ticks": ""
           },
           "bgcolor": "rgb(17,17,17)",
           "caxis": {
            "gridcolor": "#506784",
            "linecolor": "#506784",
            "ticks": ""
           }
          },
          "title": {
           "x": 0.05
          },
          "updatemenudefaults": {
           "bgcolor": "#506784",
           "borderwidth": 0
          },
          "xaxis": {
           "automargin": true,
           "gridcolor": "#283442",
           "linecolor": "#506784",
           "ticks": "",
           "title": {
            "standoff": 15
           },
           "zerolinecolor": "#283442",
           "zerolinewidth": 2
          },
          "yaxis": {
           "automargin": true,
           "gridcolor": "#283442",
           "linecolor": "#506784",
           "ticks": "",
           "title": {
            "standoff": 15
           },
           "zerolinecolor": "#283442",
           "zerolinewidth": 2
          }
         }
        },
        "title": {
         "text": "INDICADORES POR BAIRRO",
         "x": 0.5,
         "xanchor": "center",
         "y": 0.9,
         "yanchor": "top"
        }
       }
      },
      "text/html": [
       "<div>                            <div id=\"4d76abbd-e88c-4b36-87c2-ee0930da6aa0\" class=\"plotly-graph-div\" style=\"height:525px; width:100%;\"></div>            <script type=\"text/javascript\">                require([\"plotly\"], function(Plotly) {                    window.PLOTLYENV=window.PLOTLYENV || {};                                    if (document.getElementById(\"4d76abbd-e88c-4b36-87c2-ee0930da6aa0\")) {                    Plotly.newPlot(                        \"4d76abbd-e88c-4b36-87c2-ee0930da6aa0\",                        [{\"hovertemplate\":\"BAIRRO=CENTENARIO\\u003cbr\\u003er=%{r}\\u003cbr\\u003etheta=%{theta}\\u003cextra\\u003e\\u003c\\u002fextra\\u003e\",\"legendgroup\":\"CENTENARIO\",\"line\":{\"color\":\"rgb(128,0,0)\",\"dash\":\"solid\"},\"marker\":{\"symbol\":\"circle\"},\"mode\":\"lines\",\"name\":\"CENTENARIO\",\"r\":[0.435490082036655,0.6339479170925146,0.22355969098561776,0.8687794402881684,0.008777001669545892,0.06625027800116527,0.435490082036655],\"showlegend\":true,\"subplot\":\"polar\",\"theta\":[\"TEMPERATURA\",\"UMIDADE\",\"LUMINOSIDADE\",\"RUIDO\",\"CO2\",\"ETVOC\",\"TEMPERATURA\"],\"type\":\"scatterpolar\"},{\"hovertemplate\":\"BAIRRO=CRUZEIRO\\u003cbr\\u003er=%{r}\\u003cbr\\u003etheta=%{theta}\\u003cextra\\u003e\\u003c\\u002fextra\\u003e\",\"legendgroup\":\"CRUZEIRO\",\"line\":{\"color\":\"rgb(250,0,0)\",\"dash\":\"solid\"},\"marker\":{\"symbol\":\"circle\"},\"mode\":\"lines\",\"name\":\"CRUZEIRO\",\"r\":[0.3860261123511041,0.6687953040859004,0.26183317340417733,0.8253822427847544,0.005544365689712837,0.029751378187952628,0.3860261123511041],\"showlegend\":true,\"subplot\":\"polar\",\"theta\":[\"TEMPERATURA\",\"UMIDADE\",\"LUMINOSIDADE\",\"RUIDO\",\"CO2\",\"ETVOC\",\"TEMPERATURA\"],\"type\":\"scatterpolar\"},{\"hovertemplate\":\"BAIRRO=PRESIDENTE VARGAS\\u003cbr\\u003er=%{r}\\u003cbr\\u003etheta=%{theta}\\u003cextra\\u003e\\u003c\\u002fextra\\u003e\",\"legendgroup\":\"PRESIDENTE VARGAS\",\"line\":{\"color\":\"rgb(255,255,0)\",\"dash\":\"solid\"},\"marker\":{\"symbol\":\"circle\"},\"mode\":\"lines\",\"name\":\"PRESIDENTE VARGAS\",\"r\":[0.39459490954290766,0.6657589649044131,0.2008196152727593,0.8624457953394123,0.009615667956322679,0.044454943770543,0.39459490954290766],\"showlegend\":true,\"subplot\":\"polar\",\"theta\":[\"TEMPERATURA\",\"UMIDADE\",\"LUMINOSIDADE\",\"RUIDO\",\"CO2\",\"ETVOC\",\"TEMPERATURA\"],\"type\":\"scatterpolar\"}],                        {\"template\":{\"data\":{\"barpolar\":[{\"marker\":{\"line\":{\"color\":\"rgb(17,17,17)\",\"width\":0.5},\"pattern\":{\"fillmode\":\"overlay\",\"size\":10,\"solidity\":0.2}},\"type\":\"barpolar\"}],\"bar\":[{\"error_x\":{\"color\":\"#f2f5fa\"},\"error_y\":{\"color\":\"#f2f5fa\"},\"marker\":{\"line\":{\"color\":\"rgb(17,17,17)\",\"width\":0.5},\"pattern\":{\"fillmode\":\"overlay\",\"size\":10,\"solidity\":0.2}},\"type\":\"bar\"}],\"carpet\":[{\"aaxis\":{\"endlinecolor\":\"#A2B1C6\",\"gridcolor\":\"#506784\",\"linecolor\":\"#506784\",\"minorgridcolor\":\"#506784\",\"startlinecolor\":\"#A2B1C6\"},\"baxis\":{\"endlinecolor\":\"#A2B1C6\",\"gridcolor\":\"#506784\",\"linecolor\":\"#506784\",\"minorgridcolor\":\"#506784\",\"startlinecolor\":\"#A2B1C6\"},\"type\":\"carpet\"}],\"choropleth\":[{\"colorbar\":{\"outlinewidth\":0,\"ticks\":\"\"},\"type\":\"choropleth\"}],\"contourcarpet\":[{\"colorbar\":{\"outlinewidth\":0,\"ticks\":\"\"},\"type\":\"contourcarpet\"}],\"contour\":[{\"colorbar\":{\"outlinewidth\":0,\"ticks\":\"\"},\"colorscale\":[[0.0,\"#0d0887\"],[0.1111111111111111,\"#46039f\"],[0.2222222222222222,\"#7201a8\"],[0.3333333333333333,\"#9c179e\"],[0.4444444444444444,\"#bd3786\"],[0.5555555555555556,\"#d8576b\"],[0.6666666666666666,\"#ed7953\"],[0.7777777777777778,\"#fb9f3a\"],[0.8888888888888888,\"#fdca26\"],[1.0,\"#f0f921\"]],\"type\":\"contour\"}],\"heatmapgl\":[{\"colorbar\":{\"outlinewidth\":0,\"ticks\":\"\"},\"colorscale\":[[0.0,\"#0d0887\"],[0.1111111111111111,\"#46039f\"],[0.2222222222222222,\"#7201a8\"],[0.3333333333333333,\"#9c179e\"],[0.4444444444444444,\"#bd3786\"],[0.5555555555555556,\"#d8576b\"],[0.6666666666666666,\"#ed7953\"],[0.7777777777777778,\"#fb9f3a\"],[0.8888888888888888,\"#fdca26\"],[1.0,\"#f0f921\"]],\"type\":\"heatmapgl\"}],\"heatmap\":[{\"colorbar\":{\"outlinewidth\":0,\"ticks\":\"\"},\"colorscale\":[[0.0,\"#0d0887\"],[0.1111111111111111,\"#46039f\"],[0.2222222222222222,\"#7201a8\"],[0.3333333333333333,\"#9c179e\"],[0.4444444444444444,\"#bd3786\"],[0.5555555555555556,\"#d8576b\"],[0.6666666666666666,\"#ed7953\"],[0.7777777777777778,\"#fb9f3a\"],[0.8888888888888888,\"#fdca26\"],[1.0,\"#f0f921\"]],\"type\":\"heatmap\"}],\"histogram2dcontour\":[{\"colorbar\":{\"outlinewidth\":0,\"ticks\":\"\"},\"colorscale\":[[0.0,\"#0d0887\"],[0.1111111111111111,\"#46039f\"],[0.2222222222222222,\"#7201a8\"],[0.3333333333333333,\"#9c179e\"],[0.4444444444444444,\"#bd3786\"],[0.5555555555555556,\"#d8576b\"],[0.6666666666666666,\"#ed7953\"],[0.7777777777777778,\"#fb9f3a\"],[0.8888888888888888,\"#fdca26\"],[1.0,\"#f0f921\"]],\"type\":\"histogram2dcontour\"}],\"histogram2d\":[{\"colorbar\":{\"outlinewidth\":0,\"ticks\":\"\"},\"colorscale\":[[0.0,\"#0d0887\"],[0.1111111111111111,\"#46039f\"],[0.2222222222222222,\"#7201a8\"],[0.3333333333333333,\"#9c179e\"],[0.4444444444444444,\"#bd3786\"],[0.5555555555555556,\"#d8576b\"],[0.6666666666666666,\"#ed7953\"],[0.7777777777777778,\"#fb9f3a\"],[0.8888888888888888,\"#fdca26\"],[1.0,\"#f0f921\"]],\"type\":\"histogram2d\"}],\"histogram\":[{\"marker\":{\"pattern\":{\"fillmode\":\"overlay\",\"size\":10,\"solidity\":0.2}},\"type\":\"histogram\"}],\"mesh3d\":[{\"colorbar\":{\"outlinewidth\":0,\"ticks\":\"\"},\"type\":\"mesh3d\"}],\"parcoords\":[{\"line\":{\"colorbar\":{\"outlinewidth\":0,\"ticks\":\"\"}},\"type\":\"parcoords\"}],\"pie\":[{\"automargin\":true,\"type\":\"pie\"}],\"scatter3d\":[{\"line\":{\"colorbar\":{\"outlinewidth\":0,\"ticks\":\"\"}},\"marker\":{\"colorbar\":{\"outlinewidth\":0,\"ticks\":\"\"}},\"type\":\"scatter3d\"}],\"scattercarpet\":[{\"marker\":{\"colorbar\":{\"outlinewidth\":0,\"ticks\":\"\"}},\"type\":\"scattercarpet\"}],\"scattergeo\":[{\"marker\":{\"colorbar\":{\"outlinewidth\":0,\"ticks\":\"\"}},\"type\":\"scattergeo\"}],\"scattergl\":[{\"marker\":{\"line\":{\"color\":\"#283442\"}},\"type\":\"scattergl\"}],\"scattermapbox\":[{\"marker\":{\"colorbar\":{\"outlinewidth\":0,\"ticks\":\"\"}},\"type\":\"scattermapbox\"}],\"scatterpolargl\":[{\"marker\":{\"colorbar\":{\"outlinewidth\":0,\"ticks\":\"\"}},\"type\":\"scatterpolargl\"}],\"scatterpolar\":[{\"marker\":{\"colorbar\":{\"outlinewidth\":0,\"ticks\":\"\"}},\"type\":\"scatterpolar\"}],\"scatter\":[{\"marker\":{\"line\":{\"color\":\"#283442\"}},\"type\":\"scatter\"}],\"scatterternary\":[{\"marker\":{\"colorbar\":{\"outlinewidth\":0,\"ticks\":\"\"}},\"type\":\"scatterternary\"}],\"surface\":[{\"colorbar\":{\"outlinewidth\":0,\"ticks\":\"\"},\"colorscale\":[[0.0,\"#0d0887\"],[0.1111111111111111,\"#46039f\"],[0.2222222222222222,\"#7201a8\"],[0.3333333333333333,\"#9c179e\"],[0.4444444444444444,\"#bd3786\"],[0.5555555555555556,\"#d8576b\"],[0.6666666666666666,\"#ed7953\"],[0.7777777777777778,\"#fb9f3a\"],[0.8888888888888888,\"#fdca26\"],[1.0,\"#f0f921\"]],\"type\":\"surface\"}],\"table\":[{\"cells\":{\"fill\":{\"color\":\"#506784\"},\"line\":{\"color\":\"rgb(17,17,17)\"}},\"header\":{\"fill\":{\"color\":\"#2a3f5f\"},\"line\":{\"color\":\"rgb(17,17,17)\"}},\"type\":\"table\"}]},\"layout\":{\"annotationdefaults\":{\"arrowcolor\":\"#f2f5fa\",\"arrowhead\":0,\"arrowwidth\":1},\"autotypenumbers\":\"strict\",\"coloraxis\":{\"colorbar\":{\"outlinewidth\":0,\"ticks\":\"\"}},\"colorscale\":{\"diverging\":[[0,\"#8e0152\"],[0.1,\"#c51b7d\"],[0.2,\"#de77ae\"],[0.3,\"#f1b6da\"],[0.4,\"#fde0ef\"],[0.5,\"#f7f7f7\"],[0.6,\"#e6f5d0\"],[0.7,\"#b8e186\"],[0.8,\"#7fbc41\"],[0.9,\"#4d9221\"],[1,\"#276419\"]],\"sequential\":[[0.0,\"#0d0887\"],[0.1111111111111111,\"#46039f\"],[0.2222222222222222,\"#7201a8\"],[0.3333333333333333,\"#9c179e\"],[0.4444444444444444,\"#bd3786\"],[0.5555555555555556,\"#d8576b\"],[0.6666666666666666,\"#ed7953\"],[0.7777777777777778,\"#fb9f3a\"],[0.8888888888888888,\"#fdca26\"],[1.0,\"#f0f921\"]],\"sequentialminus\":[[0.0,\"#0d0887\"],[0.1111111111111111,\"#46039f\"],[0.2222222222222222,\"#7201a8\"],[0.3333333333333333,\"#9c179e\"],[0.4444444444444444,\"#bd3786\"],[0.5555555555555556,\"#d8576b\"],[0.6666666666666666,\"#ed7953\"],[0.7777777777777778,\"#fb9f3a\"],[0.8888888888888888,\"#fdca26\"],[1.0,\"#f0f921\"]]},\"colorway\":[\"#636efa\",\"#EF553B\",\"#00cc96\",\"#ab63fa\",\"#FFA15A\",\"#19d3f3\",\"#FF6692\",\"#B6E880\",\"#FF97FF\",\"#FECB52\"],\"font\":{\"color\":\"#f2f5fa\"},\"geo\":{\"bgcolor\":\"rgb(17,17,17)\",\"lakecolor\":\"rgb(17,17,17)\",\"landcolor\":\"rgb(17,17,17)\",\"showlakes\":true,\"showland\":true,\"subunitcolor\":\"#506784\"},\"hoverlabel\":{\"align\":\"left\"},\"hovermode\":\"closest\",\"mapbox\":{\"style\":\"dark\"},\"paper_bgcolor\":\"rgb(17,17,17)\",\"plot_bgcolor\":\"rgb(17,17,17)\",\"polar\":{\"angularaxis\":{\"gridcolor\":\"#506784\",\"linecolor\":\"#506784\",\"ticks\":\"\"},\"bgcolor\":\"rgb(17,17,17)\",\"radialaxis\":{\"gridcolor\":\"#506784\",\"linecolor\":\"#506784\",\"ticks\":\"\"}},\"scene\":{\"xaxis\":{\"backgroundcolor\":\"rgb(17,17,17)\",\"gridcolor\":\"#506784\",\"gridwidth\":2,\"linecolor\":\"#506784\",\"showbackground\":true,\"ticks\":\"\",\"zerolinecolor\":\"#C8D4E3\"},\"yaxis\":{\"backgroundcolor\":\"rgb(17,17,17)\",\"gridcolor\":\"#506784\",\"gridwidth\":2,\"linecolor\":\"#506784\",\"showbackground\":true,\"ticks\":\"\",\"zerolinecolor\":\"#C8D4E3\"},\"zaxis\":{\"backgroundcolor\":\"rgb(17,17,17)\",\"gridcolor\":\"#506784\",\"gridwidth\":2,\"linecolor\":\"#506784\",\"showbackground\":true,\"ticks\":\"\",\"zerolinecolor\":\"#C8D4E3\"}},\"shapedefaults\":{\"line\":{\"color\":\"#f2f5fa\"}},\"sliderdefaults\":{\"bgcolor\":\"#C8D4E3\",\"bordercolor\":\"rgb(17,17,17)\",\"borderwidth\":1,\"tickwidth\":0},\"ternary\":{\"aaxis\":{\"gridcolor\":\"#506784\",\"linecolor\":\"#506784\",\"ticks\":\"\"},\"baxis\":{\"gridcolor\":\"#506784\",\"linecolor\":\"#506784\",\"ticks\":\"\"},\"bgcolor\":\"rgb(17,17,17)\",\"caxis\":{\"gridcolor\":\"#506784\",\"linecolor\":\"#506784\",\"ticks\":\"\"}},\"title\":{\"x\":0.05},\"updatemenudefaults\":{\"bgcolor\":\"#506784\",\"borderwidth\":0},\"xaxis\":{\"automargin\":true,\"gridcolor\":\"#283442\",\"linecolor\":\"#506784\",\"ticks\":\"\",\"title\":{\"standoff\":15},\"zerolinecolor\":\"#283442\",\"zerolinewidth\":2},\"yaxis\":{\"automargin\":true,\"gridcolor\":\"#283442\",\"linecolor\":\"#506784\",\"ticks\":\"\",\"title\":{\"standoff\":15},\"zerolinecolor\":\"#283442\",\"zerolinewidth\":2}}},\"polar\":{\"domain\":{\"x\":[0.0,1.0],\"y\":[0.0,1.0]},\"angularaxis\":{\"direction\":\"clockwise\",\"rotation\":90}},\"legend\":{\"title\":{\"text\":\"BAIRRO\"},\"tracegroupgap\":0},\"title\":{\"text\":\"INDICADORES POR BAIRRO\",\"y\":0.9,\"x\":0.5,\"xanchor\":\"center\",\"yanchor\":\"top\"}},                        {\"responsive\": true}                    ).then(function(){\n",
       "                            \n",
       "var gd = document.getElementById('4d76abbd-e88c-4b36-87c2-ee0930da6aa0');\n",
       "var x = new MutationObserver(function (mutations, observer) {{\n",
       "        var display = window.getComputedStyle(gd).display;\n",
       "        if (!display || display === 'none') {{\n",
       "            console.log([gd, 'removed!']);\n",
       "            Plotly.purge(gd);\n",
       "            observer.disconnect();\n",
       "        }}\n",
       "}});\n",
       "\n",
       "// Listen for the removal of the full notebook cells\n",
       "var notebookContainer = gd.closest('#notebook-container');\n",
       "if (notebookContainer) {{\n",
       "    x.observe(notebookContainer, {childList: true});\n",
       "}}\n",
       "\n",
       "// Listen for the clearing of the current output cell\n",
       "var outputEl = gd.closest('.output');\n",
       "if (outputEl) {{\n",
       "    x.observe(outputEl, {childList: true});\n",
       "}}\n",
       "\n",
       "                        })                };                });            </script>        </div>"
      ]
     },
     "metadata": {},
     "output_type": "display_data"
    }
   ],
   "source": [
    "chartMonitoramentoBairro = ChartUtils.createRadar(\n",
    "  title='INDICADORES POR BAIRRO',\n",
    "  dataframe=DF_AMV_RADAR_PLOT,\n",
    "  fieldClasses='BAIRRO',\n",
    "  colors=px.colors.sequential.Jet_r,\n",
    "  theme='dark',\n",
    ")\n",
    "chartMonitoramentoBairro.show()"
   ]
  },
  {
   "cell_type": "markdown",
   "id": "efbaa3d8",
   "metadata": {},
   "source": [
    "#### **CONFIGURANDO DASHBOARD**"
   ]
  },
  {
   "cell_type": "code",
   "execution_count": null,
   "id": "dcc45cdf",
   "metadata": {},
   "outputs": [],
   "source": [
    "# TÍTULO\n",
    "with st.container():\n",
    "  st.markdown(\n",
    "      \"\"\"\n",
    "      <style>\n",
    "      .header-bar {\n",
    "          background-color: #222222;\n",
    "          padding: 10px;\n",
    "          color: white;\n",
    "          text-align: center;\n",
    "          font-size: 24px;\n",
    "          font-weight: bold;\n",
    "          margin-bottom: 15px;\n",
    "      }\n",
    "      </style>\n",
    "      <div class=\"header-bar\">\n",
    "          Monitoramento Ambiental em Tempo Real\n",
    "      </div>\n",
    "      \"\"\",\n",
    "      unsafe_allow_html=True\n",
    "  )"
   ]
  },
  {
   "cell_type": "code",
   "execution_count": null,
   "id": "8c231758",
   "metadata": {},
   "outputs": [],
   "source": [
    "# FILTROS\n",
    "FILTRO_BAIRRO = st.sidebar.multiselect('Bairro(s)', options=FILTROS['BAIRRO'], placeholder=\"Escolha uma opção\")\n",
    "FILTRO_PERIODO = st.sidebar.multiselect('Período(s)', options=FILTROS['PERÍODO'], placeholder=\"Escolha uma opção\")\n",
    "FILTRO_DIA_SEMANA = st.sidebar.multiselect('Dia(s) da Semana', options=FILTROS['DIA DA SEMANA'], placeholder=\"Escolha uma opção\")\n",
    "\n",
    "# DATA E HORA (DE)\n",
    "with st.sidebar.container():\n",
    "    st.write(\"### Data e Hora (DE)\")\n",
    "    FILTRO_DIA_DE = st.sidebar.slider(key='DIA_DE', label='Dia', min_value=1, max_value=31, value=1)\n",
    "    FILTRO_MES_DE = st.sidebar.slider(key='MES_DE', label='Mês', min_value=1, max_value=12, value=1)\n",
    "    FILTRO_ANO_DE = st.sidebar.slider(key='ANO_DE', label='Ano', min_value=2023, max_value=2024, value=2023)\n",
    "    FILTRO_HORA_DE = st.sidebar.slider(key='HORA_DE', label='Hora', min_value=0, max_value=23, value=0)\n",
    "    FILTRO_MINUTO_DE = st.sidebar.slider(key='MIN_DE', label='Minuto', min_value=0, max_value=59, value=0)\n",
    "\n",
    "# DATA E HORA (ATÉ)\n",
    "with st.sidebar.container():\n",
    "    st.write(\"### Data e Hora (ATÉ)\")\n",
    "    FILTRO_DIA_ATE = st.sidebar.slider(key='DIA_ATE', label='Dia', min_value=1, max_value=31, value=1)\n",
    "    FILTRO_MES_ATE = st.sidebar.slider(key='MES_ATE', label='Mês', min_value=1, max_value=12, value=1)\n",
    "    FILTRO_ANO_ATE = st.sidebar.slider(key='ANO_ATE', label='Ano', min_value=2023, max_value=2024, value=2023)\n",
    "    FILTRO_HORA_ATE = st.sidebar.slider(key='HORA_ATE', label='Hora', min_value=0, max_value=23, value=0)\n",
    "    FILTRO_MINUTO_ATE = st.sidebar.slider(key='MIN_ATE', label='Minuto', min_value=0, max_value=59, value=0)"
   ]
  },
  {
   "cell_type": "code",
   "execution_count": null,
   "id": "56a5688b",
   "metadata": {},
   "outputs": [],
   "source": [
    "chartCols = st.columns(3)\n",
    "chartCols[0].plotly_chart(chartTemperature, use_container_width=True)\n",
    "chartCols[1].plotly_chart(chartUmidade, use_container_width=True)\n",
    "chartCols[2].plotly_chart(chartLuminosidade, use_container_width=True)\n",
    "\n",
    "chartCols = st.columns(3)\n",
    "chartCols[0].plotly_chart(chartRuido, use_container_width=True)\n",
    "chartCols[1].plotly_chart(chartCO2, use_container_width=True)\n",
    "chartCols[2].plotly_chart(chartTVOC, use_container_width=True)"
   ]
  },
  {
   "cell_type": "code",
   "execution_count": null,
   "id": "e140f1f7",
   "metadata": {},
   "outputs": [],
   "source": [
    "DF_TABLE = DF_AMV_FILTERED[[\n",
    "    'id',\n",
    "    'data',\n",
    "    'temperatura', 'umidade', 'luminosidade',\n",
    "    'ruido', 'eco2', 'etvoc',\n",
    "    'BAIRRO', \n",
    "    'F_PERIODO', 'F_HORA', 'F_MINUTO', \n",
    "    'F_DIA', 'F_MES', 'F_ANO', 'F_DIA_SEMANA'\n",
    "]]\n",
    "\n",
    "st.dataframe(\n",
    "    data=DF_TABLE, \n",
    "    use_container_width=True, \n",
    "    hide_index=True,\n",
    "    selection_mode=\"single-row\")"
   ]
  },
  {
   "cell_type": "code",
   "execution_count": null,
   "id": "491fd693",
   "metadata": {},
   "outputs": [],
   "source": [
    "chartCols = st.columns(1)\n",
    "chartCols[0].plotly_chart(chartMonitoramentoBairro, use_container_width=True)"
   ]
  },
  {
   "cell_type": "code",
   "execution_count": null,
   "id": "6bdbc1a9",
   "metadata": {},
   "outputs": [],
   "source": [
    "st.dataframe(\n",
    "    data=DF_AMV_RADAR_PLOT, \n",
    "    use_container_width=True, \n",
    "    hide_index=True,\n",
    "    selection_mode=\"single-row\")"
   ]
  }
 ],
 "metadata": {
  "kernelspec": {
   "display_name": "Python 3 (ipykernel)",
   "language": "python",
   "name": "python3"
  },
  "language_info": {
   "codemirror_mode": {
    "name": "ipython",
    "version": 3
   },
   "file_extension": ".py",
   "mimetype": "text/x-python",
   "name": "python",
   "nbconvert_exporter": "python",
   "pygments_lexer": "ipython3",
   "version": "3.12.3"
  }
 },
 "nbformat": 4,
 "nbformat_minor": 5
}
