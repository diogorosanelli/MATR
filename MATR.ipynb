{
 "cells": [
  {
   "cell_type": "markdown",
   "id": "a390bee6-ec09-4011-a1d8-1de3bc07d766",
   "metadata": {
    "jp-MarkdownHeadingCollapsed": true
   },
   "source": [
    "#### **1. CONFIGURANDO RECURSOS NECESSÁRIOS**"
   ]
  },
  {
   "cell_type": "code",
   "execution_count": null,
   "id": "cca50f76-14c0-4489-ab17-bc9030c588db",
   "metadata": {},
   "outputs": [],
   "source": [
    "import os\n",
    "import numpy as np\n",
    "import pandas as pd\n",
    "import matplotlib as mpl\n",
    "import geopandas as gpd\n",
    "import seaborn as sns\n",
    "import folium\n",
    "import plotly.graph_objs as go\n",
    "import plotly.io as pio\n",
    "import plotly.express as px\n",
    "import streamlit as st\n",
    "import folium.features\n",
    "\n",
    "from shapely.geometry import Point\n",
    "from matplotlib import pyplot as plt\n",
    "from folium import GeoJson\n",
    "from folium.features import GeoJsonPopup, GeoJsonTooltip\n",
    "from unidecode import unidecode\n",
    "from sklearn.preprocessing import StandardScaler, MinMaxScaler\n",
    "from plotly.subplots import make_subplots\n",
    "from streamlit_folium import st_folium"
   ]
  },
  {
   "cell_type": "markdown",
   "id": "b7f82685-7007-477d-b3e6-99c24d1a30cc",
   "metadata": {
    "jp-MarkdownHeadingCollapsed": true
   },
   "source": [
    "#### **2. DEFININDO PARÂMETROS**"
   ]
  },
  {
   "cell_type": "code",
   "execution_count": null,
   "id": "f605d885",
   "metadata": {},
   "outputs": [],
   "source": [
    "import warnings\n",
    "warnings.filterwarnings(\"ignore\")"
   ]
  },
  {
   "cell_type": "code",
   "execution_count": null,
   "id": "40e30313-a0cd-4ec4-b3ab-f5699473f71b",
   "metadata": {},
   "outputs": [],
   "source": [
    "# Paths\n",
    "BASE_PATH = '/mnt/d/PESSOAL/240319-RS-MATR/source'\n",
    "DATA_PATH = f'{BASE_PATH}/data'\n",
    "\n",
    "# Configurações de Mapa\n",
    "USE_MAP = True\n",
    "INITIAL_COORDS = [-51.1794, -29.1678] # Caxias do Sul\n",
    "BASEMAPS = [\n",
    "    'Esri.WorldStreetMap',        # 0 \n",
    "    'Esri.WorldTopoMap',          # 1\n",
    "    'Esri.WorldImagery',          # 2\n",
    "    'OpenTopoMap',                # 3\n",
    "    'CartoDB.DarkMatter',         # 4\n",
    "]"
   ]
  },
  {
   "cell_type": "code",
   "execution_count": null,
   "id": "20cc16de-fc09-4406-b5e2-2faba9c9933b",
   "metadata": {},
   "outputs": [],
   "source": [
    "# Colunas dos Dataframes\n",
    "COLS_MONITORAMENTO = [\n",
    "    'BAIRRO',\n",
    "    'data',\n",
    "    'temperatura',\n",
    "    'umidade',\n",
    "    'luminosidade',\n",
    "    'ruido',\n",
    "    'eco2',\n",
    "    'etvoc',\n",
    "    'F_PERIODO',\n",
    "    'F_HORA',\n",
    "    'F_MINUTO',\n",
    "    'F_DIA',\n",
    "    'F_MES',\n",
    "    'F_ANO',\n",
    "    'F_DIA_SEMANA'\n",
    "]\n",
    "\n",
    "COLS_SEGURANCA = [\n",
    "    'MUNICIPIO',\n",
    "    'BAIRRO',\n",
    "    'Data Fato',\n",
    "    'Dia Semana Fato',\n",
    "    'Hora Fato',\n",
    "    'Tipo Local',\n",
    "    'Desc Fato',\n",
    "    'Tipo Fato',\n",
    "    'Flagrante',\n",
    "    'Endereco',\n",
    "    'Nro Endereco',\n",
    "    'data',\n",
    "    'F_PERIODO',\n",
    "    'F_HORA',\n",
    "    'F_MINUTO',\n",
    "    'F_DIA',\n",
    "    'F_MES',\n",
    "    'F_ANO',\n",
    "    'F_DIA_SEMANA',\n",
    "    'F_CLASSIFICACAO'\n",
    "]\n",
    "\n",
    "COLS_SATISFACAO = [\n",
    "    'BAIRRO', \n",
    "    'QTD_RESP', # 'Qtd respostas', \n",
    "    'SAT01',    # 'Satisfação com o bairro',\n",
    "    'SAT02',    # 'Satisfação com a Saúde', \n",
    "    'SAT03',    # 'Prática de atividade física',\n",
    "    'SAT04',    # 'Satisfação financeira', \n",
    "    'SAT05',    # 'Satisfação com atividade comercial',\n",
    "    'SAT06',    # 'Satisfação com qualidade do ar', \n",
    "    'SAT07',    # 'Satisfação com ruído',\n",
    "    'SAT08',    # 'Satisfação com espaços de lazer', \n",
    "    'SAT09',    # 'Satistação com coleta de lixo',\n",
    "    'SAT10',    # 'Satisfação com distância da parada de ônibus',\n",
    "    'SAT11',    # 'Satisfação com qualidade das paradas de ônibus',\n",
    "    'SAT12',    # 'Satisfação com acesso aos locais importantes da cidade',\n",
    "    'SAT13',    # 'Sentimento de segurança', \n",
    "    'SAT14',    # 'Sentimento de confiança nas pessoas',\n",
    "    'SAT15',    # 'Satisfação com tratamento de esgoto'\n",
    "]"
   ]
  },
  {
   "cell_type": "markdown",
   "id": "2fbfb220-a1d9-44e9-92d6-84c62e702265",
   "metadata": {
    "jp-MarkdownHeadingCollapsed": true
   },
   "source": [
    "#### **3. CRIANDO CLASSES DE NEGÓCIO**"
   ]
  },
  {
   "cell_type": "code",
   "execution_count": null,
   "id": "7bef7da7",
   "metadata": {},
   "outputs": [],
   "source": [
    "class DataLoader:\n",
    "    @staticmethod\n",
    "    def loadCSV(folderPath, fileName, separator=','):\n",
    "        \"\"\"\n",
    "        Carrega dados de um arquivo CSV em um DataFrame pandas.\n",
    "        \n",
    "        Parâmetros:\n",
    "        - folderPath (str): Caminho para a pasta onde o arquivo CSV está localizado.\n",
    "        - fileName (str): Nome do arquivo CSV.\n",
    "        \n",
    "        Retorna:\n",
    "        - DataFrame: Dados carregados do CSV.\n",
    "        \"\"\"\n",
    "        filePath = os.path.join(folderPath, f'{fileName}.csv')\n",
    "\n",
    "        try:\n",
    "            if os.path.exists(filePath):\n",
    "                df = pd.read_csv(filePath, sep=separator)\n",
    "                return df\n",
    "            else:\n",
    "                raise FileNotFoundError(f\"Arquivo {fileName} não encontrado na pasta {folderPath}.\")\n",
    "        except Exception as e:\n",
    "            print(f\"Erro ao carregar o arquivo CSV: {e}\")\n",
    "            return None\n",
    "\n",
    "    @staticmethod\n",
    "    def loadXLSX(folderPath, fileName, sheetIndex=0):\n",
    "        \"\"\"\n",
    "        Carrega dados de um arquivo XLSX em um DataFrame pandas.\n",
    "        \n",
    "        Parâmetros:\n",
    "        - folderPath (str): Caminho para a pasta onde o arquivo XLSX está localizado.\n",
    "        - fileName (str): Nome do arquivo XLSX.\n",
    "        - sheetIndex (int, opcional): Índice da planilha a ser carregada. Padrão (0).\n",
    "        \n",
    "        Retorna:\n",
    "        - DataFrame: Dados carregados do XLSX.\n",
    "        \"\"\"\n",
    "        filePath = os.path.join(folderPath, f'{fileName}.xlsx')\n",
    "        \n",
    "        try:\n",
    "            if os.path.exists(filePath):\n",
    "                df = pd.read_excel(filePath)\n",
    "                return df\n",
    "            else:\n",
    "                raise FileNotFoundError(f\"Arquivo {fileName} não encontrado na pasta {folderPath}.\")\n",
    "        except Exception as e:\n",
    "            print(f\"Erro ao carregar o arquivo XLSX: {e}\")\n",
    "            return None\n",
    "\n",
    "    @staticmethod\n",
    "    def loadSHP(folderPath, shpName):\n",
    "        \"\"\"\n",
    "        Carrega o shapefile dos limites dos bairros em um GeoDataFrame.\n",
    "        \n",
    "        Parâmetros:\n",
    "        - folderPath (str): Caminho para a pasta onde o arquivo XLSX está localizado.\n",
    "        - shpName (str): Nome do arquivo shapefile.\n",
    "        \n",
    "        Retorna:\n",
    "        - GeoDataFrame: Dados geoespaciais dos bairros.\n",
    "        \"\"\"\n",
    "        filePath = os.path.join(folderPath, f'{shpName}.shp')\n",
    "        \n",
    "        try:\n",
    "            if os.path.exists(filePath):\n",
    "                gdf = gpd.read_file(filePath)\n",
    "                return gdf\n",
    "            else:\n",
    "                raise FileNotFoundError(f\"Arquivo {filePath} não encontrado.\")\n",
    "        except Exception as e:\n",
    "            print(f\"Erro ao carregar o shapefile: {e}\")\n",
    "            return None"
   ]
  },
  {
   "cell_type": "code",
   "execution_count": null,
   "id": "2bac43c7",
   "metadata": {},
   "outputs": [],
   "source": [
    "class MapUtils:\n",
    "    @staticmethod\n",
    "    def createMap(\n",
    "        initialCoords=[-46.633308,-23.55052], \n",
    "        zoomStart=12, \n",
    "        basemap='OpenStreetMap.Mapnik',\n",
    "        controlScale=True, \n",
    "        zoomControl=True, \n",
    "        scrollWheelZoom=True, \n",
    "        dragging=True):\n",
    "        \"\"\"\n",
    "        Cria um mapa folium com os dados de um GeoDataFrame.\n",
    "        \n",
    "        Parâmetros:\n",
    "        - initialCoords (list): Coordenadas iniciais [latitude, longitude] para centrar o mapa.\n",
    "        - zoomStart (int): Nível inicial de zoom do mapa.\n",
    "        - controlScale (boolean): Controla o nível de escala no mapa.\n",
    "        - zoomControl (boolean): Controles de zoom no mapa.\n",
    "        - scrollWheelZoom (boolean): Controla de rolagem no mouse.\n",
    "        - dragging (boolean): Controla de movimentação no mapa.\n",
    "        \n",
    "        Retorna:\n",
    "        - folium.Map: Mapa folium com os dados do GeoDataFrame.\n",
    "        \"\"\"\n",
    "        # Criar um mapa folium centrado nas coordenadas iniciais\n",
    "        fmap = folium.Map(\n",
    "            location=initialCoords[::-1], \n",
    "            zoom_start=zoomStart, \n",
    "            tiles=basemap,\n",
    "            control_scale=controlScale, \n",
    "            zoom_control=zoomControl, \n",
    "            scrollWheelZoom=scrollWheelZoom, \n",
    "            dragging=dragging)\n",
    "        \n",
    "        return fmap\n",
    "\n",
    "    @staticmethod\n",
    "    def addLayer(\n",
    "        geoDF, \n",
    "        layerName=None,\n",
    "        styleConfig=None, \n",
    "        popupField=None, \n",
    "        tooltipField=None):\n",
    "        \"\"\"\n",
    "        Adiciona uma camada de GeoDataFrame ao mapa folium com a simbologia especificada.\n",
    "        \n",
    "        Parâmetros:\n",
    "        - geoDF (GeoDataFrame): GeoDataFrame com os dados geoespaciais.\n",
    "        - layerName (str): Nome da camada.\n",
    "        - styleConfig (dict): Configuração de estilo para a camada.\n",
    "        - popupField (str): Nome da coluna para exibir em popups (opcional).\n",
    "        - tooltipField (str): Nome da coluna para exibir em tooltips (opcional).\n",
    "        \n",
    "        Retorna:\n",
    "        - folium.Map: Objeto de mapa folium com a nova camada adicionada.\n",
    "        \"\"\"\n",
    "        # Configuração padrão de estilo\n",
    "        defaultStyle = {\n",
    "            'fillColor': 'blue',\n",
    "            'color': 'blue',\n",
    "            'weight': 2,\n",
    "            'fillOpacity': 0.6\n",
    "        }\n",
    "        \n",
    "        # Atualizar configuração de estilo com a fornecida pelo usuário\n",
    "        if styleConfig:\n",
    "            defaultStyle.update(styleConfig)\n",
    "        \n",
    "        # Converter GeoDataFrame para GeoJSON\n",
    "        geojson_data = geoDF.to_json()\n",
    "        \n",
    "        # Adicionar camada GeoJSON ao mapa\n",
    "        geojson_layer = GeoJson(\n",
    "            geojson_data,\n",
    "            style_function=lambda feature: defaultStyle\n",
    "        )\n",
    "        \n",
    "        # Adicionar popup se especificado\n",
    "        if popupField:\n",
    "            popup = GeoJsonPopup(fields=[popupField])\n",
    "            geojson_layer.add_child(popup)\n",
    "        \n",
    "        # Adicionar tooltip se especificado\n",
    "        if tooltipField:\n",
    "            tooltip = GeoJsonTooltip(fields=[tooltipField])\n",
    "            geojson_layer.add_child(tooltip)\n",
    "        \n",
    "        geojson_layer.layer_name = layerName\n",
    "        \n",
    "        return geojson_layer\n",
    "\n",
    "    @staticmethod\n",
    "    def removeLayer(fmap, layerName):\n",
    "        \"\"\"\n",
    "        Remove uma camada do mapa folium com base no nome da camada.\n",
    "        \n",
    "        Parâmetros:\n",
    "        - fmap (folium.Map): Objeto de mapa folium.\n",
    "        - layerName (str): Nome da camada a ser removida.\n",
    "        \n",
    "        Retorna:\n",
    "        - folium.Map: Objeto de mapa folium com a camada removida.\n",
    "        \"\"\"\n",
    "        layers_to_remove = [layer for layer in fmap._children if layer == layerName]\n",
    "        for layer in layers_to_remove:\n",
    "            del fmap._children[layer]\n",
    "        return fmap\n",
    "    \n",
    "    @staticmethod\n",
    "    def hasLayer(fmap, layerName):\n",
    "        \"\"\"\n",
    "        Remove uma camada do mapa folium com base no nome da camada.\n",
    "        \n",
    "        Parâmetros:\n",
    "        - fmap (folium.Map): Objeto de mapa folium.\n",
    "        - layerName (str): Nome da camada a ser removida.\n",
    "        \n",
    "        Retorna:\n",
    "        - folium.Map: Objeto de mapa folium com a camada removida.\n",
    "        \"\"\"\n",
    "        foundedLayers = [layer for layer in fmap._children if layer.find(layerName) >= 0]\n",
    "        return True if len(foundedLayers) > 0 else False\n",
    "    \n",
    "    @staticmethod\n",
    "    def setZoomLevel(fmap, zoomLevel):\n",
    "        \"\"\"\n",
    "        Ajusta o nível de zoom do mapa folium.\n",
    "        \n",
    "        Parâmetros:\n",
    "        - fmap (folium.Map): Objeto de mapa folium.\n",
    "        - zoom_level (int): Nível de zoom desejado.\n",
    "        \n",
    "        Retorna:\n",
    "        - folium.Map: Objeto de mapa folium com o nível de zoom ajustado.\n",
    "        \"\"\"\n",
    "        fmap.options['zoom'] = zoomLevel\n",
    "        return fmap\n",
    "\n",
    "    @staticmethod\n",
    "    def createSpatialJoin(referenceDF, targetDF, spatialRelation='intersects'):\n",
    "        \"\"\"\n",
    "        Atribui bairros aos registros do DataFrame baseado em latitudes e longitudes.\n",
    "        \n",
    "        Parâmetros:\n",
    "        - referenceDF (DataFrame): DataFrame com as colunas 'LATITUDE' e 'LONGITUDE'.\n",
    "        - targetDF (GeoDataFrame): GeoDataFrame dos limites dos bairros.\n",
    "        \n",
    "        Retorna:\n",
    "        - DataFrame: DataFrame original com uma nova coluna 'BAIRRO' indicando o bairro de cada registro.\n",
    "        \"\"\"\n",
    "        # Realizar a junção espacial\n",
    "        joinDF = gpd.sjoin(targetDF, referenceDF, how=\"left\", predicate=spatialRelation)\n",
    "        joinDF.drop(columns=['index_right'], inplace=True)\n",
    "        joinDF.reset_index(drop=True, inplace=True)\n",
    "        return joinDF"
   ]
  },
  {
   "cell_type": "code",
   "execution_count": null,
   "id": "ce8729de-1cd2-4cf7-8f12-44844a28d511",
   "metadata": {},
   "outputs": [],
   "source": [
    "class ChartUtils:\n",
    "    def createGauge(title, value=50, min=0, max=100, \n",
    "                    chartColor=\"orange\", shadownColor=\"yellow\", theme='light'):\n",
    "        fig = go.Figure(go.Indicator(\n",
    "            mode=\"gauge+number\",\n",
    "            value=value,\n",
    "            title={'text': title},\n",
    "            gauge={\n",
    "                'axis': {'range': [min, max]},\n",
    "                'bar': {'color': chartColor},\n",
    "                'steps': [\n",
    "                    {'range': [min, value], 'color': shadownColor},\n",
    "                    {'range': [value, max], 'color': \"lightgray\"}\n",
    "                ]\n",
    "            }\n",
    "        ))\n",
    "        \n",
    "        if (theme=='dark'):\n",
    "            fig.update_layout(\n",
    "                font={'color': \"white\"},\n",
    "                paper_bgcolor=\"black\",\n",
    "                plot_bgcolor=\"black\"\n",
    "            )\n",
    "        \n",
    "        return fig\n",
    "\n",
    "    def getGaugeIndicatorColors(currentValue, cutoff25, cutoff75):\n",
    "        # Determinando as Cores dos Gráficos\n",
    "        colorGreen  = {\"title\":\"Normal\",  \"color\": \"#4FBA74\", \"shadown\": \"#3FA261\"}\n",
    "        colorOrange = {\"title\":\"Atenção\", \"color\": \"#FCAB10\", \"shadown\": \"#F29E02\"}\n",
    "        colorRed    = {\"title\":\"Alerta\",  \"color\": \"#F6131E\", \"shadown\": \"#D90812\"}\n",
    "\n",
    "        chartColor   = colorOrange[\"color\"]\n",
    "        chartShadown = colorOrange[\"shadown\"]\n",
    "        if currentValue < cutoff25:\n",
    "            chartColor   = colorGreen[\"color\"]\n",
    "            chartShadown = colorGreen[\"shadown\"]\n",
    "        elif currentValue > cutoff75:\n",
    "            chartColor   = colorRed[\"color\"]\n",
    "            chartShadown = colorRed[\"shadown\"]\n",
    "            \n",
    "        return chartColor, chartShadown\n",
    "    \n",
    "    def createRadar(title,\n",
    "                    dataframe, \n",
    "                    fieldClasses, \n",
    "                    colors=px.colors.sequential.Plasma_r, \n",
    "                    theme='light'):\n",
    "        plotDF = pd.melt(dataframe, id_vars=fieldClasses, var_name='theta', value_name='r')\n",
    "        fig = px.line_polar(\n",
    "            plotDF,\n",
    "            r='r',\n",
    "            theta='theta',\n",
    "            title=title,\n",
    "            color=fieldClasses,\n",
    "            line_close=True,\n",
    "            color_discrete_sequence=colors\n",
    "        )\n",
    "        \n",
    "        if (theme=='dark'):\n",
    "            fig.update_layout(\n",
    "                template=\"plotly_dark\",\n",
    "                title={\n",
    "                    'y': 0.9,\n",
    "                    'x': 0.5,\n",
    "                    'xanchor': 'center',\n",
    "                    'yanchor': 'top'\n",
    "                }\n",
    "            )\n",
    "        \n",
    "        return fig"
   ]
  },
  {
   "cell_type": "code",
   "execution_count": null,
   "id": "e1197900",
   "metadata": {},
   "outputs": [],
   "source": [
    "class Utils:\n",
    "  DAY_NAME_MAP = {\n",
    "    'Monday': 'SEG',\n",
    "    'Tuesday': 'TER',\n",
    "    'Wednesday': 'QUA',\n",
    "    'Thursday': 'QUI',\n",
    "    'Friday': 'SEX',\n",
    "    'Saturday': 'SAB',\n",
    "    'Sunday': 'DOM'\n",
    "  }\n",
    "  \n",
    "  def checkDayPeriod(hora):\n",
    "    if 5 <= hora < 12: return 'Manhã'\n",
    "    elif 12 <= hora < 18: return 'Tarde'\n",
    "    else: return 'Noite'\n",
    "\n",
    "  # Função para classificar os fatos\n",
    "  def classifyCrime(row):\n",
    "    if row['Tipo Fato'] == 'Tentado' and 'HOMICIDIO' in row['Desc Fato']:\n",
    "        return 'Tentativa de Homicídio'\n",
    "    elif row['Tipo Fato'] == 'Tentado' and 'ROUBO' in row['Desc Fato']:\n",
    "        return 'Tentativa de Roubo'\n",
    "    elif row['Tipo Fato'] == 'Consumado' and 'HOMICIDIO' in row['Desc Fato']:\n",
    "        return 'Homicídio'\n",
    "    elif row['Tipo Fato'] == 'Consumado' and 'ROUBO' in row['Desc Fato']:\n",
    "        return 'Roubo'\n",
    "    else:\n",
    "        return 'Outros'\n"
   ]
  },
  {
   "cell_type": "markdown",
   "id": "17bc91f6-8af5-452d-935a-0ff8c860a954",
   "metadata": {},
   "source": [
    "#### **4. ESTRUTURANDO DADOS DE MONITORAMENTO**"
   ]
  },
  {
   "cell_type": "markdown",
   "id": "09456da2-063f-4bb0-a6fb-76336af4bc19",
   "metadata": {
    "jp-MarkdownHeadingCollapsed": true
   },
   "source": [
    "##### **→ CARREGANDO DADOS**"
   ]
  },
  {
   "cell_type": "markdown",
   "id": "dfba3cc4-9b53-4ef6-b323-ba29f8b8f16c",
   "metadata": {},
   "source": [
    "+ **BAIRROS**"
   ]
  },
  {
   "cell_type": "code",
   "execution_count": null,
   "id": "7eba4a44-3c11-48b1-84d4-143e77ea8974",
   "metadata": {},
   "outputs": [],
   "source": [
    "DF_BAIRROS = DataLoader.loadSHP(DATA_PATH, 'RS_CAXIASDOSUL_BAIRROS')\n",
    "DF_BAIRROS.drop(columns=['numerolei', 'link_doc_b', 'observacoe',\n",
    "                         'OBJECTID', 'bairro', 'FREQUENCY', \n",
    "                         'MIN_temper', 'MAX_temper', 'MEAN_tempe', \n",
    "                         'MIN_umidad', 'MAX_umidad', 'MEAN_umida', \n",
    "                         'MIN_lumino', 'MAX_lumino', 'MEAN_lumin',\n",
    "                         'MIN_ruido', 'MAX_ruido', 'MEAN_ruido', \n",
    "                         'MIN_eco2', 'MAX_eco2', 'MEAN_eco2', \n",
    "                         'MIN_etvoc', 'MAX_etvoc', 'MEAN_etvoc', \n",
    "                         'Shape_Leng', 'Shape_Area'], \n",
    "                axis='columns', \n",
    "                inplace=True)"
   ]
  },
  {
   "cell_type": "code",
   "execution_count": null,
   "id": "36357cb0-e7c4-4cf2-a407-b145619d3a52",
   "metadata": {},
   "outputs": [],
   "source": [
    "# Reprojetando camada de bairros\n",
    "DF_BAIRROS = DF_BAIRROS.to_crs(crs=\"EPSG:4326\")"
   ]
  },
  {
   "cell_type": "markdown",
   "id": "efcc5b1f",
   "metadata": {},
   "source": [
    "+ **SETOR CENSITÁRIO**"
   ]
  },
  {
   "cell_type": "code",
   "execution_count": null,
   "id": "e561645c",
   "metadata": {},
   "outputs": [],
   "source": [
    "DF_SETORES = DataLoader.loadSHP(DATA_PATH, 'RS_Malha_Preliminar_2022')\n",
    "DF_SETORES = DF_SETORES[DF_SETORES['NM_MUN'] == 'Caxias do Sul']"
   ]
  },
  {
   "cell_type": "code",
   "execution_count": null,
   "id": "25b2df91",
   "metadata": {},
   "outputs": [],
   "source": [
    "# Reprojetando camada de setores censitários\n",
    "DF_SETORES = DF_SETORES.to_crs(crs=\"EPSG:4326\")"
   ]
  },
  {
   "cell_type": "markdown",
   "id": "4c5cbc09-d2de-4d28-9933-d4cc6f711d7c",
   "metadata": {},
   "source": [
    "+ **MONITORAMENTO AMBIENTAL**"
   ]
  },
  {
   "cell_type": "code",
   "execution_count": null,
   "id": "ae865548-58a9-456e-a6fb-5aeb3519fca9",
   "metadata": {},
   "outputs": [],
   "source": [
    "# Carregar dados de Monitoramento\n",
    "DF_AMV_01 = DataLoader.loadCSV(DATA_PATH, 'AMV_01', '|')\n",
    "DF_AMV_02 = DataLoader.loadCSV(DATA_PATH, 'AMV_02', '|')\n",
    "\n",
    "# Unificando dataframes de monitoramento\n",
    "DF_AMV = pd.concat([DF_AMV_01, DF_AMV_02])\n",
    "\n",
    "# Removendo campos desnecessários\n",
    "DF_AMV.drop('device', axis='columns', inplace=True)\n",
    "\n",
    "# Removendo Latitude e Longitude zero\n",
    "DF_AMV = DF_AMV[(DF_AMV['latitude'] != 0) & (DF_AMV['longitude'] != 0)]"
   ]
  },
  {
   "cell_type": "code",
   "execution_count": null,
   "id": "ea1f61a5-1e73-42cd-b3f1-25f2ab5f4101",
   "metadata": {},
   "outputs": [],
   "source": [
    "# Geoespacializando pontos de monitoramento\n",
    "geometry = [Point(xy) for xy in zip(DF_AMV['longitude'], DF_AMV['latitude'])]\n",
    "DF_AMV = gpd.GeoDataFrame(DF_AMV, geometry=geometry, crs=\"EPSG:4326\")"
   ]
  },
  {
   "cell_type": "markdown",
   "id": "e1e0fd23-d8e9-4342-a725-f535d12e0ee2",
   "metadata": {},
   "source": [
    "+ **SEGURANÇA PÚBLICA**"
   ]
  },
  {
   "cell_type": "code",
   "execution_count": null,
   "id": "34226dfb-6b95-41d0-8751-7fdbacdc6559",
   "metadata": {},
   "outputs": [],
   "source": [
    "# Carregar dados de Segurança Pública\n",
    "DF_SEGURANCA = DataLoader.loadXLSX(DATA_PATH, 'SEGURANCA_PUBLICA')"
   ]
  },
  {
   "cell_type": "markdown",
   "id": "51c481c8-60d7-483a-a70e-7591bcaa505c",
   "metadata": {},
   "source": [
    "+ **SATISFAÇÃO DA POPULAÇÃO**"
   ]
  },
  {
   "cell_type": "code",
   "execution_count": null,
   "id": "7d722be8-34a2-4d7f-a1bf-bffae07a9278",
   "metadata": {},
   "outputs": [],
   "source": [
    "# Carregar dados de Satisfação da População\n",
    "DF_SATISFACAO = DataLoader.loadXLSX(DATA_PATH, 'SATISFACAO')"
   ]
  },
  {
   "cell_type": "markdown",
   "id": "54121886",
   "metadata": {},
   "source": [
    "+ **AGREGADO SETOR 2022**"
   ]
  },
  {
   "cell_type": "code",
   "execution_count": null,
   "id": "6940369c",
   "metadata": {},
   "outputs": [],
   "source": [
    "# Carregar dados de Segurança Pública\n",
    "DF_CENSO_2022 = DataLoader.loadCSV(DATA_PATH, 'AGREGADO_SETOR_RS',';')\n",
    "DF_CENSO_2022 = DF_CENSO_2022[DF_CENSO_2022['NM_MUN'] == 'Caxias do Sul']"
   ]
  },
  {
   "cell_type": "markdown",
   "id": "a8b15858-de55-4468-b4c7-0c527eccb06e",
   "metadata": {
    "jp-MarkdownHeadingCollapsed": true
   },
   "source": [
    "##### **→ RELACIONANDO CAMADAS**"
   ]
  },
  {
   "cell_type": "markdown",
   "id": "016f49e1-db81-4d69-8c21-1ba3d2320196",
   "metadata": {},
   "source": [
    "+ **MONITORAMENTO AMBIENTAL ← BAIRROS**"
   ]
  },
  {
   "cell_type": "code",
   "execution_count": null,
   "id": "8146d1e9-c565-4d2a-bfb2-1bbc42debf43",
   "metadata": {},
   "outputs": [],
   "source": [
    "DF_AMV_BAIRRO = MapUtils.createSpatialJoin(\n",
    "  referenceDF=DF_BAIRROS[['geometry','nome']],\n",
    "  targetDF=DF_AMV)\n",
    "DF_AMV_BAIRRO.rename(columns={'nome':'bairro'}, inplace=True)"
   ]
  },
  {
   "cell_type": "code",
   "execution_count": null,
   "id": "426963e6",
   "metadata": {},
   "outputs": [],
   "source": [
    "DF_AMV_BAIRRO.head(5)"
   ]
  },
  {
   "cell_type": "markdown",
   "id": "6263627f",
   "metadata": {},
   "source": [
    "+ **SETOR CENSITÁRIO ← BAIRROS**"
   ]
  },
  {
   "cell_type": "code",
   "execution_count": null,
   "id": "9bb1d2cd",
   "metadata": {},
   "outputs": [],
   "source": [
    "DF_SETORES_BAIRROS = MapUtils.createSpatialJoin(\n",
    "  referenceDF=DF_BAIRROS[['geometry','nome']],\n",
    "  targetDF=DF_SETORES)\n",
    "DF_SETORES_BAIRROS.rename(columns={'nome':'bairro'}, inplace=True)"
   ]
  },
  {
   "cell_type": "code",
   "execution_count": null,
   "id": "bd84b402",
   "metadata": {},
   "outputs": [],
   "source": [
    "DF_SETORES_BAIRROS.head(5)"
   ]
  },
  {
   "cell_type": "markdown",
   "id": "c86c737f-7471-4df0-b805-434c5a63c937",
   "metadata": {},
   "source": [
    "##### **→ PADRONIZANDO DADOS**"
   ]
  },
  {
   "cell_type": "markdown",
   "id": "a1458b6e-a3c3-489c-b11f-d0ebd07bea2c",
   "metadata": {},
   "source": [
    "+ **MONITORAMENTO AMBIENTAL**"
   ]
  },
  {
   "cell_type": "code",
   "execution_count": null,
   "id": "5291adbe-c715-49ae-910c-5e5acf18d13d",
   "metadata": {},
   "outputs": [],
   "source": [
    "# Padronizando valores da coluna de Bairro\n",
    "DF_AMV_BAIRRO['bairro'] = DF_AMV_BAIRRO['bairro'].apply(lambda x: unidecode(str(x)).upper())\n",
    "\n",
    "# Removendo registros de bairro nulos\n",
    "DF_AMV_BAIRRO = DF_AMV_BAIRRO.dropna(subset=['bairro'])\n",
    "\n",
    "# Renomeando coluna de BAIRRO utilizada para busca\n",
    "DF_AMV_BAIRRO.rename(columns={'bairro': 'BAIRRO'}, inplace=True)\n",
    "\n",
    "# Eliinnado valores inválidos\n",
    "DF_AMV_BAIRRO = DF_AMV_BAIRRO[DF_AMV_BAIRRO['BAIRRO'] != 'NAN']"
   ]
  },
  {
   "cell_type": "code",
   "execution_count": null,
   "id": "fece621b-4766-46c4-ac9f-0a8c887b2a44",
   "metadata": {},
   "outputs": [],
   "source": [
    "# Determinar formato do campo data\n",
    "DF_AMV_BAIRRO['data'] = pd.to_datetime(DF_AMV_BAIRRO['data'])\n",
    "DF_AMV_BAIRRO['day_name'] = DF_AMV_BAIRRO['data'].dt.day_name()"
   ]
  },
  {
   "cell_type": "code",
   "execution_count": null,
   "id": "d4927976",
   "metadata": {},
   "outputs": [],
   "source": [
    "# Criar campos de período, data, hora e dia da semana\n",
    "DF_AMV_BAIRRO['F_PERIODO'] = DF_AMV_BAIRRO['data'].dt.hour.apply(Utils.checkDayPeriod)\n",
    "DF_AMV_BAIRRO['F_HORA'] = DF_AMV_BAIRRO['data'].dt.strftime('%H').astype(int)\n",
    "DF_AMV_BAIRRO['F_MINUTO'] = DF_AMV_BAIRRO['data'].dt.strftime('%M').astype(int)\n",
    "DF_AMV_BAIRRO['F_DIA'] = DF_AMV_BAIRRO['data'].dt.strftime('%d').astype(int)\n",
    "DF_AMV_BAIRRO['F_MES'] = DF_AMV_BAIRRO['data'].dt.strftime('%m').astype(int)\n",
    "DF_AMV_BAIRRO['F_ANO'] = DF_AMV_BAIRRO['data'].dt.strftime('%Y').astype(int)\n",
    "DF_AMV_BAIRRO['F_DIA_SEMANA'] = DF_AMV_BAIRRO['day_name'].map(Utils.DAY_NAME_MAP)"
   ]
  },
  {
   "cell_type": "code",
   "execution_count": null,
   "id": "3016a742",
   "metadata": {},
   "outputs": [],
   "source": [
    "# Apagar campos de processamento temporários\n",
    "DF_AMV_BAIRRO.drop(columns=['day_name'], inplace=True)"
   ]
  },
  {
   "cell_type": "code",
   "execution_count": null,
   "id": "c1239cd8-66dd-405f-91e3-30eb72bd4295",
   "metadata": {},
   "outputs": [],
   "source": [
    "DF_AMV_BAIRRO[COLS_MONITORAMENTO].head(3)"
   ]
  },
  {
   "cell_type": "markdown",
   "id": "87a787aa-8c28-4b93-8c5a-5d11108dbae5",
   "metadata": {},
   "source": [
    "+ **SEGURANÇA PÚBLICA**"
   ]
  },
  {
   "cell_type": "code",
   "execution_count": null,
   "id": "6272585f-e03e-4649-a4b9-85bcffe586c6",
   "metadata": {},
   "outputs": [],
   "source": [
    "# Padronizando valores das colunas Bairro e Município\n",
    "DF_SEGURANCA['Bairro'] = DF_SEGURANCA['Bairro'].apply(lambda x: unidecode(str(x)).upper())\n",
    "DF_SEGURANCA['Municipio'] = DF_SEGURANCA['Municipio'].apply(lambda x: unidecode(str(x)).upper())"
   ]
  },
  {
   "cell_type": "code",
   "execution_count": null,
   "id": "229d52fb-35ba-4201-b3ea-549a7aa1f3ad",
   "metadata": {},
   "outputs": [],
   "source": [
    "# Determinar formato do campo data\n",
    "DF_SEGURANCA['datafato'] = DF_SEGURANCA['Data Fato'].dt.strftime('%Y-%m-%d')\n",
    "DF_SEGURANCA['horafato'] = DF_SEGURANCA['Hora Fato'].astype(str)\n",
    "\n",
    "DF_SEGURANCA['data'] = pd.to_datetime(DF_SEGURANCA['datafato'] + ' ' + DF_SEGURANCA['horafato'])\n",
    "DF_SEGURANCA['day_name'] = DF_SEGURANCA['data'].dt.day_name()"
   ]
  },
  {
   "cell_type": "code",
   "execution_count": null,
   "id": "2a991144",
   "metadata": {},
   "outputs": [],
   "source": [
    "# Criar campos de período, data, e hora\n",
    "DF_SEGURANCA['F_PERIODO'] = DF_AMV_BAIRRO['data'].dt.hour.apply(Utils.checkDayPeriod)\n",
    "DF_SEGURANCA['F_HORA'] = DF_AMV_BAIRRO['data'].dt.strftime('%H').astype(int)\n",
    "DF_SEGURANCA['F_MINUTO'] = DF_SEGURANCA['data'].dt.strftime('%M').astype(int)\n",
    "DF_SEGURANCA['F_DIA'] = DF_SEGURANCA['data'].dt.strftime('%d').astype(int)\n",
    "DF_SEGURANCA['F_MES'] = DF_SEGURANCA['data'].dt.strftime('%m').astype(int)\n",
    "DF_SEGURANCA['F_ANO'] = DF_SEGURANCA['data'].dt.strftime('%Y').astype(int)\n",
    "DF_SEGURANCA['F_DIA_SEMANA'] = DF_SEGURANCA['day_name'].map(Utils.DAY_NAME_MAP)"
   ]
  },
  {
   "cell_type": "code",
   "execution_count": null,
   "id": "6523db95",
   "metadata": {},
   "outputs": [],
   "source": [
    "# Criar campo de classificação do crime\n",
    "DF_SEGURANCA['F_CLASSIFICACAO'] = DF_SEGURANCA.apply(Utils.classifyCrime, axis=1)"
   ]
  },
  {
   "cell_type": "code",
   "execution_count": null,
   "id": "f2785756",
   "metadata": {},
   "outputs": [],
   "source": [
    "# Apagar campos de processamento temporários\n",
    "DF_SEGURANCA.drop(columns=['day_name','datafato','horafato'], inplace=True)"
   ]
  },
  {
   "cell_type": "code",
   "execution_count": null,
   "id": "8f39364b",
   "metadata": {},
   "outputs": [],
   "source": [
    "DF_SEGURANCA.rename(\n",
    "  columns={\n",
    "    \"Municipio\": \"MUNICIPIO\",\n",
    "    \"Bairro\": \"BAIRRO\",\n",
    "  }, \n",
    "  inplace=True\n",
    ")\n",
    "\n",
    "DF_SEGURANCA.reset_index(drop=True, inplace=True)"
   ]
  },
  {
   "cell_type": "code",
   "execution_count": null,
   "id": "ec4d2509-94b0-4385-995f-f08e8ed1c09e",
   "metadata": {},
   "outputs": [],
   "source": [
    "DF_SEGURANCA[COLS_SEGURANCA].head(3)"
   ]
  },
  {
   "cell_type": "code",
   "execution_count": null,
   "id": "c82e9bfd",
   "metadata": {},
   "outputs": [],
   "source": [
    "DF_SEGURANCA['Data Fato'].min()"
   ]
  },
  {
   "cell_type": "code",
   "execution_count": null,
   "id": "1d4ddf6f",
   "metadata": {},
   "outputs": [],
   "source": [
    "DF_SEGURANCA['Data Fato'].max()"
   ]
  },
  {
   "cell_type": "markdown",
   "id": "501a32bd-5041-4972-9eb2-6a68deefb856",
   "metadata": {},
   "source": [
    "+ **SATISFAÇÃO DA POPULAÇÃO**"
   ]
  },
  {
   "cell_type": "code",
   "execution_count": null,
   "id": "b558f27c-8a69-4852-99b3-e98b07007eb8",
   "metadata": {},
   "outputs": [],
   "source": [
    "# Padronizando valores das colunas Bairro\n",
    "DF_SATISFACAO['BAIRRO'] = DF_SATISFACAO['BAIRRO'].apply(lambda x: unidecode(str(x)).upper())"
   ]
  },
  {
   "cell_type": "code",
   "execution_count": null,
   "id": "cb5db1d2",
   "metadata": {},
   "outputs": [],
   "source": [
    "DF_SATISFACAO_STATS = DF_SATISFACAO.groupby('BAIRRO').agg({\n",
    "  'Qtd respostas': 'sum',\n",
    "  'Satisfação com o bairro': 'mean',\n",
    "  'Satisfação com a Saúde': 'mean',\n",
    "  'Prática de atividade física': 'mean',\n",
    "  'Satisfação financeira': 'mean',\n",
    "  'Satisfação com atividade comercial': 'mean',\n",
    "  'Satisfação com qualidade do ar': 'mean',\n",
    "  'Satisfação com ruído': 'mean',\n",
    "  'Satisfação com espaços de lazer': 'mean',\n",
    "  'Satistação com coleta de lixo': 'mean',\n",
    "  'Satisfação com distância da parada de ônibus': 'mean',\n",
    "  'Satisfação com qualidade das paradas de ônibus': 'mean',\n",
    "  'Satisfação com acesso aos locais importantes da cidade': 'mean',\n",
    "  'Sentimento de segurança': 'mean',\n",
    "  'Sentimento de confiança nas pessoas': 'mean',\n",
    "  'Satisfação com tratamento de esgoto': 'mean'\n",
    "})"
   ]
  },
  {
   "cell_type": "code",
   "execution_count": null,
   "id": "a2589091",
   "metadata": {},
   "outputs": [],
   "source": [
    "DF_SATISFACAO.rename(\n",
    "  columns={\n",
    "    'Qtd respostas': 'QTD_RESP',\n",
    "    'Satisfação com o bairro': 'SAT01',\n",
    "    'Satisfação com a Saúde': 'SAT02',\n",
    "    'Prática de atividade física': 'SAT03',\n",
    "    'Satisfação financeira': 'SAT04',\n",
    "    'Satisfação com atividade comercial': 'SAT05',\n",
    "    'Satisfação com qualidade do ar': 'SAT06',\n",
    "    'Satisfação com ruído': 'SAT07',\n",
    "    'Satisfação com espaços de lazer': 'SAT08',\n",
    "    'Satistação com coleta de lixo': 'SAT09',\n",
    "    'Satisfação com distância da parada de ônibus': 'SAT10',\n",
    "    'Satisfação com qualidade das paradas de ônibus': 'SAT11',\n",
    "    'Satisfação com acesso aos locais importantes da cidade': 'SAT12',\n",
    "    'Sentimento de segurança': 'SAT13',\n",
    "    'Sentimento de confiança nas pessoas': 'SAT14',\n",
    "    'Satisfação com tratamento de esgoto': 'SAT15'\n",
    "  },\n",
    "  inplace=True\n",
    ")"
   ]
  },
  {
   "cell_type": "code",
   "execution_count": null,
   "id": "8eb1a47c",
   "metadata": {},
   "outputs": [],
   "source": [
    "# Padronizando valores das colunas Bairro\n",
    "DF_SATISFACAO['BAIRRO'] = DF_SATISFACAO['BAIRRO'].apply(lambda x: unidecode(str(x)).upper())"
   ]
  },
  {
   "cell_type": "code",
   "execution_count": null,
   "id": "48debb2e",
   "metadata": {},
   "outputs": [],
   "source": [
    "DF_SATISFACAO[COLS_SATISFACAO].head(3)"
   ]
  },
  {
   "cell_type": "markdown",
   "id": "465947f1",
   "metadata": {},
   "source": [
    "+ **SETORES CENSITÁRIOS**"
   ]
  },
  {
   "cell_type": "code",
   "execution_count": null,
   "id": "844d80ba",
   "metadata": {},
   "outputs": [],
   "source": [
    "DF_SETORES_BAIRROS.rename(columns={'bairro': 'BAIRRO'}, inplace=True)"
   ]
  },
  {
   "cell_type": "markdown",
   "id": "4e31624d",
   "metadata": {},
   "source": [
    "##### **→ GERANDO DADOS FINAIS**"
   ]
  },
  {
   "cell_type": "markdown",
   "id": "20abeb84",
   "metadata": {},
   "source": [
    "+ **SEGURANÇA PÚBLICA**"
   ]
  },
  {
   "cell_type": "code",
   "execution_count": null,
   "id": "28ca1b1d",
   "metadata": {},
   "outputs": [],
   "source": [
    "DF_SEGURANCA_GRP = DF_SEGURANCA.groupby(['BAIRRO']).size().reset_index(name='NRO_CRIMES')\n",
    "DF_SEGURANCA_GRP.head(5)"
   ]
  },
  {
   "cell_type": "markdown",
   "id": "fc2f6894",
   "metadata": {},
   "source": [
    "+ **SATISFAÇÃO**"
   ]
  },
  {
   "cell_type": "code",
   "execution_count": null,
   "id": "6c486e1d",
   "metadata": {},
   "outputs": [],
   "source": [
    "DF_SATISFACAO_GRP = DF_SATISFACAO.groupby(['BAIRRO']).agg({\n",
    "  'QTD_RESP': 'sum',\n",
    "  'SAT01': 'sum',\n",
    "  'SAT02': 'sum',\n",
    "  'SAT03': 'sum',\n",
    "  'SAT04': 'sum',\n",
    "  'SAT05': 'sum',\n",
    "  'SAT06': 'sum',\n",
    "  'SAT07': 'sum',\n",
    "  'SAT08': 'sum',\n",
    "  'SAT09': 'sum',\n",
    "  'SAT10': 'sum',\n",
    "  'SAT11': 'sum',\n",
    "  'SAT12': 'sum',\n",
    "  'SAT13': 'sum',\n",
    "  'SAT14': 'sum',\n",
    "  'SAT15': 'sum',\n",
    "}).reset_index()\n",
    "DF_SATISFACAO_GRP.head(5)"
   ]
  },
  {
   "cell_type": "markdown",
   "id": "6ee7d755",
   "metadata": {},
   "source": [
    "+ **SETORES CENSITÁRIOS**"
   ]
  },
  {
   "cell_type": "code",
   "execution_count": null,
   "id": "384c9586",
   "metadata": {},
   "outputs": [],
   "source": [
    "DF_SETORES_GRP = DF_SETORES_BAIRROS.groupby(['BAIRRO']).agg({\n",
    "  'v0001': 'sum',\n",
    "  'v0002': 'sum',\n",
    "  'v0003': 'sum',\n",
    "  'v0004': 'sum',\n",
    "  'v0005': 'sum',\n",
    "  'v0006': 'sum',\n",
    "  'v0007': 'sum',\n",
    "}).reset_index()\n",
    "DF_SETORES_GRP.head(5)"
   ]
  },
  {
   "cell_type": "markdown",
   "id": "d97f712f",
   "metadata": {},
   "source": [
    "+ **UNIFICANDO INFORMAÇÕES**"
   ]
  },
  {
   "cell_type": "code",
   "execution_count": null,
   "id": "d9ecc004",
   "metadata": {},
   "outputs": [],
   "source": [
    "# Mesclar os dataframes resultantes no DF_AMV_BAIRRO\n",
    "DF_DATA = DF_AMV_BAIRRO.copy()"
   ]
  },
  {
   "cell_type": "code",
   "execution_count": null,
   "id": "e795a49d",
   "metadata": {},
   "outputs": [],
   "source": [
    "# Mesclar dados de segurança\n",
    "DF_DATA = DF_DATA.merge(DF_SEGURANCA_GRP, how='left', left_on='BAIRRO', right_on='BAIRRO')"
   ]
  },
  {
   "cell_type": "code",
   "execution_count": null,
   "id": "743eb09f",
   "metadata": {},
   "outputs": [],
   "source": [
    "# Mesclar dados de satisfação\n",
    "DF_DATA = DF_DATA.merge(DF_SATISFACAO_GRP, how='left', left_on='BAIRRO', right_on='BAIRRO')"
   ]
  },
  {
   "cell_type": "code",
   "execution_count": null,
   "id": "72811d23",
   "metadata": {},
   "outputs": [],
   "source": [
    "# Mesclar dados de setores e bairros\n",
    "DF_DATA = DF_DATA.merge(DF_SETORES_GRP, how='left', left_on='BAIRRO', right_on='BAIRRO')"
   ]
  },
  {
   "cell_type": "markdown",
   "id": "2b3a295c-7e60-4def-bf52-44624aa313b4",
   "metadata": {},
   "source": [
    "#### **5. CONFIGURANDO DADOS ANALÍTICOS**"
   ]
  },
  {
   "cell_type": "markdown",
   "id": "35f26fb0",
   "metadata": {},
   "source": [
    "##### **→ CONFIGURAR FILTROS**"
   ]
  },
  {
   "cell_type": "code",
   "execution_count": null,
   "id": "7a76ab67",
   "metadata": {},
   "outputs": [],
   "source": [
    "FILTROS = {\n",
    "  'BAIRRO': DF_AMV_BAIRRO['BAIRRO'].unique(),\n",
    "  'PERÍODO': DF_AMV_BAIRRO['F_PERIODO'].unique(),\n",
    "  'HORA': DF_AMV_BAIRRO['F_HORA'].unique(),\n",
    "  'MINUTO': DF_AMV_BAIRRO['F_MINUTO'].unique(),\n",
    "  'DIA': DF_AMV_BAIRRO['F_DIA'].unique(),\n",
    "  'MÊS': DF_AMV_BAIRRO['F_MES'].unique(),\n",
    "  'ANO': DF_AMV_BAIRRO['F_ANO'].unique(),\n",
    "  'DIA DA SEMANA': DF_AMV_BAIRRO['F_DIA_SEMANA'].unique(),\n",
    "}\n",
    "\n",
    "# FILTROS\n",
    "FILTRO_BAIRRO         = ['ANA RECH','BELO HORIZONTE','CENTENARIO']\n",
    "FILTRO_PERIODO        = 'MANHÃ'\n",
    "FILTRO_DIA_SEMANA     = 'DOM'\n",
    "\n",
    "# DATA E HORA (DE)\n",
    "FILTRO_DIA_DE         = 1\n",
    "FILTRO_MES_DE         = 11\n",
    "FILTRO_ANO_DE         = 2023\n",
    "FILTRO_HORA_DE        = 0\n",
    "FILTRO_MINUTO_DE      = 1\n",
    "\n",
    "# DATA E HORA (ATÉ)\n",
    "FILTRO_DIA_ATE        = 30\n",
    "FILTRO_MES_ATE        = 11\n",
    "FILTRO_ANO_ATE        = 2023\n",
    "FILTRO_HORA_ATE       = 23\n",
    "FILTRO_MINUTO_ATE     = 59\n",
    "\n",
    "# APLICANDO FILTRO\n",
    "DF_AMV_FILTERED = DF_AMV_BAIRRO[DF_AMV_BAIRRO['BAIRRO'].isin(FILTRO_BAIRRO)]\n",
    "DF_SEGURANCA_FILTERED = DF_SEGURANCA[DF_SEGURANCA['BAIRRO'].isin(FILTRO_BAIRRO)]"
   ]
  },
  {
   "cell_type": "markdown",
   "id": "1e9cf1e8",
   "metadata": {},
   "source": [
    "##### **→ CRIAR GRÁFICOS DE INDICADORES**"
   ]
  },
  {
   "cell_type": "markdown",
   "id": "9a2a48f4",
   "metadata": {},
   "source": [
    "+ **CALCULANDO VALORES DE REFERÊNCIA PARA INDICADORES**"
   ]
  },
  {
   "cell_type": "code",
   "execution_count": null,
   "id": "d0d91c50",
   "metadata": {},
   "outputs": [],
   "source": [
    "# TEMPERATURA\n",
    "TEMPERATURE_MIN = DF_AMV_FILTERED['temperatura'].min()\n",
    "TEMPERATURE_MAX = DF_AMV_FILTERED['temperatura'].max()\n",
    "TEMPERATURE_MEAN = DF_AMV_FILTERED['temperatura'].mean()\n",
    "TEMPERATURE_CUTOFF_25 = TEMPERATURE_MIN + 0.25 * (TEMPERATURE_MAX - TEMPERATURE_MIN)\n",
    "TEMPERATURE_CUTOFF_75 = TEMPERATURE_MIN + 0.75 * (TEMPERATURE_MAX - TEMPERATURE_MIN)\n",
    "\n",
    "# UMIDADE\n",
    "UMIDADE_MIN = DF_AMV_FILTERED['umidade'].min()\n",
    "UMIDADE_MAX = DF_AMV_FILTERED['umidade'].max()\n",
    "UMIDADE_MEAN = DF_AMV_FILTERED['umidade'].mean()\n",
    "UMIDADE_CUTOFF_25 = UMIDADE_MIN + 0.25 * (UMIDADE_MAX - UMIDADE_MIN)\n",
    "UMIDADE_CUTOFF_75 = UMIDADE_MIN + 0.75 * (UMIDADE_MAX - UMIDADE_MIN)\n",
    "\n",
    "# LUMINOSIDADE\n",
    "LUMINOSIDADE_MIN = DF_AMV_FILTERED['luminosidade'].min()\n",
    "LUMINOSIDADE_MAX = DF_AMV_FILTERED['luminosidade'].max()\n",
    "LUMINOSIDADE_MEAN = DF_AMV_FILTERED['luminosidade'].mean()\n",
    "LUMINOSIDADE_CUTOFF_25 = LUMINOSIDADE_MIN + 0.25 * (LUMINOSIDADE_MAX - LUMINOSIDADE_MIN)\n",
    "LUMINOSIDADE_CUTOFF_75 = LUMINOSIDADE_MIN + 0.75 * (LUMINOSIDADE_MAX - LUMINOSIDADE_MIN)\n",
    "\n",
    "# RUÍDO\n",
    "RUIDO_MIN = DF_AMV_FILTERED['ruido'].min()\n",
    "RUIDO_MAX = DF_AMV_FILTERED['ruido'].max()\n",
    "RUIDO_MEAN = DF_AMV_FILTERED['ruido'].mean()\n",
    "RUIDO_CUTOFF_25 = RUIDO_MIN + 0.25 * (RUIDO_MAX - RUIDO_MIN)\n",
    "RUIDO_CUTOFF_75 = RUIDO_MIN + 0.75 * (RUIDO_MAX - RUIDO_MIN)\n",
    "\n",
    "# CO2\n",
    "CO2_MIN = DF_AMV_FILTERED['eco2'].min()\n",
    "CO2_MAX = DF_AMV_FILTERED['eco2'].max()\n",
    "CO2_MEAN = DF_AMV_FILTERED['eco2'].mean()\n",
    "CO2_CUTOFF_25 = CO2_MIN + 0.25 * (CO2_MAX - CO2_MIN)\n",
    "CO2_CUTOFF_75 = CO2_MIN + 0.75 * (CO2_MAX - CO2_MIN)\n",
    "\n",
    "# TVOC\n",
    "TVOC_MIN = DF_AMV_FILTERED['etvoc'].min()\n",
    "TVOC_MAX = DF_AMV_FILTERED['etvoc'].max()\n",
    "TVOC_MEAN = DF_AMV_FILTERED['etvoc'].mean()\n",
    "TVOC_CUTOFF_25 = TVOC_MIN + 0.25 * (TVOC_MAX - TVOC_MIN)\n",
    "TVOC_CUTOFF_75 = TVOC_MIN + 0.75 * (TVOC_MAX - TVOC_MIN)"
   ]
  },
  {
   "cell_type": "markdown",
   "id": "903cec6f",
   "metadata": {},
   "source": [
    "+ **CONFIGURANDO GRÁFICOS**"
   ]
  },
  {
   "cell_type": "code",
   "execution_count": null,
   "id": "566b6f6c",
   "metadata": {},
   "outputs": [],
   "source": [
    "indicatorCharts = []\n",
    "\n",
    "# GRÁFICO DE TEMPERATURA\n",
    "chartTemperatureColor, chartTemperatureShadown = ChartUtils.getGaugeIndicatorColors(\n",
    "  TEMPERATURE_MEAN, \n",
    "  TEMPERATURE_CUTOFF_25, \n",
    "  TEMPERATURE_CUTOFF_75\n",
    ")\n",
    "chartTemperature = ChartUtils.createGauge(\n",
    "  title=\"Temperatura (°C)\",\n",
    "  value=TEMPERATURE_MEAN,\n",
    "  min=TEMPERATURE_MIN,\n",
    "  max=TEMPERATURE_MAX,\n",
    "  chartColor=f\"{chartTemperatureColor}\",\n",
    "  shadownColor=f\"{chartTemperatureShadown}\",\n",
    "  theme='dark'\n",
    ")\n",
    "indicatorCharts.append(chartTemperature)\n",
    "\n",
    "# GRÁFICO DE UMIDADE\n",
    "chartUmidadeColor, chartUmidadeShadown = ChartUtils.getGaugeIndicatorColors(\n",
    "  UMIDADE_MEAN, \n",
    "  UMIDADE_CUTOFF_25, \n",
    "  UMIDADE_CUTOFF_75\n",
    ")\n",
    "chartUmidade = ChartUtils.createGauge(\n",
    "  title=\"Umidade\",\n",
    "  value=UMIDADE_MEAN,\n",
    "  min=UMIDADE_MIN,\n",
    "  max=UMIDADE_MAX,\n",
    "  chartColor=f\"{chartUmidadeColor}\",\n",
    "  shadownColor=f\"{chartUmidadeShadown}\",\n",
    "  theme='dark'\n",
    ")\n",
    "indicatorCharts.append(chartUmidade)\n",
    "\n",
    "# GRÁFICO DE LUMINOSIDADE\n",
    "chartLuminosidadeColor, chartLuminosidadeShadown = ChartUtils.getGaugeIndicatorColors(\n",
    "  LUMINOSIDADE_MEAN, \n",
    "  LUMINOSIDADE_CUTOFF_25, \n",
    "  LUMINOSIDADE_CUTOFF_75\n",
    ")\n",
    "chartLuminosidade = ChartUtils.createGauge(\n",
    "  title=\"Luminosidade\",\n",
    "  value=LUMINOSIDADE_MEAN,\n",
    "  min=LUMINOSIDADE_MIN,\n",
    "  max=LUMINOSIDADE_MAX,\n",
    "  chartColor=f\"{chartLuminosidadeColor}\",\n",
    "  shadownColor=f\"{chartLuminosidadeShadown}\",\n",
    "  theme='dark'\n",
    ")\n",
    "indicatorCharts.append(chartLuminosidade)\n",
    "\n",
    "# GRÁFICO DE RUÍDO\n",
    "chartRuidoColor, chartRuidoShadown = ChartUtils.getGaugeIndicatorColors(\n",
    "  RUIDO_MEAN, \n",
    "  RUIDO_CUTOFF_25, \n",
    "  RUIDO_CUTOFF_75\n",
    ")\n",
    "chartRuido = ChartUtils.createGauge(\n",
    "  title=\"Ruído\",\n",
    "  value=RUIDO_MEAN,\n",
    "  min=RUIDO_MIN,\n",
    "  max=RUIDO_MAX,\n",
    "  chartColor=f\"{chartRuidoColor}\",\n",
    "  shadownColor=f\"{chartRuidoShadown}\",\n",
    "  theme='dark'\n",
    ")\n",
    "indicatorCharts.append(chartRuido)\n",
    "\n",
    "# GRÁFICO DE CO2\n",
    "chartCO2Color, chartCO2Shadown = ChartUtils.getGaugeIndicatorColors(\n",
    "  CO2_MEAN, \n",
    "  CO2_CUTOFF_25, \n",
    "  CO2_CUTOFF_75\n",
    ")\n",
    "chartCO2 = ChartUtils.createGauge(\n",
    "  title=\"CO₂\",\n",
    "  value=CO2_MEAN,\n",
    "  min=CO2_MIN,\n",
    "  max=CO2_MAX,\n",
    "  chartColor=f\"{chartCO2Color}\",\n",
    "  shadownColor=f\"{chartCO2Shadown}\",\n",
    "  theme='dark'\n",
    ")\n",
    "indicatorCharts.append(chartCO2)\n",
    "\n",
    "# GRÁFICO DE TVOC\n",
    "chartTVOCColor, chartTVOCShadown = ChartUtils.getGaugeIndicatorColors(\n",
    "  TVOC_MEAN, \n",
    "  TVOC_CUTOFF_25, \n",
    "  TVOC_CUTOFF_75\n",
    ")\n",
    "chartTVOC = ChartUtils.createGauge(\n",
    "  title=\"TVOC\",\n",
    "  value=TVOC_MEAN,\n",
    "  min=TVOC_MIN,\n",
    "  max=TVOC_MAX,\n",
    "  chartColor=f\"{chartTVOCColor}\",\n",
    "  shadownColor=f\"{chartTVOCShadown}\",\n",
    "  theme='dark'\n",
    ")\n",
    "indicatorCharts.append(chartTVOC)"
   ]
  },
  {
   "cell_type": "markdown",
   "id": "c16c8904",
   "metadata": {},
   "source": [
    "+ **VISUALIZANDO GRÁFICOS GERADOS**"
   ]
  },
  {
   "cell_type": "code",
   "execution_count": null,
   "id": "e9a08c73",
   "metadata": {},
   "outputs": [],
   "source": [
    "# Criar subplots\n",
    "fig = make_subplots(\n",
    "    rows=3, cols=2,\n",
    "    specs=[\n",
    "        [{\"type\": \"indicator\"}, {\"type\": \"indicator\"}],\n",
    "        [{\"type\": \"indicator\"}, {\"type\": \"indicator\"}],\n",
    "        [{\"type\": \"indicator\"}, {\"type\": \"indicator\"}]\n",
    "    ]\n",
    ")\n",
    "\n",
    "# Adicionar gráficos aos subplots\n",
    "for i, chart in enumerate(indicatorCharts):\n",
    "    row = i // 2 + 1\n",
    "    col = i % 2 + 1\n",
    "    fig.add_trace(chart.data[0], row=row, col=col)\n",
    "\n",
    "# Atualizar layout\n",
    "fig.update_layout(\n",
    "    font={'color': \"white\"},\n",
    "    paper_bgcolor=\"black\",\n",
    "    plot_bgcolor=\"black\",\n",
    "    height=900, \n",
    "    showlegend=False)\n",
    "\n",
    "# Mostrar gráfico\n",
    "fig.show()"
   ]
  },
  {
   "cell_type": "markdown",
   "id": "1c909df7",
   "metadata": {},
   "source": [
    "##### **→ CONFIGURANDO GRÁFICO COMPARATIVO**"
   ]
  },
  {
   "cell_type": "code",
   "execution_count": null,
   "id": "70a6b74c",
   "metadata": {},
   "outputs": [],
   "source": [
    "COLS_MONITORAMENTO_GROUP = ['BAIRRO']\n",
    "\n",
    "# Interpolando valores das colunas de indicadores\n",
    "COLS_MONITORAMENTO_RADAR = [\n",
    "    'TEMPERATURA', \n",
    "    'UMIDADE', \n",
    "    'LUMINOSIDADE', \n",
    "    'RUIDO', \n",
    "    'CO2', \n",
    "    'ETVOC'\n",
    "]\n",
    "\n",
    "COLS_MONITORAMENTO_N = [\n",
    "    'N_TEMPERATURA', \n",
    "    'N_UMIDADE', \n",
    "    'N_LUMINOSIDADE', \n",
    "    'N_RUIDO', \n",
    "    'N_CO2', \n",
    "    'N_ETVOC'\n",
    "]"
   ]
  },
  {
   "cell_type": "markdown",
   "id": "5140db4f",
   "metadata": {},
   "source": [
    "+ **CONFIGURANDO DADOS DE MONITORAMENTO**"
   ]
  },
  {
   "cell_type": "code",
   "execution_count": null,
   "id": "a92664bb",
   "metadata": {},
   "outputs": [],
   "source": [
    "DF_AMV_RADAR = DF_AMV_FILTERED[['BAIRRO',\n",
    "                                'temperatura',\n",
    "                                'umidade',\n",
    "                                'luminosidade',\n",
    "                                'ruido',\n",
    "                                'eco2',\n",
    "                                'etvoc']]\n",
    "\n",
    "DF_AMV_RADAR.rename(\n",
    "  columns={'temperatura': 'TEMPERATURA',\n",
    "           'umidade': 'UMIDADE',\n",
    "           'luminosidade': 'LUMINOSIDADE',\n",
    "           'ruido': 'RUIDO',\n",
    "           'eco2': 'CO2',\n",
    "           'etvoc': 'ETVOC'},\n",
    "  inplace=True\n",
    ")"
   ]
  },
  {
   "cell_type": "markdown",
   "id": "6d6f28ba",
   "metadata": {},
   "source": [
    "+ **INTERPOLANDO VALORES DE INDICADORES**"
   ]
  },
  {
   "cell_type": "code",
   "execution_count": null,
   "id": "1cc09d14",
   "metadata": {},
   "outputs": [],
   "source": [
    "DF_AMV_RADAR[f'{COLS_MONITORAMENTO_N[0]}'] = DF_AMV_RADAR[f'{COLS_MONITORAMENTO_RADAR[0]}']\n",
    "DF_AMV_RADAR[f'{COLS_MONITORAMENTO_N[1]}'] = DF_AMV_RADAR[f'{COLS_MONITORAMENTO_RADAR[1]}']\n",
    "DF_AMV_RADAR[f'{COLS_MONITORAMENTO_N[2]}'] = DF_AMV_RADAR[f'{COLS_MONITORAMENTO_RADAR[2]}']\n",
    "DF_AMV_RADAR[f'{COLS_MONITORAMENTO_N[3]}'] = DF_AMV_RADAR[f'{COLS_MONITORAMENTO_RADAR[3]}']\n",
    "DF_AMV_RADAR[f'{COLS_MONITORAMENTO_N[4]}'] = DF_AMV_RADAR[f'{COLS_MONITORAMENTO_RADAR[4]}']\n",
    "DF_AMV_RADAR[f'{COLS_MONITORAMENTO_N[5]}'] = DF_AMV_RADAR[f'{COLS_MONITORAMENTO_RADAR[5]}']\n",
    "\n",
    "scaler = MinMaxScaler()\n",
    "DF_AMV_RADAR[COLS_MONITORAMENTO_N] = scaler.fit_transform(DF_AMV_RADAR[COLS_MONITORAMENTO_N])"
   ]
  },
  {
   "cell_type": "markdown",
   "id": "4565f282",
   "metadata": {},
   "source": [
    "+ **AJUSTANDO DADOS FINAIS PARA COMPARAÇÃO**"
   ]
  },
  {
   "cell_type": "code",
   "execution_count": null,
   "id": "140e30f1",
   "metadata": {},
   "outputs": [],
   "source": [
    "DF_AMV_RADAR_PLOT = DF_AMV_RADAR.groupby(COLS_MONITORAMENTO_GROUP).mean()\n",
    "\n",
    "DF_AMV_RADAR_PLOT.drop(\n",
    "    columns=['TEMPERATURA','UMIDADE', 'LUMINOSIDADE', 'RUIDO', 'CO2', 'ETVOC'], \n",
    "    axis='columns', \n",
    "    inplace=True\n",
    ")\n",
    "\n",
    "DF_AMV_RADAR_PLOT.rename(\n",
    "columns={\n",
    "    'N_TEMPERATURA': 'TEMPERATURA', \n",
    "    'N_UMIDADE': 'UMIDADE', \n",
    "    'N_LUMINOSIDADE': 'LUMINOSIDADE', \n",
    "    'N_RUIDO': 'RUIDO', \n",
    "    'N_CO2': 'CO2', \n",
    "    'N_ETVOC': 'ETVOC'},\n",
    "inplace=True\n",
    ")\n",
    "\n",
    "DF_AMV_RADAR_PLOT.reset_index(inplace=True)"
   ]
  },
  {
   "cell_type": "code",
   "execution_count": null,
   "id": "f64f9798",
   "metadata": {},
   "outputs": [],
   "source": [
    "DF_AMV_RADAR_PLOT.head(3)"
   ]
  },
  {
   "cell_type": "markdown",
   "id": "ecf583ff",
   "metadata": {},
   "source": [
    "+ **CONFIGURANDO GRÁFICOS**"
   ]
  },
  {
   "cell_type": "code",
   "execution_count": null,
   "id": "8a817acb",
   "metadata": {},
   "outputs": [],
   "source": [
    "chartMonitoramentoBairro = ChartUtils.createRadar(\n",
    "  title='INDICADORES POR BAIRRO',\n",
    "  dataframe=DF_AMV_RADAR_PLOT,\n",
    "  fieldClasses='BAIRRO',\n",
    "  colors=px.colors.sequential.Jet_r,\n",
    "  theme='dark',\n",
    ")\n",
    "chartMonitoramentoBairro.show()"
   ]
  },
  {
   "cell_type": "markdown",
   "id": "78d01e5b",
   "metadata": {},
   "source": [
    "#### **6. CONFIGURANDO MAPA**"
   ]
  },
  {
   "cell_type": "markdown",
   "id": "d5c1742f",
   "metadata": {},
   "source": [
    "##### **→ INICIALIZANDO MAPA**"
   ]
  },
  {
   "cell_type": "code",
   "execution_count": null,
   "id": "2868a420",
   "metadata": {},
   "outputs": [],
   "source": [
    "mapMATR = MapUtils.createMap(INITIAL_COORDS, 12, BASEMAPS[4], False, True, False, True)"
   ]
  },
  {
   "cell_type": "markdown",
   "id": "6a79d46e",
   "metadata": {},
   "source": [
    "##### **→ ADICIONANDO CAMADAS BASE**"
   ]
  },
  {
   "cell_type": "code",
   "execution_count": null,
   "id": "4bb2bc2d",
   "metadata": {},
   "outputs": [],
   "source": [
    "# Criando camada de bairros e adicionando ao mapa\n",
    "lyrBairrosStyle = {\n",
    "    'fillColor': 'none',  # Sem preenchimento\n",
    "    'color': '#CDAA66',   # Cor da borda cinza\n",
    "    'weight': 3,          # Espessura da borda\n",
    "    'fillOpacity': 0      # Transparência do preenchimento\n",
    "}\n",
    "\n",
    "lyrBairros = MapUtils.addLayer(\n",
    "    geoDF=DF_BAIRROS, \n",
    "    layerName='Bairros',\n",
    "    styleConfig=lyrBairrosStyle, \n",
    "    popupField='nome'\n",
    ")\n",
    "\n",
    "lyrBairros.add_child(\n",
    "    folium.features.GeoJsonTooltip(['nome'], labels=False)\n",
    ")"
   ]
  },
  {
   "cell_type": "code",
   "execution_count": null,
   "id": "421b81f5",
   "metadata": {},
   "outputs": [],
   "source": [
    "# Criando camada de setores e adicionando ao mapa\n",
    "lyrSetoresStyle = {\n",
    "    'fillColor': 'none',  # Sem preenchimento\n",
    "    'color': '#FF0000',   # Cor da borda cinza\n",
    "    'weight': 0.5,        # Espessura da borda\n",
    "    'fillOpacity': 0      # Transparência do preenchimento\n",
    "}\n",
    "\n",
    "lyrSetores = MapUtils.addLayer(\n",
    "    geoDF=DF_SETORES, \n",
    "    layerName='Setores Censitários (2022)',\n",
    "    styleConfig=lyrSetoresStyle, \n",
    "    popupField='CD_SETOR'\n",
    ")"
   ]
  },
  {
   "cell_type": "code",
   "execution_count": null,
   "id": "9f25c934",
   "metadata": {},
   "outputs": [],
   "source": [
    "# lyrAMVStyle = {\n",
    "#     'icon': 'circle',   # Padrão folium Icon\n",
    "#     'color': 'blue',    # Cor do ponto\n",
    "#     'fillOpacity': 1.0  # Opacidade do ponto\n",
    "# }\n",
    "\n",
    "# # Adicionando pontos ao mapa\n",
    "# lyrAMV = MapUtils.addLayer(DF_AMV, styleConfig=lyrAMVStyle)"
   ]
  },
  {
   "cell_type": "markdown",
   "metadata": {},
   "source": [
    "##### **→ ADICIONANDO CAMADAS DE ANÁLISE**"
   ]
  },
  {
   "cell_type": "code",
   "execution_count": null,
   "id": "a0b7bfa9",
   "metadata": {},
   "outputs": [],
   "source": [
    "# lyrAMVStyle = {\n",
    "#     'icon': 'circle',    # Padrão folium Icon\n",
    "#     'color': 'red',      # Cor do ponto\n",
    "#     'fillOpacity': 0.75  # Opacidade do ponto\n",
    "# }\n",
    "\n",
    "# # Adicionando pontos ao mapa\n",
    "# lyrAMVBairro = MapUtils.addLayer(DF_AMV_BAIRRO, styleConfig=lyrAMVStyle)"
   ]
  },
  {
   "cell_type": "markdown",
   "id": "ba83277f",
   "metadata": {},
   "source": [
    "##### **→ VISUALIZANDO MAPA**"
   ]
  },
  {
   "cell_type": "code",
   "execution_count": null,
   "id": "524abc93",
   "metadata": {},
   "outputs": [],
   "source": [
    "if (USE_MAP):\n",
    "  # mapMATR.add_child(lyrSetores)\n",
    "  mapMATR.add_child(lyrBairros)\n",
    "  # mapMATR.add_child(lyrAMV)\n",
    "\n",
    "  if (MapUtils.hasLayer(mapMATR, 'layer_control') == False):\n",
    "    folium.LayerControl().add_to(mapMATR)\n",
    "    display(mapMATR)"
   ]
  },
  {
   "cell_type": "markdown",
   "id": "efbaa3d8",
   "metadata": {},
   "source": [
    "#### **7. CONFIGURANDO DASHBOARD**"
   ]
  },
  {
   "cell_type": "code",
   "execution_count": null,
   "id": "dcc45cdf",
   "metadata": {},
   "outputs": [],
   "source": [
    "# TÍTULO\n",
    "with st.container():\n",
    "  st.markdown(\n",
    "      \"\"\"\n",
    "      <style>\n",
    "      .header-bar {\n",
    "          background-color: #222222;\n",
    "          padding: 10px;\n",
    "          color: white;\n",
    "          text-align: center;\n",
    "          font-size: 24px;\n",
    "          font-weight: bold;\n",
    "          margin-bottom: 15px;\n",
    "      }\n",
    "      </style>\n",
    "      <div class=\"header-bar\">\n",
    "          Monitoramento Ambiental em Tempo Real\n",
    "      </div>\n",
    "      \"\"\",\n",
    "      unsafe_allow_html=True\n",
    "  )"
   ]
  },
  {
   "cell_type": "code",
   "execution_count": null,
   "id": "8c231758",
   "metadata": {},
   "outputs": [],
   "source": [
    "# FILTROS\n",
    "FILTRO_BAIRRO = st.sidebar.multiselect('Bairro(s)', options=FILTROS['BAIRRO'], placeholder=\"Escolha uma opção\")\n",
    "FILTRO_PERIODO = st.sidebar.multiselect('Período(s)', options=FILTROS['PERÍODO'], placeholder=\"Escolha uma opção\")\n",
    "FILTRO_DIA_SEMANA = st.sidebar.multiselect('Dia(s) da Semana', options=FILTROS['DIA DA SEMANA'], placeholder=\"Escolha uma opção\")\n",
    "\n",
    "# DATA E HORA (DE)\n",
    "with st.sidebar.container():\n",
    "    st.write(\"### Data e Hora (DE)\")\n",
    "    FILTRO_DIA_DE = st.sidebar.slider(key='DIA_DE', label='Dia', min_value=1, max_value=31, value=1)\n",
    "    FILTRO_MES_DE = st.sidebar.slider(key='MES_DE', label='Mês', min_value=1, max_value=12, value=1)\n",
    "    FILTRO_ANO_DE = st.sidebar.slider(key='ANO_DE', label='Ano', min_value=2023, max_value=2024, value=2023)\n",
    "    FILTRO_HORA_DE = st.sidebar.slider(key='HORA_DE', label='Hora', min_value=0, max_value=23, value=0)\n",
    "    FILTRO_MINUTO_DE = st.sidebar.slider(key='MIN_DE', label='Minuto', min_value=0, max_value=59, value=0)\n",
    "\n",
    "# DATA E HORA (ATÉ)\n",
    "with st.sidebar.container():\n",
    "    st.write(\"### Data e Hora (ATÉ)\")\n",
    "    FILTRO_DIA_ATE = st.sidebar.slider(key='DIA_ATE', label='Dia', min_value=1, max_value=31, value=1)\n",
    "    FILTRO_MES_ATE = st.sidebar.slider(key='MES_ATE', label='Mês', min_value=1, max_value=12, value=1)\n",
    "    FILTRO_ANO_ATE = st.sidebar.slider(key='ANO_ATE', label='Ano', min_value=2023, max_value=2024, value=2023)\n",
    "    FILTRO_HORA_ATE = st.sidebar.slider(key='HORA_ATE', label='Hora', min_value=0, max_value=23, value=0)\n",
    "    FILTRO_MINUTO_ATE = st.sidebar.slider(key='MIN_ATE', label='Minuto', min_value=0, max_value=59, value=0)"
   ]
  },
  {
   "cell_type": "code",
   "execution_count": null,
   "id": "56a5688b",
   "metadata": {},
   "outputs": [],
   "source": [
    "chartCols = st.columns(3)\n",
    "chartCols[0].plotly_chart(chartTemperature, use_container_width=True)\n",
    "chartCols[1].plotly_chart(chartUmidade, use_container_width=True)\n",
    "chartCols[2].plotly_chart(chartLuminosidade, use_container_width=True)\n",
    "\n",
    "chartCols = st.columns(3)\n",
    "chartCols[0].plotly_chart(chartRuido, use_container_width=True)\n",
    "chartCols[1].plotly_chart(chartCO2, use_container_width=True)\n",
    "chartCols[2].plotly_chart(chartTVOC, use_container_width=True)"
   ]
  },
  {
   "cell_type": "code",
   "execution_count": null,
   "id": "e140f1f7",
   "metadata": {},
   "outputs": [],
   "source": [
    "DF_TABLE = DF_AMV_FILTERED[[\n",
    "    'id',\n",
    "    'data',\n",
    "    'temperatura', 'umidade', 'luminosidade',\n",
    "    'ruido', 'eco2', 'etvoc',\n",
    "    'BAIRRO', \n",
    "    'F_PERIODO', 'F_HORA', 'F_MINUTO', \n",
    "    'F_DIA', 'F_MES', 'F_ANO', 'F_DIA_SEMANA'\n",
    "]]\n",
    "\n",
    "st.dataframe(\n",
    "    data=DF_TABLE, \n",
    "    use_container_width=True, \n",
    "    hide_index=True,\n",
    "    selection_mode=\"single-row\")"
   ]
  },
  {
   "cell_type": "code",
   "execution_count": null,
   "id": "491fd693",
   "metadata": {},
   "outputs": [],
   "source": [
    "chartCols = st.columns(1)\n",
    "chartCols[0].plotly_chart(chartMonitoramentoBairro, use_container_width=True)"
   ]
  },
  {
   "cell_type": "code",
   "execution_count": null,
   "id": "6bdbc1a9",
   "metadata": {},
   "outputs": [],
   "source": [
    "st.dataframe(\n",
    "    data=DF_AMV_RADAR_PLOT, \n",
    "    use_container_width=True, \n",
    "    hide_index=True,\n",
    "    selection_mode=\"single-row\")"
   ]
  }
 ],
 "metadata": {
  "kernelspec": {
   "display_name": "Python 3 (ipykernel)",
   "language": "python",
   "name": "python3"
  },
  "language_info": {
   "codemirror_mode": {
    "name": "ipython",
    "version": 3
   },
   "file_extension": ".py",
   "mimetype": "text/x-python",
   "name": "python",
   "nbconvert_exporter": "python",
   "pygments_lexer": "ipython3",
   "version": "3.12.4"
  }
 },
 "nbformat": 4,
 "nbformat_minor": 5
}
